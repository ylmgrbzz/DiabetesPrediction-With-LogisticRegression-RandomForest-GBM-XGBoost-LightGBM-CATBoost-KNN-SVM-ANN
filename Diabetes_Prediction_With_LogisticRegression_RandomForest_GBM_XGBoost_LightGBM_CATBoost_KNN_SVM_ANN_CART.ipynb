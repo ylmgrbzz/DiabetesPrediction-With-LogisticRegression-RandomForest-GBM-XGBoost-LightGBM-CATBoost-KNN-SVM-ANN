{
  "nbformat": 4,
  "nbformat_minor": 0,
  "metadata": {
    "colab": {
      "provenance": [],
      "authorship_tag": "ABX9TyOvlJc4K1U7+FJUAwUFWJd+",
      "include_colab_link": true
    },
    "kernelspec": {
      "name": "python3",
      "display_name": "Python 3"
    },
    "language_info": {
      "name": "python"
    }
  },
  "cells": [
    {
      "cell_type": "markdown",
      "metadata": {
        "id": "view-in-github",
        "colab_type": "text"
      },
      "source": [
        "<a href=\"https://colab.research.google.com/github/ylmgrbzz/DiabetesPrediction-With-LogisticRegression-RandomForest-GBM-XGBoost-LightGBM-CATBoost-KNN-SVM-ANN/blob/main/Diabetes_Prediction_With_LogisticRegression_RandomForest_GBM_XGBoost_LightGBM_CATBoost_KNN_SVM_ANN_CART.ipynb\" target=\"_parent\"><img src=\"https://colab.research.google.com/assets/colab-badge.svg\" alt=\"Open In Colab\"/></a>"
      ]
    },
    {
      "cell_type": "code",
      "execution_count": 1,
      "metadata": {
        "id": "dYXd5gG_n_4y"
      },
      "outputs": [],
      "source": [
        "import numpy as np\n",
        "import pandas as pd\n",
        "import seaborn as sns\n",
        "from sklearn.model_selection import train_test_split,GridSearchCV,cross_val_score\n",
        "from sklearn.metrics import confusion_matrix,accuracy_score,roc_auc_score,roc_curve,mean_squared_error, r2_score,classification_report\n",
        "import matplotlib.pyplot as plt\n",
        "from sklearn.preprocessing import scale\n",
        "from sklearn.preprocessing import StandardScaler\n",
        "from sklearn import model_selection\n",
        "from sklearn.linear_model import LogisticRegression\n",
        "from sklearn.tree import DecisionTreeClassifier\n",
        "from sklearn.neighbors import KNeighborsClassifier\n",
        "from sklearn.neural_network import MLPClassifier\n",
        "from sklearn.ensemble import RandomForestClassifier\n",
        "from sklearn.ensemble import GradientBoostingClassifier\n",
        "from sklearn import neighbors\n",
        "from sklearn.svm import SVC"
      ]
    },
    {
      "cell_type": "code",
      "source": [
        "from warnings import filterwarnings \n",
        "filterwarnings(\"ignore\")"
      ],
      "metadata": {
        "id": "FcxKRFeCoT5i"
      },
      "execution_count": 2,
      "outputs": []
    },
    {
      "cell_type": "code",
      "source": [
        "df = pd.read_csv(\"diabetes.csv\")\n",
        "df.head()"
      ],
      "metadata": {
        "colab": {
          "base_uri": "https://localhost:8080/",
          "height": 270
        },
        "id": "V_Sh_dk3oUsr",
        "outputId": "f1a9c724-eaa5-49f6-f428-a290d4d2fb18"
      },
      "execution_count": 3,
      "outputs": [
        {
          "output_type": "execute_result",
          "data": {
            "text/plain": [
              "   Pregnancies  Glucose  BloodPressure  SkinThickness  Insulin   BMI  \\\n",
              "0            6      148             72             35        0  33.6   \n",
              "1            1       85             66             29        0  26.6   \n",
              "2            8      183             64              0        0  23.3   \n",
              "3            1       89             66             23       94  28.1   \n",
              "4            0      137             40             35      168  43.1   \n",
              "\n",
              "   DiabetesPedigreeFunction  Age  Outcome  \n",
              "0                     0.627   50        1  \n",
              "1                     0.351   31        0  \n",
              "2                     0.672   32        1  \n",
              "3                     0.167   21        0  \n",
              "4                     2.288   33        1  "
            ],
            "text/html": [
              "\n",
              "  <div id=\"df-4c63b1c6-89ef-4bbc-a02a-f7dc8201b148\">\n",
              "    <div class=\"colab-df-container\">\n",
              "      <div>\n",
              "<style scoped>\n",
              "    .dataframe tbody tr th:only-of-type {\n",
              "        vertical-align: middle;\n",
              "    }\n",
              "\n",
              "    .dataframe tbody tr th {\n",
              "        vertical-align: top;\n",
              "    }\n",
              "\n",
              "    .dataframe thead th {\n",
              "        text-align: right;\n",
              "    }\n",
              "</style>\n",
              "<table border=\"1\" class=\"dataframe\">\n",
              "  <thead>\n",
              "    <tr style=\"text-align: right;\">\n",
              "      <th></th>\n",
              "      <th>Pregnancies</th>\n",
              "      <th>Glucose</th>\n",
              "      <th>BloodPressure</th>\n",
              "      <th>SkinThickness</th>\n",
              "      <th>Insulin</th>\n",
              "      <th>BMI</th>\n",
              "      <th>DiabetesPedigreeFunction</th>\n",
              "      <th>Age</th>\n",
              "      <th>Outcome</th>\n",
              "    </tr>\n",
              "  </thead>\n",
              "  <tbody>\n",
              "    <tr>\n",
              "      <th>0</th>\n",
              "      <td>6</td>\n",
              "      <td>148</td>\n",
              "      <td>72</td>\n",
              "      <td>35</td>\n",
              "      <td>0</td>\n",
              "      <td>33.6</td>\n",
              "      <td>0.627</td>\n",
              "      <td>50</td>\n",
              "      <td>1</td>\n",
              "    </tr>\n",
              "    <tr>\n",
              "      <th>1</th>\n",
              "      <td>1</td>\n",
              "      <td>85</td>\n",
              "      <td>66</td>\n",
              "      <td>29</td>\n",
              "      <td>0</td>\n",
              "      <td>26.6</td>\n",
              "      <td>0.351</td>\n",
              "      <td>31</td>\n",
              "      <td>0</td>\n",
              "    </tr>\n",
              "    <tr>\n",
              "      <th>2</th>\n",
              "      <td>8</td>\n",
              "      <td>183</td>\n",
              "      <td>64</td>\n",
              "      <td>0</td>\n",
              "      <td>0</td>\n",
              "      <td>23.3</td>\n",
              "      <td>0.672</td>\n",
              "      <td>32</td>\n",
              "      <td>1</td>\n",
              "    </tr>\n",
              "    <tr>\n",
              "      <th>3</th>\n",
              "      <td>1</td>\n",
              "      <td>89</td>\n",
              "      <td>66</td>\n",
              "      <td>23</td>\n",
              "      <td>94</td>\n",
              "      <td>28.1</td>\n",
              "      <td>0.167</td>\n",
              "      <td>21</td>\n",
              "      <td>0</td>\n",
              "    </tr>\n",
              "    <tr>\n",
              "      <th>4</th>\n",
              "      <td>0</td>\n",
              "      <td>137</td>\n",
              "      <td>40</td>\n",
              "      <td>35</td>\n",
              "      <td>168</td>\n",
              "      <td>43.1</td>\n",
              "      <td>2.288</td>\n",
              "      <td>33</td>\n",
              "      <td>1</td>\n",
              "    </tr>\n",
              "  </tbody>\n",
              "</table>\n",
              "</div>\n",
              "      <button class=\"colab-df-convert\" onclick=\"convertToInteractive('df-4c63b1c6-89ef-4bbc-a02a-f7dc8201b148')\"\n",
              "              title=\"Convert this dataframe to an interactive table.\"\n",
              "              style=\"display:none;\">\n",
              "        \n",
              "  <svg xmlns=\"http://www.w3.org/2000/svg\" height=\"24px\"viewBox=\"0 0 24 24\"\n",
              "       width=\"24px\">\n",
              "    <path d=\"M0 0h24v24H0V0z\" fill=\"none\"/>\n",
              "    <path d=\"M18.56 5.44l.94 2.06.94-2.06 2.06-.94-2.06-.94-.94-2.06-.94 2.06-2.06.94zm-11 1L8.5 8.5l.94-2.06 2.06-.94-2.06-.94L8.5 2.5l-.94 2.06-2.06.94zm10 10l.94 2.06.94-2.06 2.06-.94-2.06-.94-.94-2.06-.94 2.06-2.06.94z\"/><path d=\"M17.41 7.96l-1.37-1.37c-.4-.4-.92-.59-1.43-.59-.52 0-1.04.2-1.43.59L10.3 9.45l-7.72 7.72c-.78.78-.78 2.05 0 2.83L4 21.41c.39.39.9.59 1.41.59.51 0 1.02-.2 1.41-.59l7.78-7.78 2.81-2.81c.8-.78.8-2.07 0-2.86zM5.41 20L4 18.59l7.72-7.72 1.47 1.35L5.41 20z\"/>\n",
              "  </svg>\n",
              "      </button>\n",
              "      \n",
              "  <style>\n",
              "    .colab-df-container {\n",
              "      display:flex;\n",
              "      flex-wrap:wrap;\n",
              "      gap: 12px;\n",
              "    }\n",
              "\n",
              "    .colab-df-convert {\n",
              "      background-color: #E8F0FE;\n",
              "      border: none;\n",
              "      border-radius: 50%;\n",
              "      cursor: pointer;\n",
              "      display: none;\n",
              "      fill: #1967D2;\n",
              "      height: 32px;\n",
              "      padding: 0 0 0 0;\n",
              "      width: 32px;\n",
              "    }\n",
              "\n",
              "    .colab-df-convert:hover {\n",
              "      background-color: #E2EBFA;\n",
              "      box-shadow: 0px 1px 2px rgba(60, 64, 67, 0.3), 0px 1px 3px 1px rgba(60, 64, 67, 0.15);\n",
              "      fill: #174EA6;\n",
              "    }\n",
              "\n",
              "    [theme=dark] .colab-df-convert {\n",
              "      background-color: #3B4455;\n",
              "      fill: #D2E3FC;\n",
              "    }\n",
              "\n",
              "    [theme=dark] .colab-df-convert:hover {\n",
              "      background-color: #434B5C;\n",
              "      box-shadow: 0px 1px 3px 1px rgba(0, 0, 0, 0.15);\n",
              "      filter: drop-shadow(0px 1px 2px rgba(0, 0, 0, 0.3));\n",
              "      fill: #FFFFFF;\n",
              "    }\n",
              "  </style>\n",
              "\n",
              "      <script>\n",
              "        const buttonEl =\n",
              "          document.querySelector('#df-4c63b1c6-89ef-4bbc-a02a-f7dc8201b148 button.colab-df-convert');\n",
              "        buttonEl.style.display =\n",
              "          google.colab.kernel.accessAllowed ? 'block' : 'none';\n",
              "\n",
              "        async function convertToInteractive(key) {\n",
              "          const element = document.querySelector('#df-4c63b1c6-89ef-4bbc-a02a-f7dc8201b148');\n",
              "          const dataTable =\n",
              "            await google.colab.kernel.invokeFunction('convertToInteractive',\n",
              "                                                     [key], {});\n",
              "          if (!dataTable) return;\n",
              "\n",
              "          const docLinkHtml = 'Like what you see? Visit the ' +\n",
              "            '<a target=\"_blank\" href=https://colab.research.google.com/notebooks/data_table.ipynb>data table notebook</a>'\n",
              "            + ' to learn more about interactive tables.';\n",
              "          element.innerHTML = '';\n",
              "          dataTable['output_type'] = 'display_data';\n",
              "          await google.colab.output.renderOutput(dataTable, element);\n",
              "          const docLink = document.createElement('div');\n",
              "          docLink.innerHTML = docLinkHtml;\n",
              "          element.appendChild(docLink);\n",
              "        }\n",
              "      </script>\n",
              "    </div>\n",
              "  </div>\n",
              "  "
            ]
          },
          "metadata": {},
          "execution_count": 3
        }
      ]
    },
    {
      "cell_type": "code",
      "source": [
        "df[\"Outcome\"].value_counts()\n"
      ],
      "metadata": {
        "colab": {
          "base_uri": "https://localhost:8080/"
        },
        "id": "KZTL4bZzoauh",
        "outputId": "c2b2a81a-e845-4651-fc4e-ccb067b3ff37"
      },
      "execution_count": 4,
      "outputs": [
        {
          "output_type": "execute_result",
          "data": {
            "text/plain": [
              "0    500\n",
              "1    268\n",
              "Name: Outcome, dtype: int64"
            ]
          },
          "metadata": {},
          "execution_count": 4
        }
      ]
    },
    {
      "cell_type": "code",
      "source": [
        "df.describe().T\n"
      ],
      "metadata": {
        "colab": {
          "base_uri": "https://localhost:8080/",
          "height": 332
        },
        "id": "8rIp4clSobzG",
        "outputId": "fc75ac43-d4d1-40dc-9006-a9e59529ed9f"
      },
      "execution_count": 5,
      "outputs": [
        {
          "output_type": "execute_result",
          "data": {
            "text/plain": [
              "                          count        mean         std     min       25%  \\\n",
              "Pregnancies               768.0    3.845052    3.369578   0.000   1.00000   \n",
              "Glucose                   768.0  120.894531   31.972618   0.000  99.00000   \n",
              "BloodPressure             768.0   69.105469   19.355807   0.000  62.00000   \n",
              "SkinThickness             768.0   20.536458   15.952218   0.000   0.00000   \n",
              "Insulin                   768.0   79.799479  115.244002   0.000   0.00000   \n",
              "BMI                       768.0   31.992578    7.884160   0.000  27.30000   \n",
              "DiabetesPedigreeFunction  768.0    0.471876    0.331329   0.078   0.24375   \n",
              "Age                       768.0   33.240885   11.760232  21.000  24.00000   \n",
              "Outcome                   768.0    0.348958    0.476951   0.000   0.00000   \n",
              "\n",
              "                               50%        75%     max  \n",
              "Pregnancies                 3.0000    6.00000   17.00  \n",
              "Glucose                   117.0000  140.25000  199.00  \n",
              "BloodPressure              72.0000   80.00000  122.00  \n",
              "SkinThickness              23.0000   32.00000   99.00  \n",
              "Insulin                    30.5000  127.25000  846.00  \n",
              "BMI                        32.0000   36.60000   67.10  \n",
              "DiabetesPedigreeFunction    0.3725    0.62625    2.42  \n",
              "Age                        29.0000   41.00000   81.00  \n",
              "Outcome                     0.0000    1.00000    1.00  "
            ],
            "text/html": [
              "\n",
              "  <div id=\"df-93033e17-197b-4024-bc72-c1b84184405d\">\n",
              "    <div class=\"colab-df-container\">\n",
              "      <div>\n",
              "<style scoped>\n",
              "    .dataframe tbody tr th:only-of-type {\n",
              "        vertical-align: middle;\n",
              "    }\n",
              "\n",
              "    .dataframe tbody tr th {\n",
              "        vertical-align: top;\n",
              "    }\n",
              "\n",
              "    .dataframe thead th {\n",
              "        text-align: right;\n",
              "    }\n",
              "</style>\n",
              "<table border=\"1\" class=\"dataframe\">\n",
              "  <thead>\n",
              "    <tr style=\"text-align: right;\">\n",
              "      <th></th>\n",
              "      <th>count</th>\n",
              "      <th>mean</th>\n",
              "      <th>std</th>\n",
              "      <th>min</th>\n",
              "      <th>25%</th>\n",
              "      <th>50%</th>\n",
              "      <th>75%</th>\n",
              "      <th>max</th>\n",
              "    </tr>\n",
              "  </thead>\n",
              "  <tbody>\n",
              "    <tr>\n",
              "      <th>Pregnancies</th>\n",
              "      <td>768.0</td>\n",
              "      <td>3.845052</td>\n",
              "      <td>3.369578</td>\n",
              "      <td>0.000</td>\n",
              "      <td>1.00000</td>\n",
              "      <td>3.0000</td>\n",
              "      <td>6.00000</td>\n",
              "      <td>17.00</td>\n",
              "    </tr>\n",
              "    <tr>\n",
              "      <th>Glucose</th>\n",
              "      <td>768.0</td>\n",
              "      <td>120.894531</td>\n",
              "      <td>31.972618</td>\n",
              "      <td>0.000</td>\n",
              "      <td>99.00000</td>\n",
              "      <td>117.0000</td>\n",
              "      <td>140.25000</td>\n",
              "      <td>199.00</td>\n",
              "    </tr>\n",
              "    <tr>\n",
              "      <th>BloodPressure</th>\n",
              "      <td>768.0</td>\n",
              "      <td>69.105469</td>\n",
              "      <td>19.355807</td>\n",
              "      <td>0.000</td>\n",
              "      <td>62.00000</td>\n",
              "      <td>72.0000</td>\n",
              "      <td>80.00000</td>\n",
              "      <td>122.00</td>\n",
              "    </tr>\n",
              "    <tr>\n",
              "      <th>SkinThickness</th>\n",
              "      <td>768.0</td>\n",
              "      <td>20.536458</td>\n",
              "      <td>15.952218</td>\n",
              "      <td>0.000</td>\n",
              "      <td>0.00000</td>\n",
              "      <td>23.0000</td>\n",
              "      <td>32.00000</td>\n",
              "      <td>99.00</td>\n",
              "    </tr>\n",
              "    <tr>\n",
              "      <th>Insulin</th>\n",
              "      <td>768.0</td>\n",
              "      <td>79.799479</td>\n",
              "      <td>115.244002</td>\n",
              "      <td>0.000</td>\n",
              "      <td>0.00000</td>\n",
              "      <td>30.5000</td>\n",
              "      <td>127.25000</td>\n",
              "      <td>846.00</td>\n",
              "    </tr>\n",
              "    <tr>\n",
              "      <th>BMI</th>\n",
              "      <td>768.0</td>\n",
              "      <td>31.992578</td>\n",
              "      <td>7.884160</td>\n",
              "      <td>0.000</td>\n",
              "      <td>27.30000</td>\n",
              "      <td>32.0000</td>\n",
              "      <td>36.60000</td>\n",
              "      <td>67.10</td>\n",
              "    </tr>\n",
              "    <tr>\n",
              "      <th>DiabetesPedigreeFunction</th>\n",
              "      <td>768.0</td>\n",
              "      <td>0.471876</td>\n",
              "      <td>0.331329</td>\n",
              "      <td>0.078</td>\n",
              "      <td>0.24375</td>\n",
              "      <td>0.3725</td>\n",
              "      <td>0.62625</td>\n",
              "      <td>2.42</td>\n",
              "    </tr>\n",
              "    <tr>\n",
              "      <th>Age</th>\n",
              "      <td>768.0</td>\n",
              "      <td>33.240885</td>\n",
              "      <td>11.760232</td>\n",
              "      <td>21.000</td>\n",
              "      <td>24.00000</td>\n",
              "      <td>29.0000</td>\n",
              "      <td>41.00000</td>\n",
              "      <td>81.00</td>\n",
              "    </tr>\n",
              "    <tr>\n",
              "      <th>Outcome</th>\n",
              "      <td>768.0</td>\n",
              "      <td>0.348958</td>\n",
              "      <td>0.476951</td>\n",
              "      <td>0.000</td>\n",
              "      <td>0.00000</td>\n",
              "      <td>0.0000</td>\n",
              "      <td>1.00000</td>\n",
              "      <td>1.00</td>\n",
              "    </tr>\n",
              "  </tbody>\n",
              "</table>\n",
              "</div>\n",
              "      <button class=\"colab-df-convert\" onclick=\"convertToInteractive('df-93033e17-197b-4024-bc72-c1b84184405d')\"\n",
              "              title=\"Convert this dataframe to an interactive table.\"\n",
              "              style=\"display:none;\">\n",
              "        \n",
              "  <svg xmlns=\"http://www.w3.org/2000/svg\" height=\"24px\"viewBox=\"0 0 24 24\"\n",
              "       width=\"24px\">\n",
              "    <path d=\"M0 0h24v24H0V0z\" fill=\"none\"/>\n",
              "    <path d=\"M18.56 5.44l.94 2.06.94-2.06 2.06-.94-2.06-.94-.94-2.06-.94 2.06-2.06.94zm-11 1L8.5 8.5l.94-2.06 2.06-.94-2.06-.94L8.5 2.5l-.94 2.06-2.06.94zm10 10l.94 2.06.94-2.06 2.06-.94-2.06-.94-.94-2.06-.94 2.06-2.06.94z\"/><path d=\"M17.41 7.96l-1.37-1.37c-.4-.4-.92-.59-1.43-.59-.52 0-1.04.2-1.43.59L10.3 9.45l-7.72 7.72c-.78.78-.78 2.05 0 2.83L4 21.41c.39.39.9.59 1.41.59.51 0 1.02-.2 1.41-.59l7.78-7.78 2.81-2.81c.8-.78.8-2.07 0-2.86zM5.41 20L4 18.59l7.72-7.72 1.47 1.35L5.41 20z\"/>\n",
              "  </svg>\n",
              "      </button>\n",
              "      \n",
              "  <style>\n",
              "    .colab-df-container {\n",
              "      display:flex;\n",
              "      flex-wrap:wrap;\n",
              "      gap: 12px;\n",
              "    }\n",
              "\n",
              "    .colab-df-convert {\n",
              "      background-color: #E8F0FE;\n",
              "      border: none;\n",
              "      border-radius: 50%;\n",
              "      cursor: pointer;\n",
              "      display: none;\n",
              "      fill: #1967D2;\n",
              "      height: 32px;\n",
              "      padding: 0 0 0 0;\n",
              "      width: 32px;\n",
              "    }\n",
              "\n",
              "    .colab-df-convert:hover {\n",
              "      background-color: #E2EBFA;\n",
              "      box-shadow: 0px 1px 2px rgba(60, 64, 67, 0.3), 0px 1px 3px 1px rgba(60, 64, 67, 0.15);\n",
              "      fill: #174EA6;\n",
              "    }\n",
              "\n",
              "    [theme=dark] .colab-df-convert {\n",
              "      background-color: #3B4455;\n",
              "      fill: #D2E3FC;\n",
              "    }\n",
              "\n",
              "    [theme=dark] .colab-df-convert:hover {\n",
              "      background-color: #434B5C;\n",
              "      box-shadow: 0px 1px 3px 1px rgba(0, 0, 0, 0.15);\n",
              "      filter: drop-shadow(0px 1px 2px rgba(0, 0, 0, 0.3));\n",
              "      fill: #FFFFFF;\n",
              "    }\n",
              "  </style>\n",
              "\n",
              "      <script>\n",
              "        const buttonEl =\n",
              "          document.querySelector('#df-93033e17-197b-4024-bc72-c1b84184405d button.colab-df-convert');\n",
              "        buttonEl.style.display =\n",
              "          google.colab.kernel.accessAllowed ? 'block' : 'none';\n",
              "\n",
              "        async function convertToInteractive(key) {\n",
              "          const element = document.querySelector('#df-93033e17-197b-4024-bc72-c1b84184405d');\n",
              "          const dataTable =\n",
              "            await google.colab.kernel.invokeFunction('convertToInteractive',\n",
              "                                                     [key], {});\n",
              "          if (!dataTable) return;\n",
              "\n",
              "          const docLinkHtml = 'Like what you see? Visit the ' +\n",
              "            '<a target=\"_blank\" href=https://colab.research.google.com/notebooks/data_table.ipynb>data table notebook</a>'\n",
              "            + ' to learn more about interactive tables.';\n",
              "          element.innerHTML = '';\n",
              "          dataTable['output_type'] = 'display_data';\n",
              "          await google.colab.output.renderOutput(dataTable, element);\n",
              "          const docLink = document.createElement('div');\n",
              "          docLink.innerHTML = docLinkHtml;\n",
              "          element.appendChild(docLink);\n",
              "        }\n",
              "      </script>\n",
              "    </div>\n",
              "  </div>\n",
              "  "
            ]
          },
          "metadata": {},
          "execution_count": 5
        }
      ]
    },
    {
      "cell_type": "code",
      "source": [
        "y = df[\"Outcome\"]\n",
        "X = df.drop([\"Outcome\"],axis = 1)"
      ],
      "metadata": {
        "id": "V0yef4EdodkS"
      },
      "execution_count": 6,
      "outputs": []
    },
    {
      "cell_type": "code",
      "source": [
        "y.head()\n"
      ],
      "metadata": {
        "colab": {
          "base_uri": "https://localhost:8080/"
        },
        "id": "_LkHRD3vod3r",
        "outputId": "c6553c63-95cf-44cf-9797-282c51079730"
      },
      "execution_count": 7,
      "outputs": [
        {
          "output_type": "execute_result",
          "data": {
            "text/plain": [
              "0    1\n",
              "1    0\n",
              "2    1\n",
              "3    0\n",
              "4    1\n",
              "Name: Outcome, dtype: int64"
            ]
          },
          "metadata": {},
          "execution_count": 7
        }
      ]
    },
    {
      "cell_type": "code",
      "source": [
        "X.head()\n"
      ],
      "metadata": {
        "colab": {
          "base_uri": "https://localhost:8080/",
          "height": 206
        },
        "id": "6n8Iyp_4ogvy",
        "outputId": "8fa94cd1-ad6a-46e9-99d4-4829f9c154d8"
      },
      "execution_count": 8,
      "outputs": [
        {
          "output_type": "execute_result",
          "data": {
            "text/plain": [
              "   Pregnancies  Glucose  BloodPressure  SkinThickness  Insulin   BMI  \\\n",
              "0            6      148             72             35        0  33.6   \n",
              "1            1       85             66             29        0  26.6   \n",
              "2            8      183             64              0        0  23.3   \n",
              "3            1       89             66             23       94  28.1   \n",
              "4            0      137             40             35      168  43.1   \n",
              "\n",
              "   DiabetesPedigreeFunction  Age  \n",
              "0                     0.627   50  \n",
              "1                     0.351   31  \n",
              "2                     0.672   32  \n",
              "3                     0.167   21  \n",
              "4                     2.288   33  "
            ],
            "text/html": [
              "\n",
              "  <div id=\"df-368732a8-6b71-41b6-bc10-d62c402b3e6d\">\n",
              "    <div class=\"colab-df-container\">\n",
              "      <div>\n",
              "<style scoped>\n",
              "    .dataframe tbody tr th:only-of-type {\n",
              "        vertical-align: middle;\n",
              "    }\n",
              "\n",
              "    .dataframe tbody tr th {\n",
              "        vertical-align: top;\n",
              "    }\n",
              "\n",
              "    .dataframe thead th {\n",
              "        text-align: right;\n",
              "    }\n",
              "</style>\n",
              "<table border=\"1\" class=\"dataframe\">\n",
              "  <thead>\n",
              "    <tr style=\"text-align: right;\">\n",
              "      <th></th>\n",
              "      <th>Pregnancies</th>\n",
              "      <th>Glucose</th>\n",
              "      <th>BloodPressure</th>\n",
              "      <th>SkinThickness</th>\n",
              "      <th>Insulin</th>\n",
              "      <th>BMI</th>\n",
              "      <th>DiabetesPedigreeFunction</th>\n",
              "      <th>Age</th>\n",
              "    </tr>\n",
              "  </thead>\n",
              "  <tbody>\n",
              "    <tr>\n",
              "      <th>0</th>\n",
              "      <td>6</td>\n",
              "      <td>148</td>\n",
              "      <td>72</td>\n",
              "      <td>35</td>\n",
              "      <td>0</td>\n",
              "      <td>33.6</td>\n",
              "      <td>0.627</td>\n",
              "      <td>50</td>\n",
              "    </tr>\n",
              "    <tr>\n",
              "      <th>1</th>\n",
              "      <td>1</td>\n",
              "      <td>85</td>\n",
              "      <td>66</td>\n",
              "      <td>29</td>\n",
              "      <td>0</td>\n",
              "      <td>26.6</td>\n",
              "      <td>0.351</td>\n",
              "      <td>31</td>\n",
              "    </tr>\n",
              "    <tr>\n",
              "      <th>2</th>\n",
              "      <td>8</td>\n",
              "      <td>183</td>\n",
              "      <td>64</td>\n",
              "      <td>0</td>\n",
              "      <td>0</td>\n",
              "      <td>23.3</td>\n",
              "      <td>0.672</td>\n",
              "      <td>32</td>\n",
              "    </tr>\n",
              "    <tr>\n",
              "      <th>3</th>\n",
              "      <td>1</td>\n",
              "      <td>89</td>\n",
              "      <td>66</td>\n",
              "      <td>23</td>\n",
              "      <td>94</td>\n",
              "      <td>28.1</td>\n",
              "      <td>0.167</td>\n",
              "      <td>21</td>\n",
              "    </tr>\n",
              "    <tr>\n",
              "      <th>4</th>\n",
              "      <td>0</td>\n",
              "      <td>137</td>\n",
              "      <td>40</td>\n",
              "      <td>35</td>\n",
              "      <td>168</td>\n",
              "      <td>43.1</td>\n",
              "      <td>2.288</td>\n",
              "      <td>33</td>\n",
              "    </tr>\n",
              "  </tbody>\n",
              "</table>\n",
              "</div>\n",
              "      <button class=\"colab-df-convert\" onclick=\"convertToInteractive('df-368732a8-6b71-41b6-bc10-d62c402b3e6d')\"\n",
              "              title=\"Convert this dataframe to an interactive table.\"\n",
              "              style=\"display:none;\">\n",
              "        \n",
              "  <svg xmlns=\"http://www.w3.org/2000/svg\" height=\"24px\"viewBox=\"0 0 24 24\"\n",
              "       width=\"24px\">\n",
              "    <path d=\"M0 0h24v24H0V0z\" fill=\"none\"/>\n",
              "    <path d=\"M18.56 5.44l.94 2.06.94-2.06 2.06-.94-2.06-.94-.94-2.06-.94 2.06-2.06.94zm-11 1L8.5 8.5l.94-2.06 2.06-.94-2.06-.94L8.5 2.5l-.94 2.06-2.06.94zm10 10l.94 2.06.94-2.06 2.06-.94-2.06-.94-.94-2.06-.94 2.06-2.06.94z\"/><path d=\"M17.41 7.96l-1.37-1.37c-.4-.4-.92-.59-1.43-.59-.52 0-1.04.2-1.43.59L10.3 9.45l-7.72 7.72c-.78.78-.78 2.05 0 2.83L4 21.41c.39.39.9.59 1.41.59.51 0 1.02-.2 1.41-.59l7.78-7.78 2.81-2.81c.8-.78.8-2.07 0-2.86zM5.41 20L4 18.59l7.72-7.72 1.47 1.35L5.41 20z\"/>\n",
              "  </svg>\n",
              "      </button>\n",
              "      \n",
              "  <style>\n",
              "    .colab-df-container {\n",
              "      display:flex;\n",
              "      flex-wrap:wrap;\n",
              "      gap: 12px;\n",
              "    }\n",
              "\n",
              "    .colab-df-convert {\n",
              "      background-color: #E8F0FE;\n",
              "      border: none;\n",
              "      border-radius: 50%;\n",
              "      cursor: pointer;\n",
              "      display: none;\n",
              "      fill: #1967D2;\n",
              "      height: 32px;\n",
              "      padding: 0 0 0 0;\n",
              "      width: 32px;\n",
              "    }\n",
              "\n",
              "    .colab-df-convert:hover {\n",
              "      background-color: #E2EBFA;\n",
              "      box-shadow: 0px 1px 2px rgba(60, 64, 67, 0.3), 0px 1px 3px 1px rgba(60, 64, 67, 0.15);\n",
              "      fill: #174EA6;\n",
              "    }\n",
              "\n",
              "    [theme=dark] .colab-df-convert {\n",
              "      background-color: #3B4455;\n",
              "      fill: #D2E3FC;\n",
              "    }\n",
              "\n",
              "    [theme=dark] .colab-df-convert:hover {\n",
              "      background-color: #434B5C;\n",
              "      box-shadow: 0px 1px 3px 1px rgba(0, 0, 0, 0.15);\n",
              "      filter: drop-shadow(0px 1px 2px rgba(0, 0, 0, 0.3));\n",
              "      fill: #FFFFFF;\n",
              "    }\n",
              "  </style>\n",
              "\n",
              "      <script>\n",
              "        const buttonEl =\n",
              "          document.querySelector('#df-368732a8-6b71-41b6-bc10-d62c402b3e6d button.colab-df-convert');\n",
              "        buttonEl.style.display =\n",
              "          google.colab.kernel.accessAllowed ? 'block' : 'none';\n",
              "\n",
              "        async function convertToInteractive(key) {\n",
              "          const element = document.querySelector('#df-368732a8-6b71-41b6-bc10-d62c402b3e6d');\n",
              "          const dataTable =\n",
              "            await google.colab.kernel.invokeFunction('convertToInteractive',\n",
              "                                                     [key], {});\n",
              "          if (!dataTable) return;\n",
              "\n",
              "          const docLinkHtml = 'Like what you see? Visit the ' +\n",
              "            '<a target=\"_blank\" href=https://colab.research.google.com/notebooks/data_table.ipynb>data table notebook</a>'\n",
              "            + ' to learn more about interactive tables.';\n",
              "          element.innerHTML = '';\n",
              "          dataTable['output_type'] = 'display_data';\n",
              "          await google.colab.output.renderOutput(dataTable, element);\n",
              "          const docLink = document.createElement('div');\n",
              "          docLink.innerHTML = docLinkHtml;\n",
              "          element.appendChild(docLink);\n",
              "        }\n",
              "      </script>\n",
              "    </div>\n",
              "  </div>\n",
              "  "
            ]
          },
          "metadata": {},
          "execution_count": 8
        }
      ]
    },
    {
      "cell_type": "code",
      "source": [
        "loj_model = LogisticRegression(solver = \"liblinear\").fit(X,y)\n"
      ],
      "metadata": {
        "id": "zHPnPyW2oiji"
      },
      "execution_count": 9,
      "outputs": []
    },
    {
      "cell_type": "code",
      "source": [
        "loj_model.intercept_\n"
      ],
      "metadata": {
        "colab": {
          "base_uri": "https://localhost:8080/"
        },
        "id": "UYuWDK7YojZM",
        "outputId": "9aeeaf8c-733a-4d64-8865-b7d813819bcc"
      },
      "execution_count": 10,
      "outputs": [
        {
          "output_type": "execute_result",
          "data": {
            "text/plain": [
              "array([-5.89182337])"
            ]
          },
          "metadata": {},
          "execution_count": 10
        }
      ]
    },
    {
      "cell_type": "code",
      "source": [
        "loj_model.coef_\n"
      ],
      "metadata": {
        "colab": {
          "base_uri": "https://localhost:8080/"
        },
        "id": "cJHAav9jokcy",
        "outputId": "1581c064-4062-492b-dccd-27213f5b705e"
      },
      "execution_count": 11,
      "outputs": [
        {
          "output_type": "execute_result",
          "data": {
            "text/plain": [
              "array([[ 1.17051909e-01,  2.83882398e-02, -1.68895484e-02,\n",
              "         7.55589576e-04, -6.42808920e-04,  5.97634539e-02,\n",
              "         6.77607988e-01,  7.24042917e-03]])"
            ]
          },
          "metadata": {},
          "execution_count": 11
        }
      ]
    },
    {
      "cell_type": "code",
      "source": [
        "\n",
        "loj_model.predict(X)[0:10]\n"
      ],
      "metadata": {
        "colab": {
          "base_uri": "https://localhost:8080/"
        },
        "id": "TLMtNsJrolP5",
        "outputId": "455d274e-f2ed-4b31-f59a-5be3c5eb7115"
      },
      "execution_count": 12,
      "outputs": [
        {
          "output_type": "execute_result",
          "data": {
            "text/plain": [
              "array([1, 0, 1, 0, 1, 0, 0, 1, 1, 0])"
            ]
          },
          "metadata": {},
          "execution_count": 12
        }
      ]
    },
    {
      "cell_type": "code",
      "source": [
        "\n",
        "y[0:10]\n"
      ],
      "metadata": {
        "colab": {
          "base_uri": "https://localhost:8080/"
        },
        "id": "D1bwWfDWomWK",
        "outputId": "d437de7e-1f77-4c4a-e3ca-7f98263e84e2"
      },
      "execution_count": 13,
      "outputs": [
        {
          "output_type": "execute_result",
          "data": {
            "text/plain": [
              "0    1\n",
              "1    0\n",
              "2    1\n",
              "3    0\n",
              "4    1\n",
              "5    0\n",
              "6    1\n",
              "7    0\n",
              "8    1\n",
              "9    1\n",
              "Name: Outcome, dtype: int64"
            ]
          },
          "metadata": {},
          "execution_count": 13
        }
      ]
    },
    {
      "cell_type": "code",
      "source": [
        "y_pred=loj_model.predict(X)\n"
      ],
      "metadata": {
        "id": "DpNGHNaConot"
      },
      "execution_count": 14,
      "outputs": []
    },
    {
      "cell_type": "code",
      "source": [
        "confusion_matrix(y,y_pred)\n"
      ],
      "metadata": {
        "colab": {
          "base_uri": "https://localhost:8080/"
        },
        "id": "psc8DuODooeh",
        "outputId": "0293f8e2-d658-49d1-8b18-b52ad61cb5ab"
      },
      "execution_count": 15,
      "outputs": [
        {
          "output_type": "execute_result",
          "data": {
            "text/plain": [
              "array([[448,  52],\n",
              "       [121, 147]])"
            ]
          },
          "metadata": {},
          "execution_count": 15
        }
      ]
    },
    {
      "cell_type": "code",
      "source": [
        "accuracy_score(y,y_pred) \n"
      ],
      "metadata": {
        "colab": {
          "base_uri": "https://localhost:8080/"
        },
        "id": "Odmv01IdopdZ",
        "outputId": "dd4e6dc7-f0e5-4f60-920e-3cabab1603ae"
      },
      "execution_count": 16,
      "outputs": [
        {
          "output_type": "execute_result",
          "data": {
            "text/plain": [
              "0.7747395833333334"
            ]
          },
          "metadata": {},
          "execution_count": 16
        }
      ]
    },
    {
      "cell_type": "code",
      "source": [
        "print(classification_report(y,y_pred))\n"
      ],
      "metadata": {
        "colab": {
          "base_uri": "https://localhost:8080/"
        },
        "id": "Riuqt2kiorlR",
        "outputId": "7e764671-0028-4530-bb8d-c85523162fbd"
      },
      "execution_count": 17,
      "outputs": [
        {
          "output_type": "stream",
          "name": "stdout",
          "text": [
            "              precision    recall  f1-score   support\n",
            "\n",
            "           0       0.79      0.90      0.84       500\n",
            "           1       0.74      0.55      0.63       268\n",
            "\n",
            "    accuracy                           0.77       768\n",
            "   macro avg       0.76      0.72      0.73       768\n",
            "weighted avg       0.77      0.77      0.77       768\n",
            "\n"
          ]
        }
      ]
    },
    {
      "cell_type": "code",
      "source": [
        "X_train,X_test,y_train,y_test = train_test_split(X,y, test_size=0.30,  random_state=42)"
      ],
      "metadata": {
        "id": "FPbTfgbbouEN"
      },
      "execution_count": 18,
      "outputs": []
    },
    {
      "cell_type": "code",
      "source": [
        "loj_model = LogisticRegression(solver = \"liblinear\").fit(X_train,y_train)\n"
      ],
      "metadata": {
        "id": "5utWg7kGoxMx"
      },
      "execution_count": 19,
      "outputs": []
    },
    {
      "cell_type": "code",
      "source": [
        "y_pred = loj_model.predict(X_test)\n"
      ],
      "metadata": {
        "id": "H5S4SgfPoz6b"
      },
      "execution_count": 20,
      "outputs": []
    },
    {
      "cell_type": "code",
      "source": [
        "print(accuracy_score(y_test,y_pred))\n"
      ],
      "metadata": {
        "colab": {
          "base_uri": "https://localhost:8080/"
        },
        "id": "kfZXTRwKo1o6",
        "outputId": "dcf837a0-9438-4dd6-a33f-de86355883b2"
      },
      "execution_count": 21,
      "outputs": [
        {
          "output_type": "stream",
          "name": "stdout",
          "text": [
            "0.7532467532467533\n"
          ]
        }
      ]
    },
    {
      "cell_type": "code",
      "source": [
        "cross_val_score(loj_model,X_test,y_test,cv=10).mean()\n"
      ],
      "metadata": {
        "colab": {
          "base_uri": "https://localhost:8080/"
        },
        "id": "48Xq4dqEo5uv",
        "outputId": "7cffa9d7-9fb1-401b-c171-f84c556fb632"
      },
      "execution_count": 22,
      "outputs": [
        {
          "output_type": "execute_result",
          "data": {
            "text/plain": [
              "0.7748188405797102"
            ]
          },
          "metadata": {},
          "execution_count": 22
        }
      ]
    },
    {
      "cell_type": "code",
      "source": [
        "knn_model = KNeighborsClassifier().fit(X_train,y_train)\n"
      ],
      "metadata": {
        "id": "ZNFuZcM0qjf9"
      },
      "execution_count": 23,
      "outputs": []
    },
    {
      "cell_type": "code",
      "source": [
        "knn_model\n"
      ],
      "metadata": {
        "colab": {
          "base_uri": "https://localhost:8080/"
        },
        "id": "ovBMjZAmqkgt",
        "outputId": "bbcbb6ac-aeec-479c-cc07-f44fd55dca66"
      },
      "execution_count": 24,
      "outputs": [
        {
          "output_type": "execute_result",
          "data": {
            "text/plain": [
              "KNeighborsClassifier()"
            ]
          },
          "metadata": {},
          "execution_count": 24
        }
      ]
    },
    {
      "cell_type": "code",
      "source": [
        "y_pred=knn_model.predict(X_test)\n"
      ],
      "metadata": {
        "id": "5mEqPSFJqk2q"
      },
      "execution_count": 25,
      "outputs": []
    },
    {
      "cell_type": "code",
      "source": [
        "\n",
        "\n",
        "\n",
        "print(accuracy_score(y_test,y_pred))\n"
      ],
      "metadata": {
        "colab": {
          "base_uri": "https://localhost:8080/"
        },
        "id": "lI2KzjEsqnQW",
        "outputId": "9f5c9860-c57b-4aee-bc2d-cdcf88075583"
      },
      "execution_count": 26,
      "outputs": [
        {
          "output_type": "stream",
          "name": "stdout",
          "text": [
            "0.6883116883116883\n"
          ]
        }
      ]
    },
    {
      "cell_type": "code",
      "source": [
        "\n",
        "print(classification_report(y_test,y_pred))\n"
      ],
      "metadata": {
        "colab": {
          "base_uri": "https://localhost:8080/"
        },
        "id": "8jcjGyEXqoEu",
        "outputId": "16947e43-ee41-4b40-8bde-74be04763712"
      },
      "execution_count": 27,
      "outputs": [
        {
          "output_type": "stream",
          "name": "stdout",
          "text": [
            "              precision    recall  f1-score   support\n",
            "\n",
            "           0       0.77      0.75      0.76       151\n",
            "           1       0.55      0.56      0.56        80\n",
            "\n",
            "    accuracy                           0.69       231\n",
            "   macro avg       0.66      0.66      0.66       231\n",
            "weighted avg       0.69      0.69      0.69       231\n",
            "\n"
          ]
        }
      ]
    },
    {
      "cell_type": "code",
      "source": [
        "\n",
        "\n",
        "knn = KNeighborsClassifier()\n"
      ],
      "metadata": {
        "id": "rsMuHK9BqqLQ"
      },
      "execution_count": 28,
      "outputs": []
    },
    {
      "cell_type": "code",
      "source": [
        "knn_params = {\"n_neighbors\": np.arange(1,50)}\n"
      ],
      "metadata": {
        "id": "9P97MrtDqrjm"
      },
      "execution_count": 29,
      "outputs": []
    },
    {
      "cell_type": "code",
      "source": [
        "knn_cv_model = GridSearchCV(knn,knn_params,cv=10).fit(X_train,y_train)\n"
      ],
      "metadata": {
        "id": "eziiqir8qtF2"
      },
      "execution_count": 30,
      "outputs": []
    },
    {
      "cell_type": "code",
      "source": [
        "knn_cv_model.best_params_\n"
      ],
      "metadata": {
        "colab": {
          "base_uri": "https://localhost:8080/"
        },
        "id": "tT1s-ATMqt82",
        "outputId": "74b7880a-3543-4458-a979-9895b0bc9ced"
      },
      "execution_count": 31,
      "outputs": [
        {
          "output_type": "execute_result",
          "data": {
            "text/plain": [
              "{'n_neighbors': 11}"
            ]
          },
          "metadata": {},
          "execution_count": 31
        }
      ]
    },
    {
      "cell_type": "code",
      "source": [
        "knn_cv_model.best_score_\n"
      ],
      "metadata": {
        "colab": {
          "base_uri": "https://localhost:8080/"
        },
        "id": "CdNqk1Cfq2SU",
        "outputId": "0a2eb1e8-41ce-4666-8f8f-d37db4d31443"
      },
      "execution_count": 32,
      "outputs": [
        {
          "output_type": "execute_result",
          "data": {
            "text/plain": [
              "0.748637316561845"
            ]
          },
          "metadata": {},
          "execution_count": 32
        }
      ]
    },
    {
      "cell_type": "code",
      "source": [
        "knn_tuned = KNeighborsClassifier(n_neighbors = 11).fit(X_train,y_train)\n"
      ],
      "metadata": {
        "id": "ViPk81fzq3fW"
      },
      "execution_count": 33,
      "outputs": []
    },
    {
      "cell_type": "code",
      "source": [
        "y_pred = knn_tuned.predict(X_test)\n"
      ],
      "metadata": {
        "id": "bOhEQtmXq4nY"
      },
      "execution_count": 34,
      "outputs": []
    },
    {
      "cell_type": "code",
      "source": [
        "print(accuracy_score(y_test,y_pred))\n"
      ],
      "metadata": {
        "colab": {
          "base_uri": "https://localhost:8080/"
        },
        "id": "rhf_lmCMq5Wj",
        "outputId": "64eb6453-4d22-4daa-8102-44381d9d0d7e"
      },
      "execution_count": 35,
      "outputs": [
        {
          "output_type": "stream",
          "name": "stdout",
          "text": [
            "0.7316017316017316\n"
          ]
        }
      ]
    },
    {
      "cell_type": "code",
      "source": [
        "svm_model = SVC(kernel = \"linear\").fit(X_train,y_train)\n"
      ],
      "metadata": {
        "id": "sOvSjFSMq-N8"
      },
      "execution_count": 36,
      "outputs": []
    },
    {
      "cell_type": "code",
      "source": [
        "svm_model\n"
      ],
      "metadata": {
        "colab": {
          "base_uri": "https://localhost:8080/"
        },
        "id": "CNIeFoQSs1jx",
        "outputId": "46aac27b-5bce-45e1-98ef-d16804c14270"
      },
      "execution_count": 37,
      "outputs": [
        {
          "output_type": "execute_result",
          "data": {
            "text/plain": [
              "SVC(kernel='linear')"
            ]
          },
          "metadata": {},
          "execution_count": 37
        }
      ]
    },
    {
      "cell_type": "code",
      "source": [
        "y_pred=svm_model.predict(X_test)\n"
      ],
      "metadata": {
        "id": "dIY_A899s3Bi"
      },
      "execution_count": 38,
      "outputs": []
    },
    {
      "cell_type": "code",
      "source": [
        "accuracy_score(y_test,y_pred)\n"
      ],
      "metadata": {
        "colab": {
          "base_uri": "https://localhost:8080/"
        },
        "id": "JxtRkdKDs347",
        "outputId": "ea983036-32be-465d-8396-5019452d34e0"
      },
      "execution_count": 39,
      "outputs": [
        {
          "output_type": "execute_result",
          "data": {
            "text/plain": [
              "0.7445887445887446"
            ]
          },
          "metadata": {},
          "execution_count": 39
        }
      ]
    },
    {
      "cell_type": "code",
      "source": [
        "svm_model = SVC()\n",
        "svm_params = {\"C\": np.arange(1,10),\n",
        "             \"kernel\":[\"linear\",\"rbf\"]}\n",
        "svm_cv_model=GridSearchCV(svm_model,svm_params,cv=5).fit(X_train,y_train)"
      ],
      "metadata": {
        "id": "PBMc3cbAs5Ra"
      },
      "execution_count": 40,
      "outputs": []
    },
    {
      "cell_type": "code",
      "source": [
        "svm_cv_model.best_params_\n"
      ],
      "metadata": {
        "colab": {
          "base_uri": "https://localhost:8080/"
        },
        "id": "XeygZLNos67K",
        "outputId": "d3d80375-3f7f-4919-88b2-8126a181b762"
      },
      "execution_count": 41,
      "outputs": [
        {
          "output_type": "execute_result",
          "data": {
            "text/plain": [
              "{'C': 2, 'kernel': 'linear'}"
            ]
          },
          "metadata": {},
          "execution_count": 41
        }
      ]
    },
    {
      "cell_type": "code",
      "source": [
        "svm_cv_model.best_score_\n"
      ],
      "metadata": {
        "colab": {
          "base_uri": "https://localhost:8080/"
        },
        "id": "GWZaBnMZs7yk",
        "outputId": "5db378d8-d4dd-4509-a357-b47765fc231c"
      },
      "execution_count": 42,
      "outputs": [
        {
          "output_type": "execute_result",
          "data": {
            "text/plain": [
              "0.7839044652128765"
            ]
          },
          "metadata": {},
          "execution_count": 42
        }
      ]
    },
    {
      "cell_type": "code",
      "source": [
        "\n",
        "svm_tuned = SVC(kernel=\"linear\",C=2).fit(X_train,y_train)\n"
      ],
      "metadata": {
        "id": "QHhfMmU2s8f7"
      },
      "execution_count": 43,
      "outputs": []
    },
    {
      "cell_type": "code",
      "source": [
        "y_pred = svm_tuned.predict(X_test)\n",
        "accuracy_score(y_test,y_pred)"
      ],
      "metadata": {
        "colab": {
          "base_uri": "https://localhost:8080/"
        },
        "id": "Asndojcts91u",
        "outputId": "d6f6f817-f3e0-4977-ac42-4ec68ba1a910"
      },
      "execution_count": 44,
      "outputs": [
        {
          "output_type": "execute_result",
          "data": {
            "text/plain": [
              "0.7445887445887446"
            ]
          },
          "metadata": {},
          "execution_count": 44
        }
      ]
    },
    {
      "cell_type": "code",
      "source": [
        "mlp_model = MLPClassifier().fit(X_train,y_train)\n"
      ],
      "metadata": {
        "id": "HzNvcYs6s_fn"
      },
      "execution_count": 49,
      "outputs": []
    },
    {
      "cell_type": "code",
      "source": [
        "mlp_model.coefs_\n"
      ],
      "metadata": {
        "colab": {
          "base_uri": "https://localhost:8080/"
        },
        "id": "iV4B-8q-Cupz",
        "outputId": "e476e8a0-7f9b-416e-d6ee-53c76cbca322"
      },
      "execution_count": 50,
      "outputs": [
        {
          "output_type": "execute_result",
          "data": {
            "text/plain": [
              "[array([[ 1.48158113e-01, -1.81965276e-02, -1.35006385e-01,\n",
              "         -1.66678534e-01, -8.27424484e-02,  7.41525257e-07,\n",
              "         -8.91073605e-02,  5.97343884e-02,  1.48887584e-01,\n",
              "         -2.06807814e-01, -1.58383253e-01,  1.96056193e-02,\n",
              "         -5.54309467e-02, -2.29637349e-04, -1.31957118e-01,\n",
              "          1.89880132e-03,  2.94625613e-01,  1.52542723e-01,\n",
              "          2.20809072e-01, -1.34529839e-03,  4.15114517e-02,\n",
              "         -3.74170109e-02, -1.85173925e-01,  4.82482977e-01,\n",
              "         -2.26016073e-02, -1.40474961e-12,  2.06647968e-01,\n",
              "          2.25237069e-01, -1.21931737e-01, -2.20194516e-02,\n",
              "          1.77201664e-01,  3.59386487e-01, -1.70806521e-01,\n",
              "          1.93956111e-04, -1.46478787e-01,  9.03798713e-02,\n",
              "          1.60434573e-02, -3.72386623e-02,  1.80021536e-01,\n",
              "          1.67955455e-01,  2.86359665e-03,  1.94161842e-01,\n",
              "          2.22051652e-03,  7.57691742e-02,  1.03168086e-02,\n",
              "         -1.06889949e-01,  1.61437160e-01, -7.77448839e-02,\n",
              "          1.37088983e-01, -1.85544710e-02,  1.98904760e-01,\n",
              "         -2.32658972e-01,  1.63516394e-01, -1.46413849e-02,\n",
              "         -1.82129575e-02,  1.29130120e-01,  2.69896416e-01,\n",
              "          1.88946235e-01, -7.49595881e-02, -3.00347307e-03,\n",
              "         -1.92423299e-01,  1.07376216e-01,  2.63339975e-02,\n",
              "          2.49109043e-01,  5.78143396e-03,  2.84405134e-02,\n",
              "          2.33194863e-02, -8.09715941e-02, -4.76785178e-02,\n",
              "          2.33501157e-01, -1.74942901e-01, -1.54826114e-02,\n",
              "          5.86339998e-06, -1.41257170e-01,  4.86972028e-02,\n",
              "          1.70911824e-01, -1.51925641e-01,  1.42424154e-03,\n",
              "         -7.04399525e-02, -3.42811838e-02, -7.10190506e-02,\n",
              "         -1.80044447e-01,  1.03871310e-01,  6.78039193e-02,\n",
              "          1.07094202e-01, -6.74178898e-02, -1.21281200e-01,\n",
              "          1.18687418e-01, -2.94649530e-03, -5.83242991e-05,\n",
              "          1.21510246e-01,  2.80066798e-01,  1.25103604e-01,\n",
              "         -1.22321523e-01, -7.86779730e-02,  1.93691005e-01,\n",
              "          5.93455651e-02, -9.42888912e-05,  2.23451254e-01,\n",
              "         -9.42019126e-02],\n",
              "        [ 2.27769947e-01,  2.25694735e-01,  1.06318066e-01,\n",
              "         -8.61228762e-02,  1.76572274e-01, -3.73313447e-04,\n",
              "         -9.88654060e-02, -2.25740191e-01,  9.07466275e-05,\n",
              "         -1.52745561e-01, -1.85613753e-01, -1.76538739e-01,\n",
              "          1.71910790e-01, -1.40180741e-05, -7.67470288e-02,\n",
              "         -1.73852306e-02, -1.15515433e-01,  1.01968867e-01,\n",
              "          7.93610587e-02, -1.47860379e-03,  1.97487846e-01,\n",
              "         -6.60324600e-03,  6.62401428e-02, -3.49545383e-02,\n",
              "          6.02139360e-02, -2.89250564e-03,  1.66864364e-01,\n",
              "         -1.13568581e-01, -2.26216657e-01, -1.92576182e-02,\n",
              "          2.43212833e-01, -3.19470251e-01,  1.75857489e-01,\n",
              "          1.13088749e-01,  9.21000865e-02,  6.58656975e-02,\n",
              "         -2.12638716e-02, -1.13355306e-02, -2.08908732e-02,\n",
              "          1.12091353e-01, -3.06583170e-04,  1.48170730e-01,\n",
              "         -4.90482435e-03,  1.99804190e-02,  3.57307937e-02,\n",
              "          3.97144504e-02, -1.17585075e-01,  8.32561439e-02,\n",
              "         -2.01084206e-02, -1.73873846e-02,  1.88532934e-01,\n",
              "         -1.49282441e-01, -3.69725667e-02, -4.89054679e-02,\n",
              "          2.35947523e-01,  3.42924724e-02, -3.33988436e-03,\n",
              "         -6.44516173e-02,  1.39338842e-02, -4.37498389e-03,\n",
              "          2.95048659e-03,  6.30800674e-02, -1.46520890e-01,\n",
              "         -2.46745851e-01, -1.18720658e-05,  7.28851942e-02,\n",
              "          1.10623987e-01,  5.04641016e-02, -4.40084968e-02,\n",
              "          1.24520198e-01,  6.80325004e-02,  1.34380106e-01,\n",
              "         -2.38068242e-07,  2.15848732e-02, -1.25557180e-01,\n",
              "         -2.37209214e-02, -1.50162715e-01, -3.60233385e-03,\n",
              "          1.52608078e-01, -1.44869933e-02,  1.18747826e-01,\n",
              "          9.15450277e-02,  9.95902976e-02, -1.82796353e-01,\n",
              "         -1.50924595e-01,  9.77710783e-02,  2.11459391e-01,\n",
              "          1.57905711e-01, -1.29983841e-02, -1.09782112e-02,\n",
              "          2.45114592e-01,  2.25255374e-01, -2.59787232e-02,\n",
              "         -8.94201741e-02,  1.57713601e-01, -1.38713115e-01,\n",
              "          1.25337978e-01, -1.00261815e-03, -1.33524312e-01,\n",
              "         -2.20197527e-01],\n",
              "        [-1.93814245e-01,  1.01230230e-01, -9.97512263e-03,\n",
              "          2.14471290e-01,  2.06247267e-01, -6.86694450e-15,\n",
              "          4.29641065e-02, -1.85975380e-01, -2.06334831e-01,\n",
              "          1.75491040e-01, -1.43422766e-01,  8.24328593e-02,\n",
              "         -6.27609765e-02,  2.07275515e-07, -1.31339819e-01,\n",
              "         -1.61498387e-02,  6.22241686e-02,  1.66991233e-01,\n",
              "          2.90057771e-02, -7.35660240e-03,  9.42626208e-02,\n",
              "          1.42585176e-01, -8.85616656e-02, -8.32241431e-02,\n",
              "          2.14892158e-01, -7.27888972e-07, -1.41476301e-01,\n",
              "          6.35501984e-02,  2.09270895e-01, -3.11723439e-02,\n",
              "         -1.45179352e-02,  1.01931791e-01, -3.02395588e-02,\n",
              "         -1.72586812e-01,  2.03919452e-01,  7.52569390e-02,\n",
              "         -1.62710710e-02,  1.92599270e-01,  1.65526041e-01,\n",
              "         -1.34407332e-01, -7.29571270e-03,  3.77588213e-02,\n",
              "          5.48477099e-11, -1.15626625e-01,  9.56986617e-02,\n",
              "         -7.48254051e-02,  2.45342499e-01,  2.17203151e-02,\n",
              "         -3.63915589e-02, -1.92785329e-02, -1.02537297e-01,\n",
              "         -2.76293173e-02,  3.50765500e-02, -3.16985340e-02,\n",
              "         -6.45114888e-03,  4.48901340e-02,  2.15201299e-01,\n",
              "         -1.86787711e-01, -1.60668817e-02, -3.98032753e-03,\n",
              "          1.63327848e-02,  1.43011238e-01, -4.18551786e-02,\n",
              "          1.55391301e-02, -6.55749593e-04,  5.83610606e-02,\n",
              "         -1.40534175e-01,  7.98405177e-02, -7.05081815e-03,\n",
              "          1.93031603e-01, -1.35150990e-01, -1.47199413e-01,\n",
              "         -5.96331023e-05, -7.09522120e-02, -4.33243398e-02,\n",
              "          9.03921674e-03, -1.66988989e-01, -4.34453265e-03,\n",
              "          4.99419821e-03, -4.79950568e-02,  2.40514695e-02,\n",
              "         -1.84127555e-01, -3.60952283e-01,  1.26598979e-01,\n",
              "          2.90868245e-02, -7.85897051e-02, -2.42808640e-01,\n",
              "          1.72770660e-01, -1.08776507e-02, -6.14022673e-03,\n",
              "         -1.14529972e-01, -1.37827334e-01,  5.18239799e-02,\n",
              "          1.39189588e-01, -1.77634243e-01,  9.83387370e-02,\n",
              "         -1.96616316e-01, -2.18902500e-05,  1.28662550e-01,\n",
              "          9.07171144e-02],\n",
              "        [-5.07611768e-02,  3.44316079e-02, -9.17263500e-02,\n",
              "          4.33022330e-02, -2.34310944e-01,  1.16911323e-06,\n",
              "         -1.60228573e-01,  1.73538309e-01,  7.60382839e-03,\n",
              "          1.00392456e-01, -5.20147315e-02, -8.48125024e-03,\n",
              "          2.98416604e-02, -1.22982057e-03,  1.76759170e-01,\n",
              "          2.37407658e-02,  8.86767287e-02, -3.34003943e-02,\n",
              "         -8.16886544e-02,  4.37586043e-03,  8.44201141e-02,\n",
              "         -2.00157671e-01, -9.50009936e-02, -1.40537704e-01,\n",
              "          2.23572673e-01,  4.17032140e-11, -2.34009935e-01,\n",
              "          2.48137401e-01,  1.94915598e-01,  1.13560745e-02,\n",
              "         -1.30959035e-01,  1.36279031e-01,  1.10066699e-01,\n",
              "         -1.60096343e-01, -1.76670139e-01,  1.42010541e-01,\n",
              "         -1.98684444e-02,  1.46957011e-01, -1.69646167e-03,\n",
              "         -6.72619417e-02, -1.62532319e-10,  1.04213369e-01,\n",
              "         -7.02387776e-03, -6.98373468e-02,  1.86915083e-01,\n",
              "          5.75337101e-02,  1.28080877e-02, -1.02247942e-01,\n",
              "          1.56345189e-01, -1.89324010e-02,  2.53256607e-03,\n",
              "         -9.53432464e-02,  4.69299422e-02, -4.89756252e-03,\n",
              "          8.74776134e-02, -1.80807140e-01,  4.42108677e-02,\n",
              "          1.54367346e-01,  3.04166537e-02,  4.60282141e-06,\n",
              "          1.69046031e-01,  5.34589251e-02, -2.13186731e-01,\n",
              "          2.19542960e-01, -3.03831511e-07, -6.32720988e-02,\n",
              "         -1.97399578e-01,  1.41595660e-01, -4.66847963e-02,\n",
              "         -1.06925356e-01, -2.63882478e-02, -1.48015448e-01,\n",
              "         -8.05635445e-16,  4.74436785e-02, -4.78038101e-02,\n",
              "          5.55890705e-02,  6.11718073e-03,  1.44322216e-04,\n",
              "         -2.29664510e-01,  5.38941165e-02, -2.04658003e-01,\n",
              "         -6.45185340e-02,  2.89754884e-01,  2.00734669e-01,\n",
              "          6.04728990e-02, -2.04918290e-01,  3.16438287e-02,\n",
              "         -2.15516643e-01, -1.52909874e-02, -5.97060833e-03,\n",
              "         -1.46233382e-01, -6.87264546e-02,  2.08260269e-01,\n",
              "         -8.59721854e-02,  6.94077202e-02,  2.40895750e-01,\n",
              "         -3.41697844e-01,  5.92662256e-07, -1.79115995e-01,\n",
              "          1.08985783e-01],\n",
              "        [ 1.67399882e-01, -1.51450898e-01, -1.11090279e-01,\n",
              "         -1.21642105e-01,  1.58416951e-01, -2.34441687e-03,\n",
              "         -1.13348297e-01,  1.33981329e-01, -7.92604503e-03,\n",
              "         -1.51225045e-01,  1.36453660e-01, -1.40887977e-01,\n",
              "          6.45330456e-02, -2.39167720e-04,  1.71613061e-01,\n",
              "         -2.92591397e-03,  4.52229196e-02,  2.22569125e-01,\n",
              "         -8.42353138e-02,  1.83424578e-09, -1.37732396e-02,\n",
              "         -3.49940005e-02,  2.30808598e-02, -1.07819808e-02,\n",
              "          4.32457837e-02,  3.04349277e-08,  2.87717590e-02,\n",
              "          7.35065941e-03, -1.52987797e-01, -1.87896047e-02,\n",
              "         -1.10576447e-01, -6.47131438e-02,  1.64757475e-02,\n",
              "         -1.91559264e-01, -5.19735365e-04,  2.34117225e-02,\n",
              "         -1.69308073e-02,  2.16569813e-01, -1.83397473e-01,\n",
              "         -8.59913713e-02, -6.41218178e-03,  8.24020420e-02,\n",
              "         -2.28439894e-06,  7.88170681e-02, -8.46536992e-02,\n",
              "         -3.33446059e-01,  1.01786721e-01,  1.46501974e-01,\n",
              "          9.82287377e-02, -2.26722517e-02,  7.55625606e-02,\n",
              "          1.85758211e-01, -1.24865828e-01, -8.36406016e-02,\n",
              "         -9.62060431e-02, -1.96139502e-01, -2.71323705e-01,\n",
              "          9.37777730e-02,  3.53432645e-03, -1.70217888e-04,\n",
              "         -1.62519474e-01,  2.41765858e-03,  1.37559741e-01,\n",
              "          1.76407655e-01, -1.70721640e-12, -3.64013325e-03,\n",
              "         -1.56234492e-01, -4.45118923e-02, -9.24205128e-03,\n",
              "          9.58729447e-02,  2.83200912e-02, -2.07325796e-01,\n",
              "         -1.21506561e-07,  1.66401629e-01,  2.22777592e-01,\n",
              "         -2.05571672e-01,  1.07764986e-01, -2.11033075e-04,\n",
              "          1.68153012e-01, -8.94645349e-02, -2.25564111e-01,\n",
              "         -1.75600374e-02, -3.65889966e-02,  2.18030402e-01,\n",
              "          1.35187562e-01,  1.93966507e-01,  5.42688153e-02,\n",
              "          2.01810084e-01, -7.24768185e-03, -5.86922490e-03,\n",
              "         -6.60758332e-02, -2.76792875e-01, -1.73220469e-02,\n",
              "         -2.09560458e-01, -1.98431544e-01,  8.93666218e-02,\n",
              "         -2.22625721e-02,  6.68008914e-08, -1.34051185e-02,\n",
              "          1.51688475e-02],\n",
              "        [-2.06717048e-01,  1.65732775e-01,  7.65437748e-02,\n",
              "          9.61455467e-02, -2.54998362e-02, -1.33476660e-03,\n",
              "          2.04603201e-01, -1.51591137e-01,  1.69149766e-01,\n",
              "          5.16183876e-02, -1.62550147e-01,  6.51200517e-02,\n",
              "         -8.11424301e-02, -5.17879931e-03,  2.50062638e-01,\n",
              "         -2.04077737e-02, -1.11418366e-01,  9.95476429e-02,\n",
              "         -2.05730534e-02, -8.13858281e-03,  1.06313762e-01,\n",
              "         -2.45169962e-01, -2.36547296e-01,  9.34794145e-03,\n",
              "         -1.33823410e-01, -1.04010150e-03,  4.23924058e-04,\n",
              "          2.14021278e-01,  7.11200701e-02, -3.52211620e-02,\n",
              "          1.29034305e-01,  5.04027951e-02,  1.05798822e-01,\n",
              "          3.59885721e-03,  1.30737472e-01,  2.15207154e-01,\n",
              "         -1.60916399e-02, -2.25514688e-01,  1.98616982e-01,\n",
              "         -6.62934516e-02, -1.20279983e-05, -1.39614026e-01,\n",
              "          5.03210163e-07, -1.70644209e-01, -1.94608189e-01,\n",
              "          1.50552992e-01,  1.73841286e-01,  1.02461800e-01,\n",
              "         -9.01661982e-02, -2.08879237e-02,  1.58834328e-01,\n",
              "          5.76375941e-02,  2.20617768e-01,  7.54713609e-02,\n",
              "          2.45028887e-01, -5.06837862e-02,  5.07630385e-02,\n",
              "         -2.79747636e-01,  1.75466574e-01,  8.35767783e-10,\n",
              "          1.84074630e-01, -1.04225348e-01,  1.45372937e-01,\n",
              "         -2.22888298e-01, -5.04929027e-03, -7.27246442e-02,\n",
              "         -1.03091764e-01, -1.57989267e-01, -1.50047346e-02,\n",
              "          1.10834051e-01, -2.99356685e-01, -8.33387962e-02,\n",
              "         -5.93191094e-08, -1.72313834e-01, -6.07786304e-02,\n",
              "          5.67868283e-02, -2.57791369e-01,  7.14216313e-03,\n",
              "         -2.03042362e-01,  3.78554547e-02,  3.71680588e-02,\n",
              "         -8.26495489e-02, -1.01847419e-01, -1.09284185e-01,\n",
              "         -1.32918364e-01, -4.76635175e-02,  2.18116511e-01,\n",
              "          1.29456444e-01, -2.85017814e-02, -1.08756810e-02,\n",
              "          2.03629587e-01, -2.09419429e-01, -4.72937523e-03,\n",
              "         -1.63080976e-01, -1.98749238e-01,  7.23299478e-02,\n",
              "         -5.51070400e-02,  8.86589929e-05,  1.53961663e-01,\n",
              "         -3.83227554e-02],\n",
              "        [ 8.91676949e-02, -2.19952303e-01, -2.22427432e-02,\n",
              "         -2.53097861e-01, -2.17863544e-01,  7.87951236e-03,\n",
              "         -8.80701782e-02,  1.88128299e-02, -1.19277471e-01,\n",
              "         -2.35018149e-01, -2.19870017e-01, -4.69172789e-02,\n",
              "          4.34006202e-02,  2.49352484e-04, -1.92039200e-01,\n",
              "         -5.48731893e-03, -1.13743604e-02, -1.26509177e-01,\n",
              "          6.73719593e-02, -2.50090703e-08, -5.65320925e-02,\n",
              "          4.34290512e-03,  1.00984401e-01,  6.65584796e-02,\n",
              "         -1.68139203e-01, -7.36021570e-10, -2.24490840e-01,\n",
              "         -1.13866930e-01, -3.15191781e-01, -1.66150158e-02,\n",
              "          8.27340682e-02,  9.74640541e-02,  1.83468814e-01,\n",
              "          1.79655456e-02,  2.21840959e-01,  7.35567312e-02,\n",
              "         -1.45620104e-02,  1.71431686e-01,  2.06686978e-01,\n",
              "          5.92652704e-02, -5.26702229e-03,  6.22693731e-02,\n",
              "         -2.61267467e-07,  5.06460538e-02,  7.86984328e-02,\n",
              "         -4.42498182e-02, -1.69018121e-03,  3.55333193e-02,\n",
              "         -9.19900530e-02, -5.28649739e-03, -2.54679258e-02,\n",
              "         -9.15793335e-02, -8.50091606e-02,  1.52048331e-01,\n",
              "         -7.35679457e-02, -1.16863875e-01, -2.98296697e-02,\n",
              "         -6.73692663e-04, -1.44192153e-01, -4.12841534e-03,\n",
              "         -1.46048379e-02, -7.24192240e-03,  1.95089122e-02,\n",
              "          6.72892549e-02, -4.82851594e-05, -3.14569742e-02,\n",
              "          1.49101338e-01,  1.20275612e-01, -6.12923789e-02,\n",
              "         -4.92826666e-02,  4.24105478e-01,  3.41084871e-02,\n",
              "          1.07707579e-05,  9.71141836e-02,  1.07031804e-01,\n",
              "         -3.06986116e-02, -1.97127678e-01,  2.71641172e-04,\n",
              "          5.70318476e-04,  7.90961524e-02, -4.22158208e-02,\n",
              "         -6.14478997e-02, -2.83608591e-01,  1.76270730e-01,\n",
              "          2.67525771e-01,  8.16121340e-02, -4.39270775e-02,\n",
              "         -1.37524900e-01,  2.84126157e-03, -4.38853846e-03,\n",
              "          6.61956350e-02, -8.66670883e-02,  9.77459761e-02,\n",
              "         -2.95378930e-01, -8.09797869e-02,  1.94508670e-01,\n",
              "          2.00918165e-01,  3.50079250e-05,  7.21365696e-02,\n",
              "          1.47978464e-01],\n",
              "        [ 1.73448702e-01,  2.01946748e-01, -2.47692383e-01,\n",
              "         -1.17706078e-01, -2.57684838e-02, -1.45357298e-05,\n",
              "         -2.55597273e-01,  3.56714165e-03,  7.10526972e-02,\n",
              "         -1.31169828e-01, -1.53599605e-01,  4.29152589e-02,\n",
              "          8.33368455e-03,  3.14591021e-06, -1.10279143e-01,\n",
              "         -7.37055542e-02,  1.54187241e-01,  2.25261110e-01,\n",
              "          6.56311410e-02, -2.13540665e-03, -9.68254039e-02,\n",
              "          1.48153125e-01, -1.03930644e-01,  1.64374944e-01,\n",
              "         -3.53126658e-03, -2.06120566e-04,  2.08014104e-01,\n",
              "          1.56792303e-01, -1.52483563e-01, -1.85295020e-02,\n",
              "         -7.67512308e-02,  1.68372559e-03, -3.84942576e-02,\n",
              "          1.97841548e-02,  1.52453641e-01,  6.04487524e-02,\n",
              "         -1.62290708e-02, -8.60096618e-03, -1.17580061e-01,\n",
              "          1.08839249e-01,  9.31452971e-13, -1.49883401e-01,\n",
              "          4.39242671e-05,  3.04825467e-02, -1.14533770e-01,\n",
              "          1.51464374e-01,  1.61148960e-01,  1.00730873e-01,\n",
              "         -1.16506026e-01, -1.74909232e-02,  6.33083040e-02,\n",
              "          9.52009715e-02, -2.37643076e-01,  1.09093349e-01,\n",
              "          9.20728688e-02, -4.97144231e-03, -1.59804087e-01,\n",
              "         -1.60212449e-01, -1.50738787e-01,  4.98276214e-06,\n",
              "          1.48997883e-02,  3.08101842e-02,  2.56934019e-02,\n",
              "         -1.42854610e-01, -5.31575664e-06, -3.16745729e-02,\n",
              "          7.03922468e-02,  1.36496245e-01,  2.22761109e-02,\n",
              "         -1.46119088e-01, -1.41601621e-01, -4.49686620e-02,\n",
              "          2.18314261e-07,  4.40749405e-02, -6.16739987e-02,\n",
              "         -1.57597342e-01,  1.83534100e-01, -2.10619211e-12,\n",
              "         -2.02194596e-01, -6.96348593e-02, -1.55317148e-01,\n",
              "          7.08921322e-02, -1.46408909e-02,  1.91967144e-02,\n",
              "         -1.83921823e-01, -9.14071958e-02, -2.05757398e-01,\n",
              "         -9.52329120e-02, -2.03128419e-02, -1.67399516e-02,\n",
              "         -1.14922329e-01, -1.71193322e-01,  2.29115709e-01,\n",
              "          2.79091929e-01, -2.43743863e-02,  3.56585982e-02,\n",
              "         -7.17225772e-02, -3.61313941e-03, -1.66279422e-02,\n",
              "          1.99656834e-01]]), array([[ 1.63735795e-01],\n",
              "        [-8.47125915e-02],\n",
              "        [-1.35544699e-01],\n",
              "        [-2.06601043e-01],\n",
              "        [ 1.00224317e-01],\n",
              "        [ 5.05755290e-03],\n",
              "        [-9.54981100e-02],\n",
              "        [-8.82386109e-02],\n",
              "        [-7.68893697e-02],\n",
              "        [-7.56729577e-02],\n",
              "        [ 1.63907181e-01],\n",
              "        [ 2.37326753e-01],\n",
              "        [-5.57759582e-03],\n",
              "        [-6.38559623e-03],\n",
              "        [-5.13305114e-02],\n",
              "        [ 2.89423454e-03],\n",
              "        [ 2.71113475e-01],\n",
              "        [-9.29900556e-02],\n",
              "        [ 1.71364427e-01],\n",
              "        [-1.01266897e-02],\n",
              "        [ 7.04407320e-02],\n",
              "        [-1.71197171e-01],\n",
              "        [-2.12989322e-01],\n",
              "        [-5.00194884e-01],\n",
              "        [-2.23424182e-01],\n",
              "        [ 8.95925169e-06],\n",
              "        [ 9.29314819e-02],\n",
              "        [ 2.33868944e-01],\n",
              "        [-7.40329915e-02],\n",
              "        [ 2.70263089e-03],\n",
              "        [-4.13679201e-02],\n",
              "        [ 1.52862750e-01],\n",
              "        [ 2.23285359e-01],\n",
              "        [-5.34399706e-02],\n",
              "        [-1.08219094e-01],\n",
              "        [-4.61206746e-02],\n",
              "        [ 1.51693461e-02],\n",
              "        [ 9.36089114e-02],\n",
              "        [ 7.37752249e-02],\n",
              "        [-5.56109868e-02],\n",
              "        [-3.98318748e-04],\n",
              "        [ 2.60125812e-02],\n",
              "        [ 7.35198325e-03],\n",
              "        [-1.77726677e-01],\n",
              "        [-1.80672320e-01],\n",
              "        [ 1.48085990e-01],\n",
              "        [-2.47646458e-01],\n",
              "        [ 2.09236360e-01],\n",
              "        [ 5.99072905e-02],\n",
              "        [ 1.90513524e-02],\n",
              "        [-1.79174609e-01],\n",
              "        [ 1.52460505e-01],\n",
              "        [ 4.19570377e-01],\n",
              "        [-1.72367448e-01],\n",
              "        [-1.16036790e-02],\n",
              "        [-5.60217721e-02],\n",
              "        [ 1.46883608e-01],\n",
              "        [ 6.43038648e-02],\n",
              "        [-2.32551670e-01],\n",
              "        [ 2.37261211e-03],\n",
              "        [ 1.45369793e-01],\n",
              "        [-3.99719325e-02],\n",
              "        [-1.96222480e-01],\n",
              "        [ 1.24694205e-01],\n",
              "        [ 5.11748187e-11],\n",
              "        [-8.09719719e-02],\n",
              "        [-2.88380285e-02],\n",
              "        [-1.74650815e-01],\n",
              "        [ 6.24250032e-03],\n",
              "        [ 8.07408078e-02],\n",
              "        [-5.74941921e-02],\n",
              "        [-1.96516047e-01],\n",
              "        [ 2.94887250e-07],\n",
              "        [-1.25972386e-01],\n",
              "        [-1.26606190e-01],\n",
              "        [-1.05525327e-01],\n",
              "        [ 1.54907518e-01],\n",
              "        [-3.23619448e-05],\n",
              "        [ 7.62598628e-02],\n",
              "        [-1.84302612e-01],\n",
              "        [ 1.66547637e-01],\n",
              "        [-2.11587574e-01],\n",
              "        [-1.13364770e-01],\n",
              "        [-1.88951315e-01],\n",
              "        [-8.21057718e-02],\n",
              "        [-2.24405149e-01],\n",
              "        [ 1.60948990e-02],\n",
              "        [ 1.24679948e-01],\n",
              "        [ 7.60080681e-03],\n",
              "        [-1.04406196e-02],\n",
              "        [-1.23198083e-01],\n",
              "        [ 2.73245138e-02],\n",
              "        [ 2.43156943e-02],\n",
              "        [ 2.83604309e-01],\n",
              "        [ 1.14675637e-01],\n",
              "        [ 1.92444566e-01],\n",
              "        [ 2.00943948e-01],\n",
              "        [ 6.34539105e-05],\n",
              "        [-2.43085306e-01],\n",
              "        [-8.91209852e-02]])]"
            ]
          },
          "metadata": {},
          "execution_count": 50
        }
      ]
    },
    {
      "cell_type": "code",
      "source": [
        "mlp_model\n"
      ],
      "metadata": {
        "colab": {
          "base_uri": "https://localhost:8080/"
        },
        "id": "1Zz-s5bbCwKG",
        "outputId": "200a3c68-8d6e-4a4d-d33b-ef906e185ad7"
      },
      "execution_count": 51,
      "outputs": [
        {
          "output_type": "execute_result",
          "data": {
            "text/plain": [
              "MLPClassifier()"
            ]
          },
          "metadata": {},
          "execution_count": 51
        }
      ]
    },
    {
      "cell_type": "code",
      "source": [
        "y_pred=mlp_model.predict(X_test)\n"
      ],
      "metadata": {
        "id": "dkaV-lSOCyel"
      },
      "execution_count": 52,
      "outputs": []
    },
    {
      "cell_type": "code",
      "source": [
        "accuracy_score(y_test,y_pred)\n"
      ],
      "metadata": {
        "colab": {
          "base_uri": "https://localhost:8080/"
        },
        "id": "63qepmluC00V",
        "outputId": "cb88e610-def3-42fb-dcb2-1456a5041a0f"
      },
      "execution_count": 53,
      "outputs": [
        {
          "output_type": "execute_result",
          "data": {
            "text/plain": [
              "0.7186147186147186"
            ]
          },
          "metadata": {},
          "execution_count": 53
        }
      ]
    },
    {
      "cell_type": "code",
      "source": [
        "mlp_params = {\"alpha\" : [5,0.1,0.01],\n",
        "             \"hidden_layer_sizes\": [(100,100,100),(100,100)]}"
      ],
      "metadata": {
        "id": "Mkdz2BaoC2k2"
      },
      "execution_count": 54,
      "outputs": []
    },
    {
      "cell_type": "code",
      "source": [
        "mlpc = MLPClassifier(solver=\"lbfgs\",activation=\"logistic\")\n",
        "mlp_cv_model = GridSearchCV(mlpc,mlp_params,cv=5,verbose = 2,n_jobs =-1).fit(X_train,y_train)"
      ],
      "metadata": {
        "colab": {
          "base_uri": "https://localhost:8080/"
        },
        "id": "m1zFaLNWC_Fd",
        "outputId": "e572879b-b0ac-4df4-b7e3-8667cead7353"
      },
      "execution_count": 55,
      "outputs": [
        {
          "output_type": "stream",
          "name": "stdout",
          "text": [
            "Fitting 5 folds for each of 6 candidates, totalling 30 fits\n"
          ]
        }
      ]
    },
    {
      "cell_type": "code",
      "source": [
        "mlp_cv_model.best_params_\n"
      ],
      "metadata": {
        "colab": {
          "base_uri": "https://localhost:8080/"
        },
        "id": "-_8VdRsKDADF",
        "outputId": "51a66196-1554-4621-d806-7723e5596cc4"
      },
      "execution_count": 56,
      "outputs": [
        {
          "output_type": "execute_result",
          "data": {
            "text/plain": [
              "{'alpha': 5, 'hidden_layer_sizes': (100, 100)}"
            ]
          },
          "metadata": {},
          "execution_count": 56
        }
      ]
    },
    {
      "cell_type": "code",
      "source": [
        "mlp_tuned = MLPClassifier(solver=\"lbfgs\",activation=\"logistic\",\n",
        "                          alpha=5,hidden_layer_sizes=(100,100)).fit(X_train,y_train)"
      ],
      "metadata": {
        "id": "RWUkjT-aDJq4"
      },
      "execution_count": 57,
      "outputs": []
    },
    {
      "cell_type": "code",
      "source": [
        "y_pred=mlp_tuned.predict(X_test)\n"
      ],
      "metadata": {
        "id": "eBoFdMxtDK7s"
      },
      "execution_count": 58,
      "outputs": []
    },
    {
      "cell_type": "code",
      "source": [
        "accuracy_score(y_test,y_pred)\n"
      ],
      "metadata": {
        "colab": {
          "base_uri": "https://localhost:8080/"
        },
        "id": "0LM3ApdcDMbn",
        "outputId": "0ce0d20a-3024-4467-d955-245a87bac141"
      },
      "execution_count": 59,
      "outputs": [
        {
          "output_type": "execute_result",
          "data": {
            "text/plain": [
              "0.7489177489177489"
            ]
          },
          "metadata": {},
          "execution_count": 59
        }
      ]
    },
    {
      "cell_type": "code",
      "source": [
        "cart_model = DecisionTreeClassifier().fit(X_train,y_train)\n"
      ],
      "metadata": {
        "id": "pxtuSG-RD_79"
      },
      "execution_count": 60,
      "outputs": []
    },
    {
      "cell_type": "code",
      "source": [
        "cart_model"
      ],
      "metadata": {
        "colab": {
          "base_uri": "https://localhost:8080/"
        },
        "id": "B9emHdpyEBMP",
        "outputId": "f9b45b51-e0ff-491a-eecb-e5a8c5ad0bc2"
      },
      "execution_count": 61,
      "outputs": [
        {
          "output_type": "execute_result",
          "data": {
            "text/plain": [
              "DecisionTreeClassifier()"
            ]
          },
          "metadata": {},
          "execution_count": 61
        }
      ]
    },
    {
      "cell_type": "code",
      "source": [
        "y_pred = cart_model.predict(X_test)\n"
      ],
      "metadata": {
        "id": "DN9BFgLAECMH"
      },
      "execution_count": 62,
      "outputs": []
    },
    {
      "cell_type": "code",
      "source": [
        "accuracy_score(y_test,y_pred)\n"
      ],
      "metadata": {
        "colab": {
          "base_uri": "https://localhost:8080/"
        },
        "id": "yZ-J08pTED-W",
        "outputId": "4b2c26ae-5371-49b9-c810-50198ab0deb5"
      },
      "execution_count": 63,
      "outputs": [
        {
          "output_type": "execute_result",
          "data": {
            "text/plain": [
              "0.696969696969697"
            ]
          },
          "metadata": {},
          "execution_count": 63
        }
      ]
    },
    {
      "cell_type": "code",
      "source": [
        "cart_model = DecisionTreeClassifier()\n"
      ],
      "metadata": {
        "id": "nmjaVTsfEFeJ"
      },
      "execution_count": 64,
      "outputs": []
    },
    {
      "cell_type": "code",
      "source": [
        "cart_params = {\"max_depth\":[1,3,4,5,10],\n",
        "               \"min_samples_split\":[2,10,5,30]}"
      ],
      "metadata": {
        "id": "bY-oEctaEGsW"
      },
      "execution_count": 65,
      "outputs": []
    },
    {
      "cell_type": "code",
      "source": [
        "cart_cv_model = GridSearchCV(cart_model,cart_params,cv=10).fit(X_train,y_train)\n"
      ],
      "metadata": {
        "id": "0UUf7QnQEOfk"
      },
      "execution_count": 66,
      "outputs": []
    },
    {
      "cell_type": "code",
      "source": [
        "cart_cv_model.best_params_\n"
      ],
      "metadata": {
        "colab": {
          "base_uri": "https://localhost:8080/"
        },
        "id": "H0Qw3t1EEWBN",
        "outputId": "4a60881c-29e9-4bb1-b8ea-d69b9a60c0d7"
      },
      "execution_count": 67,
      "outputs": [
        {
          "output_type": "execute_result",
          "data": {
            "text/plain": [
              "{'max_depth': 5, 'min_samples_split': 30}"
            ]
          },
          "metadata": {},
          "execution_count": 67
        }
      ]
    },
    {
      "cell_type": "code",
      "source": [
        "cart_tuned = DecisionTreeClassifier(max_depth=5,min_samples_split=30).fit(X_train,y_train)\n"
      ],
      "metadata": {
        "id": "RKiOyBBvEXjq"
      },
      "execution_count": 68,
      "outputs": []
    },
    {
      "cell_type": "code",
      "source": [
        "y_pred = cart_tuned.predict(X_test)\n"
      ],
      "metadata": {
        "id": "mGv8jSQJEYe-"
      },
      "execution_count": 69,
      "outputs": []
    },
    {
      "cell_type": "code",
      "source": [
        "accuracy_score(y_test,y_pred)\n"
      ],
      "metadata": {
        "colab": {
          "base_uri": "https://localhost:8080/"
        },
        "id": "sSH6CKW-EZFw",
        "outputId": "ff63cfe5-6808-416a-c00f-9134db91246d"
      },
      "execution_count": 70,
      "outputs": [
        {
          "output_type": "execute_result",
          "data": {
            "text/plain": [
              "0.7532467532467533"
            ]
          },
          "metadata": {},
          "execution_count": 70
        }
      ]
    },
    {
      "cell_type": "code",
      "source": [
        "rf_model = RandomForestClassifier().fit(X_train,y_train)\n"
      ],
      "metadata": {
        "id": "H45sOys6Edcb"
      },
      "execution_count": 71,
      "outputs": []
    },
    {
      "cell_type": "code",
      "source": [
        "rf_model\n"
      ],
      "metadata": {
        "colab": {
          "base_uri": "https://localhost:8080/"
        },
        "id": "SA-9rnRSK73o",
        "outputId": "0a2d1a96-6d24-4b9c-f27c-44dc4f850a98"
      },
      "execution_count": 72,
      "outputs": [
        {
          "output_type": "execute_result",
          "data": {
            "text/plain": [
              "RandomForestClassifier()"
            ]
          },
          "metadata": {},
          "execution_count": 72
        }
      ]
    },
    {
      "cell_type": "code",
      "source": [
        "y_pred = rf_model.predict(X_test)\n"
      ],
      "metadata": {
        "id": "_AZd72CtK817"
      },
      "execution_count": 73,
      "outputs": []
    },
    {
      "cell_type": "code",
      "source": [
        "accuracy_score(y_test,y_pred)\n"
      ],
      "metadata": {
        "colab": {
          "base_uri": "https://localhost:8080/"
        },
        "id": "4rnls09cK-Ef",
        "outputId": "9d34705e-1657-4985-d2ff-fde957d5dcf0"
      },
      "execution_count": 74,
      "outputs": [
        {
          "output_type": "execute_result",
          "data": {
            "text/plain": [
              "0.7575757575757576"
            ]
          },
          "metadata": {},
          "execution_count": 74
        }
      ]
    },
    {
      "cell_type": "code",
      "source": [
        "rf = RandomForestClassifier()\n",
        "rf_params = {\"max_features\": [2,5],\n",
        "            \"n_estimators\":[200,500,1000],\n",
        "            \"min_samples_split\":[2,10,80]}"
      ],
      "metadata": {
        "id": "y5ezHMcPK_1O"
      },
      "execution_count": 75,
      "outputs": []
    },
    {
      "cell_type": "code",
      "source": [
        "rf_cv_model = GridSearchCV(rf,rf_params,cv=10,n_jobs=-1,verbose=2).fit(X_train,y_train)\n"
      ],
      "metadata": {
        "colab": {
          "base_uri": "https://localhost:8080/"
        },
        "id": "tMVOnvB0LANx",
        "outputId": "1b025d91-3154-4cbf-d662-46d47e0b3fac"
      },
      "execution_count": 76,
      "outputs": [
        {
          "output_type": "stream",
          "name": "stdout",
          "text": [
            "Fitting 10 folds for each of 18 candidates, totalling 180 fits\n"
          ]
        }
      ]
    },
    {
      "cell_type": "code",
      "source": [
        "rf_cv_model.best_params_\n"
      ],
      "metadata": {
        "colab": {
          "base_uri": "https://localhost:8080/"
        },
        "id": "BpijTzT0LBYE",
        "outputId": "84618e67-9542-43ce-fe70-ca200bb72b4d"
      },
      "execution_count": 77,
      "outputs": [
        {
          "output_type": "execute_result",
          "data": {
            "text/plain": [
              "{'max_features': 5, 'min_samples_split': 10, 'n_estimators': 500}"
            ]
          },
          "metadata": {},
          "execution_count": 77
        }
      ]
    },
    {
      "cell_type": "code",
      "source": [
        "rf_model = RandomForestClassifier(max_features=5,\n",
        "                                min_samples_split=10,\n",
        "                                n_estimators=500)\n",
        "rf_tuned=rf_model.fit(X_train,y_train)"
      ],
      "metadata": {
        "id": "vwZ5y8EcLCUZ"
      },
      "execution_count": 101,
      "outputs": []
    },
    {
      "cell_type": "code",
      "source": [
        "y_pred = rf_tuned.predict(X_test)\n"
      ],
      "metadata": {
        "id": "Qmsb9CQpLDu6"
      },
      "execution_count": 102,
      "outputs": []
    },
    {
      "cell_type": "code",
      "source": [
        "accuracy_score(y_test,y_pred)\n"
      ],
      "metadata": {
        "colab": {
          "base_uri": "https://localhost:8080/"
        },
        "id": "eNqrFtxrLHu3",
        "outputId": "a518ca66-5a4a-47dc-bdc3-5b67395bb75a"
      },
      "execution_count": 103,
      "outputs": [
        {
          "output_type": "execute_result",
          "data": {
            "text/plain": [
              "0.7445887445887446"
            ]
          },
          "metadata": {},
          "execution_count": 103
        }
      ]
    },
    {
      "cell_type": "code",
      "source": [
        "feature_imp = pd.Series(rf_tuned.feature_importances_,\n",
        "                         index=X_train.columns).sort_values(ascending=False)\n",
        "\n",
        "sns.barplot(x=feature_imp,y=feature_imp.index)\n",
        "plt.xlabel('Variable Importance Score')\n",
        "plt.ylabel('Variables')\n",
        "plt.title(\"Importance\")\n",
        "plt.show()"
      ],
      "metadata": {
        "colab": {
          "base_uri": "https://localhost:8080/",
          "height": 295
        },
        "id": "Vixv9CKiLp0T",
        "outputId": "f95d5aab-fb4b-4203-bfff-578dc9aae422"
      },
      "execution_count": 81,
      "outputs": [
        {
          "output_type": "display_data",
          "data": {
            "text/plain": [
              "<Figure size 432x288 with 1 Axes>"
            ],
            "image/png": "[encoded data removed]"
          },
          "metadata": {
            "needs_background": "light"
          }
        }
      ]
    },
    {
      "cell_type": "code",
      "source": [
        "gbm_model = GradientBoostingClassifier().fit(X_train,y_train)\n",
        "gbm_model"
      ],
      "metadata": {
        "colab": {
          "base_uri": "https://localhost:8080/"
        },
        "id": "XsqtCKWqLrcj",
        "outputId": "7f6957d3-bbd3-49ad-ca6d-80859738fc0b"
      },
      "execution_count": 82,
      "outputs": [
        {
          "output_type": "execute_result",
          "data": {
            "text/plain": [
              "GradientBoostingClassifier()"
            ]
          },
          "metadata": {},
          "execution_count": 82
        }
      ]
    },
    {
      "cell_type": "code",
      "source": [
        "y_pred = gbm_model.predict(X_test)\n"
      ],
      "metadata": {
        "id": "psMSOUviThGW"
      },
      "execution_count": 83,
      "outputs": []
    },
    {
      "cell_type": "code",
      "source": [
        "accuracy_score(y_test,y_pred)\n"
      ],
      "metadata": {
        "colab": {
          "base_uri": "https://localhost:8080/"
        },
        "id": "ZRXrxe3oTiuM",
        "outputId": "1cc8918f-3e99-4190-ad38-2d351581aacb"
      },
      "execution_count": 84,
      "outputs": [
        {
          "output_type": "execute_result",
          "data": {
            "text/plain": [
              "0.7489177489177489"
            ]
          },
          "metadata": {},
          "execution_count": 84
        }
      ]
    },
    {
      "cell_type": "code",
      "source": [
        "gbm_params = {\"learning_rate\":[0.1,0.01],\n",
        "             \"max_depth\":[3,5],\n",
        "             \"n_estimators\":[1000,500]}"
      ],
      "metadata": {
        "id": "dqIxpO5RTjqw"
      },
      "execution_count": 85,
      "outputs": []
    },
    {
      "cell_type": "code",
      "source": [
        "gbm = GradientBoostingClassifier()\n"
      ],
      "metadata": {
        "id": "x1oqHhZRTklT"
      },
      "execution_count": 86,
      "outputs": []
    },
    {
      "cell_type": "code",
      "source": [
        "gbm_cv_model = GridSearchCV(gbm,gbm_params,cv=10,\n",
        "                            n_jobs=-1,verbose = 2).fit(X_train,y_train)"
      ],
      "metadata": {
        "colab": {
          "base_uri": "https://localhost:8080/"
        },
        "id": "BKilbbFSTmQa",
        "outputId": "615255da-9423-403e-973b-39448571d8b1"
      },
      "execution_count": 87,
      "outputs": [
        {
          "output_type": "stream",
          "name": "stdout",
          "text": [
            "Fitting 10 folds for each of 8 candidates, totalling 80 fits\n"
          ]
        }
      ]
    },
    {
      "cell_type": "code",
      "source": [
        "gbm_cv_model.best_params_\n"
      ],
      "metadata": {
        "colab": {
          "base_uri": "https://localhost:8080/"
        },
        "id": "Q161ZWCcTnwW",
        "outputId": "c6406e12-1f2d-4859-f1fe-48c9b349a50d"
      },
      "execution_count": 88,
      "outputs": [
        {
          "output_type": "execute_result",
          "data": {
            "text/plain": [
              "{'learning_rate': 0.01, 'max_depth': 5, 'n_estimators': 500}"
            ]
          },
          "metadata": {},
          "execution_count": 88
        }
      ]
    },
    {
      "cell_type": "code",
      "source": [
        "gbm_tuned = GradientBoostingClassifier(learning_rate =0.01,\n",
        "                                     max_depth = 5,\n",
        "                                     n_estimators=500).fit(X_train,y_train)"
      ],
      "metadata": {
        "id": "pOJWHD6mTonF"
      },
      "execution_count": 94,
      "outputs": []
    },
    {
      "cell_type": "code",
      "source": [
        "y_pred = gbm_tuned.predict(X_test)\n"
      ],
      "metadata": {
        "id": "vOLtjfVmTqc4"
      },
      "execution_count": 95,
      "outputs": []
    },
    {
      "cell_type": "code",
      "source": [
        "accuracy_score(y_test,y_pred)\n"
      ],
      "metadata": {
        "colab": {
          "base_uri": "https://localhost:8080/"
        },
        "id": "TtPo6BdxTts5",
        "outputId": "6356a944-a411-4c87-b301-508d23378106"
      },
      "execution_count": 96,
      "outputs": [
        {
          "output_type": "execute_result",
          "data": {
            "text/plain": [
              "0.7316017316017316"
            ]
          },
          "metadata": {},
          "execution_count": 96
        }
      ]
    },
    {
      "cell_type": "code",
      "source": [
        "feature_imp = pd.Series(gbm_tuned.feature_importances_,\n",
        "                         index=X_train.columns).sort_values(ascending=False)\n",
        "\n",
        "sns.barplot(x=feature_imp,y=feature_imp.index)\n",
        "plt.xlabel('Variable Importance Score')\n",
        "plt.ylabel('Variables')\n",
        "plt.title(\"Importance\")\n",
        "plt.show()"
      ],
      "metadata": {
        "colab": {
          "base_uri": "https://localhost:8080/",
          "height": 295
        },
        "id": "yOm17GSQTu9R",
        "outputId": "f2f7a614-58b2-498a-aace-1e3f4417f14a"
      },
      "execution_count": 97,
      "outputs": [
        {
          "output_type": "display_data",
          "data": {
            "text/plain": [
              "<Figure size 432x288 with 1 Axes>"
            ],
            "image/png": "[encoded data removed]"
          },
          "metadata": {
            "needs_background": "light"
          }
        }
      ]
    },
    {
      "cell_type": "code",
      "source": [
        "import xgboost\n",
        "from xgboost import XGBClassifier"
      ],
      "metadata": {
        "id": "7VXHL7uRTwRm"
      },
      "execution_count": 104,
      "outputs": []
    },
    {
      "cell_type": "code",
      "source": [
        "xgb = XGBClassifier().fit(X_train,y_train)\n",
        "xgb"
      ],
      "metadata": {
        "colab": {
          "base_uri": "https://localhost:8080/"
        },
        "id": "C7CTuWrWVNI2",
        "outputId": "5e642512-222f-45b2-ab57-3a097d6d72c1"
      },
      "execution_count": 105,
      "outputs": [
        {
          "output_type": "execute_result",
          "data": {
            "text/plain": [
              "XGBClassifier()"
            ]
          },
          "metadata": {},
          "execution_count": 105
        }
      ]
    },
    {
      "cell_type": "code",
      "source": [
        "y_pred = xgb.predict(X_test)\n"
      ],
      "metadata": {
        "id": "1nLqWaTSVOgC"
      },
      "execution_count": 106,
      "outputs": []
    },
    {
      "cell_type": "code",
      "source": [
        "accuracy_score(y_test,y_pred)\n"
      ],
      "metadata": {
        "colab": {
          "base_uri": "https://localhost:8080/"
        },
        "id": "IyV04H8yVP45",
        "outputId": "00ac4fc0-10ff-4e78-a5d7-81811c4b6203"
      },
      "execution_count": 107,
      "outputs": [
        {
          "output_type": "execute_result",
          "data": {
            "text/plain": [
              "0.7489177489177489"
            ]
          },
          "metadata": {},
          "execution_count": 107
        }
      ]
    },
    {
      "cell_type": "code",
      "source": [
        "xgb = XGBClassifier()\n",
        "xgb_params = {\"learning_rate\": [0.1,0.01] ,\n",
        "             \"max_depth\":[4,5,8],\n",
        "             \"n_estimators\":[100,500],\n",
        "             \"subsample\":[0.5,1]}"
      ],
      "metadata": {
        "id": "dszHcu4RVRIN"
      },
      "execution_count": 108,
      "outputs": []
    },
    {
      "cell_type": "code",
      "source": [
        "xgb_cv_model = GridSearchCV(xgb,xgb_params,cv=10,\n",
        "                            n_jobs =-1,verbose =2).fit(X_train,y_train)"
      ],
      "metadata": {
        "colab": {
          "base_uri": "https://localhost:8080/"
        },
        "id": "Xfm9DhFAVSYI",
        "outputId": "e92277e2-36e7-4972-8f6e-dd1962c06137"
      },
      "execution_count": 109,
      "outputs": [
        {
          "output_type": "stream",
          "name": "stdout",
          "text": [
            "Fitting 10 folds for each of 24 candidates, totalling 240 fits\n"
          ]
        }
      ]
    },
    {
      "cell_type": "code",
      "source": [
        "xgb_cv_model.best_params_\n"
      ],
      "metadata": {
        "colab": {
          "base_uri": "https://localhost:8080/"
        },
        "id": "qYFiUUDAVUn1",
        "outputId": "3d632ff8-c439-466c-a5e6-75e74cd6c625"
      },
      "execution_count": 110,
      "outputs": [
        {
          "output_type": "execute_result",
          "data": {
            "text/plain": [
              "{'learning_rate': 0.01, 'max_depth': 8, 'n_estimators': 100, 'subsample': 0.5}"
            ]
          },
          "metadata": {},
          "execution_count": 110
        }
      ]
    },
    {
      "cell_type": "code",
      "source": [
        "xgb_tuned = XGBClassifier(subsample=0.5,\n",
        "                        learning_rate=0.01,\n",
        "                        max_depth=8,\n",
        "                        n_estimators=100).fit(X_train,y_train)"
      ],
      "metadata": {
        "id": "-IV3meIyVWmw"
      },
      "execution_count": 112,
      "outputs": []
    },
    {
      "cell_type": "code",
      "source": [
        "y_pred = xgb_tuned.predict(X_test)\n",
        "accuracy_score(y_test,y_pred)\n"
      ],
      "metadata": {
        "colab": {
          "base_uri": "https://localhost:8080/"
        },
        "id": "DE3BEq0nVXsF",
        "outputId": "46e183cc-530d-4fac-b074-16f0e4cf141e"
      },
      "execution_count": 113,
      "outputs": [
        {
          "output_type": "execute_result",
          "data": {
            "text/plain": [
              "0.7489177489177489"
            ]
          },
          "metadata": {},
          "execution_count": 113
        }
      ]
    },
    {
      "cell_type": "code",
      "source": [
        "feature_imp = pd.Series(xgb_tuned.feature_importances_,\n",
        "                         index=X_train.columns).sort_values(ascending=False)\n",
        "\n",
        "sns.barplot(x=feature_imp,y=feature_imp.index)\n",
        "plt.xlabel('Variable Importance Score')\n",
        "plt.ylabel('Variables')\n",
        "plt.title(\"Importance\")\n",
        "plt.show()"
      ],
      "metadata": {
        "colab": {
          "base_uri": "https://localhost:8080/",
          "height": 295
        },
        "id": "2HWXemSPVZNk",
        "outputId": "ee61a479-38a5-4d15-a1e5-58ed1244e72f"
      },
      "execution_count": 114,
      "outputs": [
        {
          "output_type": "display_data",
          "data": {
            "text/plain": [
              "<Figure size 432x288 with 1 Axes>"
            ],
            "image/png": "[encoded data removed]"
          },
          "metadata": {
            "needs_background": "light"
          }
        }
      ]
    },
    {
      "cell_type": "code",
      "source": [
        "from lightgbm import LGBMClassifier\n"
      ],
      "metadata": {
        "id": "Yrlyij5aVgbj"
      },
      "execution_count": 115,
      "outputs": []
    },
    {
      "cell_type": "code",
      "source": [
        "lgb_model = LGBMClassifier().fit(X_train,y_train)\n",
        "lgb_model"
      ],
      "metadata": {
        "colab": {
          "base_uri": "https://localhost:8080/"
        },
        "id": "sUAS_5XIWrn1",
        "outputId": "652ba080-e667-4e3a-95e4-ada6c42b021d"
      },
      "execution_count": 116,
      "outputs": [
        {
          "output_type": "execute_result",
          "data": {
            "text/plain": [
              "LGBMClassifier()"
            ]
          },
          "metadata": {},
          "execution_count": 116
        }
      ]
    },
    {
      "cell_type": "code",
      "source": [
        "y_pred = lgb_model.predict(X_test)\n"
      ],
      "metadata": {
        "id": "T4kx_rDyWs4e"
      },
      "execution_count": 117,
      "outputs": []
    },
    {
      "cell_type": "code",
      "source": [
        "accuracy_score(y_test,y_pred)\n"
      ],
      "metadata": {
        "colab": {
          "base_uri": "https://localhost:8080/"
        },
        "id": "ooDrYb6gWtud",
        "outputId": "0f6999be-cd72-406b-c602-47ad35b3aae0"
      },
      "execution_count": 118,
      "outputs": [
        {
          "output_type": "execute_result",
          "data": {
            "text/plain": [
              "0.7272727272727273"
            ]
          },
          "metadata": {},
          "execution_count": 118
        }
      ]
    },
    {
      "cell_type": "code",
      "source": [
        "lgb = LGBMClassifier()\n"
      ],
      "metadata": {
        "id": "2IwPgb5-Wu60"
      },
      "execution_count": 119,
      "outputs": []
    },
    {
      "cell_type": "code",
      "source": [
        "lgbm_params = {\"learning_rate\": [0.01,0.1,0.5,1],\n",
        "              \"n_estimators\":[40,100,1000],\n",
        "              \"max_depth\":[-1,1,2,3]}"
      ],
      "metadata": {
        "id": "3uav1g8AWv9L"
      },
      "execution_count": 120,
      "outputs": []
    },
    {
      "cell_type": "code",
      "source": [
        "lgbm_cv_model = GridSearchCV(lgb,lgbm_params,cv = 10,n_jobs =-1,\n",
        "                            verbose = 2).fit(X_train,y_train)"
      ],
      "metadata": {
        "colab": {
          "base_uri": "https://localhost:8080/"
        },
        "id": "ix1ZlXuqWxL9",
        "outputId": "aa6c62d3-3fa4-4153-d5e8-b188f5041e7f"
      },
      "execution_count": 121,
      "outputs": [
        {
          "output_type": "stream",
          "name": "stdout",
          "text": [
            "Fitting 10 folds for each of 48 candidates, totalling 480 fits\n"
          ]
        }
      ]
    },
    {
      "cell_type": "code",
      "source": [
        "lgbm_cv_model.best_params_\n"
      ],
      "metadata": {
        "colab": {
          "base_uri": "https://localhost:8080/"
        },
        "id": "zc9_-NQwXqN9",
        "outputId": "f1e9bcd6-4574-48a3-c71a-5320e9c025ed"
      },
      "execution_count": 122,
      "outputs": [
        {
          "output_type": "execute_result",
          "data": {
            "text/plain": [
              "{'learning_rate': 0.1, 'max_depth': 1, 'n_estimators': 40}"
            ]
          },
          "metadata": {},
          "execution_count": 122
        }
      ]
    },
    {
      "cell_type": "code",
      "source": [
        "lgb_tuned = LGBMClassifier(learning_rate=0.1,\n",
        "                         max_depth=1,\n",
        "                         n_estimators=40).fit(X_train,y_train)"
      ],
      "metadata": {
        "id": "fSdMUHLbXr5Y"
      },
      "execution_count": 123,
      "outputs": []
    },
    {
      "cell_type": "code",
      "source": [
        "y_pred = lgb_tuned.predict(X_test)\n"
      ],
      "metadata": {
        "id": "F_owzpOoXtGM"
      },
      "execution_count": 124,
      "outputs": []
    },
    {
      "cell_type": "code",
      "source": [
        "accuracy_score(y_test,y_pred)\n"
      ],
      "metadata": {
        "colab": {
          "base_uri": "https://localhost:8080/"
        },
        "id": "z7loGWlKXuIb",
        "outputId": "240966a9-360e-4e5c-85dc-49e5bc6f8a15"
      },
      "execution_count": 125,
      "outputs": [
        {
          "output_type": "execute_result",
          "data": {
            "text/plain": [
              "0.7575757575757576"
            ]
          },
          "metadata": {},
          "execution_count": 125
        }
      ]
    },
    {
      "cell_type": "code",
      "source": [
        "feature_imp = pd.Series(lgb_tuned.feature_importances_,\n",
        "                         index=X_train.columns).sort_values(ascending=False)\n",
        "\n",
        "sns.barplot(x=feature_imp,y=feature_imp.index)\n",
        "plt.xlabel('Variable Importance Score')\n",
        "plt.ylabel('Variables')\n",
        "plt.title(\"Importance\")\n",
        "plt.show()"
      ],
      "metadata": {
        "colab": {
          "base_uri": "https://localhost:8080/",
          "height": 295
        },
        "id": "tVHcvKNSX0GN",
        "outputId": "e872c2da-c559-430c-d89c-5880a5d888ec"
      },
      "execution_count": 126,
      "outputs": [
        {
          "output_type": "display_data",
          "data": {
            "text/plain": [
              "<Figure size 432x288 with 1 Axes>"
            ],
            "image/png": "[encoded data removed]"
          },
          "metadata": {
            "needs_background": "light"
          }
        }
      ]
    },
    {
      "cell_type": "code",
      "source": [
        "pip install CatBoost"
      ],
      "metadata": {
        "colab": {
          "base_uri": "https://localhost:8080/"
        },
        "id": "9736AFbdYaS2",
        "outputId": "cafb27ea-aa64-4e51-ab69-ad40a0708bb0"
      },
      "execution_count": 130,
      "outputs": [
        {
          "output_type": "stream",
          "name": "stdout",
          "text": [
            "Looking in indexes: https://pypi.org/simple, https://us-python.pkg.dev/colab-wheels/public/simple/\n",
            "Collecting CatBoost\n",
            "  Downloading catboost-1.1-cp37-none-manylinux1_x86_64.whl (76.8 MB)\n",
            "\u001b[K     |████████████████████████████████| 76.8 MB 1.2 MB/s \n",
            "\u001b[?25hRequirement already satisfied: matplotlib in /usr/local/lib/python3.7/dist-packages (from CatBoost) (3.2.2)\n",
            "Requirement already satisfied: six in /usr/local/lib/python3.7/dist-packages (from CatBoost) (1.15.0)\n",
            "Requirement already satisfied: scipy in /usr/local/lib/python3.7/dist-packages (from CatBoost) (1.7.3)\n",
            "Requirement already satisfied: graphviz in /usr/local/lib/python3.7/dist-packages (from CatBoost) (0.10.1)\n",
            "Requirement already satisfied: numpy>=1.16.0 in /usr/local/lib/python3.7/dist-packages (from CatBoost) (1.21.6)\n",
            "Requirement already satisfied: pandas>=0.24.0 in /usr/local/lib/python3.7/dist-packages (from CatBoost) (1.3.5)\n",
            "Requirement already satisfied: plotly in /usr/local/lib/python3.7/dist-packages (from CatBoost) (5.5.0)\n",
            "Requirement already satisfied: pytz>=2017.3 in /usr/local/lib/python3.7/dist-packages (from pandas>=0.24.0->CatBoost) (2022.4)\n",
            "Requirement already satisfied: python-dateutil>=2.7.3 in /usr/local/lib/python3.7/dist-packages (from pandas>=0.24.0->CatBoost) (2.8.2)\n",
            "Requirement already satisfied: cycler>=0.10 in /usr/local/lib/python3.7/dist-packages (from matplotlib->CatBoost) (0.11.0)\n",
            "Requirement already satisfied: kiwisolver>=1.0.1 in /usr/local/lib/python3.7/dist-packages (from matplotlib->CatBoost) (1.4.4)\n",
            "Requirement already satisfied: pyparsing!=2.0.4,!=2.1.2,!=2.1.6,>=2.0.1 in /usr/local/lib/python3.7/dist-packages (from matplotlib->CatBoost) (3.0.9)\n",
            "Requirement already satisfied: typing-extensions in /usr/local/lib/python3.7/dist-packages (from kiwisolver>=1.0.1->matplotlib->CatBoost) (4.1.1)\n",
            "Requirement already satisfied: tenacity>=6.2.0 in /usr/local/lib/python3.7/dist-packages (from plotly->CatBoost) (8.1.0)\n",
            "Installing collected packages: CatBoost\n",
            "Successfully installed CatBoost-1.1\n"
          ]
        }
      ]
    },
    {
      "cell_type": "code",
      "source": [
        "from catboost import CatBoostClassifier\n"
      ],
      "metadata": {
        "id": "Sp9YFoqXYrwY"
      },
      "execution_count": 134,
      "outputs": []
    },
    {
      "cell_type": "code",
      "source": [
        "catb_model = CatBoostClassifier().fit(X_train,y_train)\n"
      ],
      "metadata": {
        "colab": {
          "base_uri": "https://localhost:8080/"
        },
        "id": "Ymg2uwzgYXo3",
        "outputId": "435cd0ba-5dbc-47b3-8934-b7373c0ed11d"
      },
      "execution_count": 135,
      "outputs": [
        {
          "output_type": "stream",
          "name": "stdout",
          "text": [
            "Learning rate set to 0.0079\n",
            "0:\tlearn: 0.6879744\ttotal: 47.3ms\tremaining: 47.2s\n",
            "1:\tlearn: 0.6843414\ttotal: 48.9ms\tremaining: 24.4s\n",
            "2:\tlearn: 0.6805760\ttotal: 53.2ms\tremaining: 17.7s\n",
            "3:\tlearn: 0.6765782\ttotal: 54.8ms\tremaining: 13.7s\n",
            "4:\tlearn: 0.6720829\ttotal: 59.8ms\tremaining: 11.9s\n",
            "5:\tlearn: 0.6681617\ttotal: 62.7ms\tremaining: 10.4s\n",
            "6:\tlearn: 0.6641912\ttotal: 65.6ms\tremaining: 9.31s\n",
            "7:\tlearn: 0.6602881\ttotal: 68.6ms\tremaining: 8.5s\n",
            "8:\tlearn: 0.6562626\ttotal: 71.4ms\tremaining: 7.86s\n",
            "9:\tlearn: 0.6528483\ttotal: 74.2ms\tremaining: 7.35s\n",
            "10:\tlearn: 0.6487823\ttotal: 77.7ms\tremaining: 6.99s\n",
            "11:\tlearn: 0.6454980\ttotal: 79.5ms\tremaining: 6.55s\n",
            "12:\tlearn: 0.6418953\ttotal: 82.5ms\tremaining: 6.26s\n",
            "13:\tlearn: 0.6374431\ttotal: 85.4ms\tremaining: 6.01s\n",
            "14:\tlearn: 0.6339676\ttotal: 88.2ms\tremaining: 5.79s\n",
            "15:\tlearn: 0.6304252\ttotal: 91ms\tremaining: 5.6s\n",
            "16:\tlearn: 0.6266998\ttotal: 93.9ms\tremaining: 5.43s\n",
            "17:\tlearn: 0.6237660\ttotal: 98.1ms\tremaining: 5.35s\n",
            "18:\tlearn: 0.6204394\ttotal: 103ms\tremaining: 5.3s\n",
            "19:\tlearn: 0.6170129\ttotal: 104ms\tremaining: 5.12s\n",
            "20:\tlearn: 0.6133404\ttotal: 107ms\tremaining: 5s\n",
            "21:\tlearn: 0.6104932\ttotal: 110ms\tremaining: 4.9s\n",
            "22:\tlearn: 0.6069523\ttotal: 113ms\tremaining: 4.81s\n",
            "23:\tlearn: 0.6036467\ttotal: 119ms\tremaining: 4.85s\n",
            "24:\tlearn: 0.6005392\ttotal: 124ms\tremaining: 4.83s\n",
            "25:\tlearn: 0.5977520\ttotal: 127ms\tremaining: 4.75s\n",
            "26:\tlearn: 0.5948189\ttotal: 130ms\tremaining: 4.7s\n",
            "27:\tlearn: 0.5919831\ttotal: 132ms\tremaining: 4.59s\n",
            "28:\tlearn: 0.5885065\ttotal: 135ms\tremaining: 4.52s\n",
            "29:\tlearn: 0.5848273\ttotal: 137ms\tremaining: 4.42s\n",
            "30:\tlearn: 0.5822076\ttotal: 138ms\tremaining: 4.32s\n",
            "31:\tlearn: 0.5790604\ttotal: 140ms\tremaining: 4.23s\n",
            "32:\tlearn: 0.5762252\ttotal: 141ms\tremaining: 4.12s\n",
            "33:\tlearn: 0.5745338\ttotal: 142ms\tremaining: 4.03s\n",
            "34:\tlearn: 0.5719085\ttotal: 143ms\tremaining: 3.94s\n",
            "35:\tlearn: 0.5693365\ttotal: 144ms\tremaining: 3.85s\n",
            "36:\tlearn: 0.5665486\ttotal: 145ms\tremaining: 3.77s\n",
            "37:\tlearn: 0.5647413\ttotal: 146ms\tremaining: 3.7s\n",
            "38:\tlearn: 0.5622430\ttotal: 148ms\tremaining: 3.65s\n",
            "39:\tlearn: 0.5600038\ttotal: 149ms\tremaining: 3.58s\n",
            "40:\tlearn: 0.5579786\ttotal: 150ms\tremaining: 3.51s\n",
            "41:\tlearn: 0.5555817\ttotal: 151ms\tremaining: 3.44s\n",
            "42:\tlearn: 0.5533884\ttotal: 152ms\tremaining: 3.38s\n",
            "43:\tlearn: 0.5503718\ttotal: 153ms\tremaining: 3.33s\n",
            "44:\tlearn: 0.5482587\ttotal: 154ms\tremaining: 3.27s\n",
            "45:\tlearn: 0.5458783\ttotal: 155ms\tremaining: 3.22s\n",
            "46:\tlearn: 0.5441370\ttotal: 157ms\tremaining: 3.18s\n",
            "47:\tlearn: 0.5422492\ttotal: 158ms\tremaining: 3.14s\n",
            "48:\tlearn: 0.5397111\ttotal: 160ms\tremaining: 3.1s\n",
            "49:\tlearn: 0.5378482\ttotal: 161ms\tremaining: 3.05s\n",
            "50:\tlearn: 0.5355250\ttotal: 162ms\tremaining: 3.01s\n",
            "51:\tlearn: 0.5334717\ttotal: 163ms\tremaining: 2.96s\n",
            "52:\tlearn: 0.5308796\ttotal: 164ms\tremaining: 2.92s\n",
            "53:\tlearn: 0.5291891\ttotal: 165ms\tremaining: 2.88s\n",
            "54:\tlearn: 0.5273404\ttotal: 166ms\tremaining: 2.85s\n",
            "55:\tlearn: 0.5252025\ttotal: 168ms\tremaining: 2.83s\n",
            "56:\tlearn: 0.5232146\ttotal: 169ms\tremaining: 2.79s\n",
            "57:\tlearn: 0.5212394\ttotal: 170ms\tremaining: 2.76s\n",
            "58:\tlearn: 0.5188927\ttotal: 171ms\tremaining: 2.72s\n",
            "59:\tlearn: 0.5166496\ttotal: 172ms\tremaining: 2.69s\n",
            "60:\tlearn: 0.5151264\ttotal: 174ms\tremaining: 2.68s\n",
            "61:\tlearn: 0.5128109\ttotal: 175ms\tremaining: 2.65s\n",
            "62:\tlearn: 0.5114747\ttotal: 176ms\tremaining: 2.62s\n",
            "63:\tlearn: 0.5096208\ttotal: 177ms\tremaining: 2.59s\n",
            "64:\tlearn: 0.5072601\ttotal: 178ms\tremaining: 2.56s\n",
            "65:\tlearn: 0.5052770\ttotal: 179ms\tremaining: 2.54s\n",
            "66:\tlearn: 0.5036623\ttotal: 181ms\tremaining: 2.52s\n",
            "67:\tlearn: 0.5017328\ttotal: 182ms\tremaining: 2.5s\n",
            "68:\tlearn: 0.5005425\ttotal: 183ms\tremaining: 2.47s\n",
            "69:\tlearn: 0.4991695\ttotal: 184ms\tremaining: 2.44s\n",
            "70:\tlearn: 0.4976900\ttotal: 185ms\tremaining: 2.42s\n",
            "71:\tlearn: 0.4958907\ttotal: 186ms\tremaining: 2.4s\n",
            "72:\tlearn: 0.4944550\ttotal: 187ms\tremaining: 2.38s\n",
            "73:\tlearn: 0.4929501\ttotal: 188ms\tremaining: 2.35s\n",
            "74:\tlearn: 0.4913299\ttotal: 190ms\tremaining: 2.34s\n",
            "75:\tlearn: 0.4898798\ttotal: 191ms\tremaining: 2.33s\n",
            "76:\tlearn: 0.4882946\ttotal: 194ms\tremaining: 2.33s\n",
            "77:\tlearn: 0.4866733\ttotal: 197ms\tremaining: 2.33s\n",
            "78:\tlearn: 0.4849083\ttotal: 200ms\tremaining: 2.33s\n",
            "79:\tlearn: 0.4832344\ttotal: 203ms\tremaining: 2.33s\n",
            "80:\tlearn: 0.4822155\ttotal: 206ms\tremaining: 2.33s\n",
            "81:\tlearn: 0.4805651\ttotal: 209ms\tremaining: 2.33s\n",
            "82:\tlearn: 0.4789437\ttotal: 212ms\tremaining: 2.34s\n",
            "83:\tlearn: 0.4773680\ttotal: 214ms\tremaining: 2.34s\n",
            "84:\tlearn: 0.4759592\ttotal: 217ms\tremaining: 2.34s\n",
            "85:\tlearn: 0.4743296\ttotal: 221ms\tremaining: 2.35s\n",
            "86:\tlearn: 0.4733053\ttotal: 223ms\tremaining: 2.34s\n",
            "87:\tlearn: 0.4719029\ttotal: 226ms\tremaining: 2.34s\n",
            "88:\tlearn: 0.4704197\ttotal: 229ms\tremaining: 2.34s\n",
            "89:\tlearn: 0.4692434\ttotal: 232ms\tremaining: 2.35s\n",
            "90:\tlearn: 0.4676877\ttotal: 235ms\tremaining: 2.35s\n",
            "91:\tlearn: 0.4663135\ttotal: 238ms\tremaining: 2.35s\n",
            "92:\tlearn: 0.4648501\ttotal: 240ms\tremaining: 2.34s\n",
            "93:\tlearn: 0.4634104\ttotal: 243ms\tremaining: 2.35s\n",
            "94:\tlearn: 0.4622453\ttotal: 246ms\tremaining: 2.35s\n",
            "95:\tlearn: 0.4610022\ttotal: 249ms\tremaining: 2.35s\n",
            "96:\tlearn: 0.4596122\ttotal: 253ms\tremaining: 2.36s\n",
            "97:\tlearn: 0.4586478\ttotal: 257ms\tremaining: 2.36s\n",
            "98:\tlearn: 0.4574414\ttotal: 259ms\tremaining: 2.35s\n",
            "99:\tlearn: 0.4564241\ttotal: 261ms\tremaining: 2.35s\n",
            "100:\tlearn: 0.4550640\ttotal: 264ms\tremaining: 2.35s\n",
            "101:\tlearn: 0.4542409\ttotal: 268ms\tremaining: 2.36s\n",
            "102:\tlearn: 0.4532567\ttotal: 270ms\tremaining: 2.35s\n",
            "103:\tlearn: 0.4520656\ttotal: 272ms\tremaining: 2.34s\n",
            "104:\tlearn: 0.4507238\ttotal: 275ms\tremaining: 2.34s\n",
            "105:\tlearn: 0.4498366\ttotal: 278ms\tremaining: 2.34s\n",
            "106:\tlearn: 0.4487896\ttotal: 281ms\tremaining: 2.34s\n",
            "107:\tlearn: 0.4479770\ttotal: 291ms\tremaining: 2.4s\n",
            "108:\tlearn: 0.4470681\ttotal: 292ms\tremaining: 2.39s\n",
            "109:\tlearn: 0.4461679\ttotal: 294ms\tremaining: 2.38s\n",
            "110:\tlearn: 0.4449306\ttotal: 295ms\tremaining: 2.36s\n",
            "111:\tlearn: 0.4442033\ttotal: 297ms\tremaining: 2.35s\n",
            "112:\tlearn: 0.4431958\ttotal: 303ms\tremaining: 2.38s\n",
            "113:\tlearn: 0.4420872\ttotal: 304ms\tremaining: 2.37s\n",
            "114:\tlearn: 0.4411093\ttotal: 306ms\tremaining: 2.35s\n",
            "115:\tlearn: 0.4404177\ttotal: 307ms\tremaining: 2.34s\n",
            "116:\tlearn: 0.4393393\ttotal: 309ms\tremaining: 2.33s\n",
            "117:\tlearn: 0.4385459\ttotal: 315ms\tremaining: 2.35s\n",
            "118:\tlearn: 0.4376311\ttotal: 316ms\tremaining: 2.34s\n",
            "119:\tlearn: 0.4365919\ttotal: 317ms\tremaining: 2.33s\n",
            "120:\tlearn: 0.4356995\ttotal: 318ms\tremaining: 2.31s\n",
            "121:\tlearn: 0.4348411\ttotal: 320ms\tremaining: 2.3s\n",
            "122:\tlearn: 0.4339453\ttotal: 326ms\tremaining: 2.32s\n",
            "123:\tlearn: 0.4328034\ttotal: 327ms\tremaining: 2.31s\n",
            "124:\tlearn: 0.4319283\ttotal: 328ms\tremaining: 2.3s\n",
            "125:\tlearn: 0.4312557\ttotal: 330ms\tremaining: 2.29s\n",
            "126:\tlearn: 0.4304026\ttotal: 332ms\tremaining: 2.28s\n",
            "127:\tlearn: 0.4298280\ttotal: 339ms\tremaining: 2.31s\n",
            "128:\tlearn: 0.4289908\ttotal: 340ms\tremaining: 2.29s\n",
            "129:\tlearn: 0.4281060\ttotal: 341ms\tremaining: 2.28s\n",
            "130:\tlearn: 0.4274906\ttotal: 342ms\tremaining: 2.27s\n",
            "131:\tlearn: 0.4263412\ttotal: 344ms\tremaining: 2.26s\n",
            "132:\tlearn: 0.4253331\ttotal: 350ms\tremaining: 2.28s\n",
            "133:\tlearn: 0.4243619\ttotal: 353ms\tremaining: 2.28s\n",
            "134:\tlearn: 0.4236335\ttotal: 356ms\tremaining: 2.28s\n",
            "135:\tlearn: 0.4228861\ttotal: 357ms\tremaining: 2.27s\n",
            "136:\tlearn: 0.4221383\ttotal: 363ms\tremaining: 2.29s\n",
            "137:\tlearn: 0.4212787\ttotal: 364ms\tremaining: 2.28s\n",
            "138:\tlearn: 0.4205727\ttotal: 366ms\tremaining: 2.27s\n",
            "139:\tlearn: 0.4198398\ttotal: 367ms\tremaining: 2.25s\n",
            "140:\tlearn: 0.4190528\ttotal: 368ms\tremaining: 2.24s\n",
            "141:\tlearn: 0.4181762\ttotal: 369ms\tremaining: 2.23s\n",
            "142:\tlearn: 0.4177653\ttotal: 378ms\tremaining: 2.27s\n",
            "143:\tlearn: 0.4171131\ttotal: 380ms\tremaining: 2.26s\n",
            "144:\tlearn: 0.4165639\ttotal: 381ms\tremaining: 2.25s\n",
            "145:\tlearn: 0.4156471\ttotal: 382ms\tremaining: 2.24s\n",
            "146:\tlearn: 0.4153234\ttotal: 384ms\tremaining: 2.23s\n",
            "147:\tlearn: 0.4145420\ttotal: 391ms\tremaining: 2.25s\n",
            "148:\tlearn: 0.4139180\ttotal: 392ms\tremaining: 2.24s\n",
            "149:\tlearn: 0.4128167\ttotal: 393ms\tremaining: 2.23s\n",
            "150:\tlearn: 0.4120071\ttotal: 395ms\tremaining: 2.22s\n",
            "151:\tlearn: 0.4115050\ttotal: 402ms\tremaining: 2.24s\n",
            "152:\tlearn: 0.4103879\ttotal: 403ms\tremaining: 2.23s\n",
            "153:\tlearn: 0.4096975\ttotal: 404ms\tremaining: 2.22s\n",
            "154:\tlearn: 0.4090180\ttotal: 406ms\tremaining: 2.21s\n",
            "155:\tlearn: 0.4084361\ttotal: 412ms\tremaining: 2.23s\n",
            "156:\tlearn: 0.4075079\ttotal: 413ms\tremaining: 2.22s\n",
            "157:\tlearn: 0.4070229\ttotal: 415ms\tremaining: 2.21s\n",
            "158:\tlearn: 0.4060864\ttotal: 416ms\tremaining: 2.2s\n",
            "159:\tlearn: 0.4055216\ttotal: 418ms\tremaining: 2.19s\n",
            "160:\tlearn: 0.4049737\ttotal: 425ms\tremaining: 2.21s\n",
            "161:\tlearn: 0.4043031\ttotal: 426ms\tremaining: 2.2s\n",
            "162:\tlearn: 0.4037889\ttotal: 428ms\tremaining: 2.19s\n",
            "163:\tlearn: 0.4029969\ttotal: 429ms\tremaining: 2.19s\n",
            "164:\tlearn: 0.4019218\ttotal: 430ms\tremaining: 2.18s\n",
            "165:\tlearn: 0.4013294\ttotal: 436ms\tremaining: 2.19s\n",
            "166:\tlearn: 0.4007642\ttotal: 437ms\tremaining: 2.18s\n",
            "167:\tlearn: 0.4000706\ttotal: 439ms\tremaining: 2.17s\n",
            "168:\tlearn: 0.3996680\ttotal: 440ms\tremaining: 2.17s\n",
            "169:\tlearn: 0.3989467\ttotal: 445ms\tremaining: 2.17s\n",
            "170:\tlearn: 0.3983710\ttotal: 446ms\tremaining: 2.16s\n",
            "171:\tlearn: 0.3975278\ttotal: 448ms\tremaining: 2.16s\n",
            "172:\tlearn: 0.3969084\ttotal: 450ms\tremaining: 2.15s\n",
            "173:\tlearn: 0.3965347\ttotal: 456ms\tremaining: 2.17s\n",
            "174:\tlearn: 0.3956732\ttotal: 458ms\tremaining: 2.16s\n",
            "175:\tlearn: 0.3952873\ttotal: 460ms\tremaining: 2.15s\n",
            "176:\tlearn: 0.3945194\ttotal: 461ms\tremaining: 2.14s\n",
            "177:\tlearn: 0.3937662\ttotal: 463ms\tremaining: 2.14s\n",
            "178:\tlearn: 0.3930186\ttotal: 465ms\tremaining: 2.13s\n",
            "179:\tlearn: 0.3923731\ttotal: 468ms\tremaining: 2.13s\n",
            "180:\tlearn: 0.3918567\ttotal: 470ms\tremaining: 2.13s\n",
            "181:\tlearn: 0.3910109\ttotal: 476ms\tremaining: 2.14s\n",
            "182:\tlearn: 0.3904347\ttotal: 477ms\tremaining: 2.13s\n",
            "183:\tlearn: 0.3898631\ttotal: 479ms\tremaining: 2.12s\n",
            "184:\tlearn: 0.3889877\ttotal: 481ms\tremaining: 2.12s\n",
            "185:\tlearn: 0.3883860\ttotal: 487ms\tremaining: 2.13s\n",
            "186:\tlearn: 0.3876585\ttotal: 488ms\tremaining: 2.12s\n",
            "187:\tlearn: 0.3871096\ttotal: 490ms\tremaining: 2.12s\n",
            "188:\tlearn: 0.3866930\ttotal: 492ms\tremaining: 2.11s\n",
            "189:\tlearn: 0.3860056\ttotal: 495ms\tremaining: 2.11s\n",
            "190:\tlearn: 0.3854310\ttotal: 497ms\tremaining: 2.11s\n",
            "191:\tlearn: 0.3848506\ttotal: 499ms\tremaining: 2.1s\n",
            "192:\tlearn: 0.3842016\ttotal: 502ms\tremaining: 2.1s\n",
            "193:\tlearn: 0.3836819\ttotal: 504ms\tremaining: 2.09s\n",
            "194:\tlearn: 0.3830974\ttotal: 507ms\tremaining: 2.09s\n",
            "195:\tlearn: 0.3827259\ttotal: 510ms\tremaining: 2.09s\n",
            "196:\tlearn: 0.3822292\ttotal: 513ms\tremaining: 2.09s\n",
            "197:\tlearn: 0.3818127\ttotal: 516ms\tremaining: 2.09s\n",
            "198:\tlearn: 0.3813381\ttotal: 519ms\tremaining: 2.09s\n",
            "199:\tlearn: 0.3808627\ttotal: 522ms\tremaining: 2.09s\n",
            "200:\tlearn: 0.3802744\ttotal: 525ms\tremaining: 2.09s\n",
            "201:\tlearn: 0.3797151\ttotal: 528ms\tremaining: 2.09s\n",
            "202:\tlearn: 0.3792543\ttotal: 534ms\tremaining: 2.09s\n",
            "203:\tlearn: 0.3787526\ttotal: 535ms\tremaining: 2.09s\n",
            "204:\tlearn: 0.3783154\ttotal: 538ms\tremaining: 2.09s\n",
            "205:\tlearn: 0.3778142\ttotal: 541ms\tremaining: 2.08s\n",
            "206:\tlearn: 0.3770761\ttotal: 551ms\tremaining: 2.11s\n",
            "207:\tlearn: 0.3766516\ttotal: 553ms\tremaining: 2.1s\n",
            "208:\tlearn: 0.3760002\ttotal: 556ms\tremaining: 2.1s\n",
            "209:\tlearn: 0.3753742\ttotal: 559ms\tremaining: 2.1s\n",
            "210:\tlearn: 0.3748945\ttotal: 562ms\tremaining: 2.1s\n",
            "211:\tlearn: 0.3741601\ttotal: 566ms\tremaining: 2.1s\n",
            "212:\tlearn: 0.3737583\ttotal: 568ms\tremaining: 2.1s\n",
            "213:\tlearn: 0.3731306\ttotal: 571ms\tremaining: 2.1s\n",
            "214:\tlearn: 0.3725594\ttotal: 574ms\tremaining: 2.1s\n",
            "215:\tlearn: 0.3717840\ttotal: 577ms\tremaining: 2.09s\n",
            "216:\tlearn: 0.3712366\ttotal: 580ms\tremaining: 2.09s\n",
            "217:\tlearn: 0.3706128\ttotal: 583ms\tremaining: 2.09s\n",
            "218:\tlearn: 0.3701763\ttotal: 586ms\tremaining: 2.09s\n",
            "219:\tlearn: 0.3696732\ttotal: 589ms\tremaining: 2.09s\n",
            "220:\tlearn: 0.3694511\ttotal: 592ms\tremaining: 2.08s\n",
            "221:\tlearn: 0.3691241\ttotal: 595ms\tremaining: 2.08s\n",
            "222:\tlearn: 0.3685841\ttotal: 598ms\tremaining: 2.08s\n",
            "223:\tlearn: 0.3680235\ttotal: 601ms\tremaining: 2.08s\n",
            "224:\tlearn: 0.3674146\ttotal: 604ms\tremaining: 2.08s\n",
            "225:\tlearn: 0.3669959\ttotal: 608ms\tremaining: 2.08s\n",
            "226:\tlearn: 0.3664598\ttotal: 611ms\tremaining: 2.08s\n",
            "227:\tlearn: 0.3660285\ttotal: 616ms\tremaining: 2.09s\n",
            "228:\tlearn: 0.3656118\ttotal: 619ms\tremaining: 2.08s\n",
            "229:\tlearn: 0.3653013\ttotal: 621ms\tremaining: 2.08s\n",
            "230:\tlearn: 0.3648384\ttotal: 624ms\tremaining: 2.08s\n",
            "231:\tlearn: 0.3645751\ttotal: 627ms\tremaining: 2.08s\n",
            "232:\tlearn: 0.3642266\ttotal: 630ms\tremaining: 2.07s\n",
            "233:\tlearn: 0.3638032\ttotal: 633ms\tremaining: 2.07s\n",
            "234:\tlearn: 0.3634127\ttotal: 636ms\tremaining: 2.07s\n",
            "235:\tlearn: 0.3628147\ttotal: 639ms\tremaining: 2.07s\n",
            "236:\tlearn: 0.3624876\ttotal: 642ms\tremaining: 2.06s\n",
            "237:\tlearn: 0.3621678\ttotal: 645ms\tremaining: 2.06s\n",
            "238:\tlearn: 0.3617236\ttotal: 648ms\tremaining: 2.06s\n",
            "239:\tlearn: 0.3613139\ttotal: 651ms\tremaining: 2.06s\n",
            "240:\tlearn: 0.3608153\ttotal: 654ms\tremaining: 2.06s\n",
            "241:\tlearn: 0.3605083\ttotal: 657ms\tremaining: 2.06s\n",
            "242:\tlearn: 0.3600805\ttotal: 661ms\tremaining: 2.06s\n",
            "243:\tlearn: 0.3598540\ttotal: 663ms\tremaining: 2.05s\n",
            "244:\tlearn: 0.3594826\ttotal: 666ms\tremaining: 2.05s\n",
            "245:\tlearn: 0.3589942\ttotal: 669ms\tremaining: 2.05s\n",
            "246:\tlearn: 0.3580868\ttotal: 674ms\tremaining: 2.05s\n",
            "247:\tlearn: 0.3577168\ttotal: 675ms\tremaining: 2.05s\n",
            "248:\tlearn: 0.3572695\ttotal: 679ms\tremaining: 2.05s\n",
            "249:\tlearn: 0.3569883\ttotal: 682ms\tremaining: 2.04s\n",
            "250:\tlearn: 0.3564914\ttotal: 683ms\tremaining: 2.04s\n",
            "251:\tlearn: 0.3563154\ttotal: 684ms\tremaining: 2.03s\n",
            "252:\tlearn: 0.3559500\ttotal: 686ms\tremaining: 2.02s\n",
            "253:\tlearn: 0.3556725\ttotal: 687ms\tremaining: 2.02s\n",
            "254:\tlearn: 0.3554429\ttotal: 688ms\tremaining: 2.01s\n",
            "255:\tlearn: 0.3550410\ttotal: 689ms\tremaining: 2s\n",
            "256:\tlearn: 0.3544784\ttotal: 690ms\tremaining: 2s\n",
            "257:\tlearn: 0.3541264\ttotal: 692ms\tremaining: 1.99s\n",
            "258:\tlearn: 0.3534407\ttotal: 693ms\tremaining: 1.98s\n",
            "259:\tlearn: 0.3531235\ttotal: 694ms\tremaining: 1.98s\n",
            "260:\tlearn: 0.3527207\ttotal: 696ms\tremaining: 1.97s\n",
            "261:\tlearn: 0.3523243\ttotal: 697ms\tremaining: 1.96s\n",
            "262:\tlearn: 0.3520765\ttotal: 698ms\tremaining: 1.96s\n",
            "263:\tlearn: 0.3515223\ttotal: 699ms\tremaining: 1.95s\n",
            "264:\tlearn: 0.3511085\ttotal: 700ms\tremaining: 1.94s\n",
            "265:\tlearn: 0.3507609\ttotal: 701ms\tremaining: 1.93s\n",
            "266:\tlearn: 0.3505624\ttotal: 702ms\tremaining: 1.93s\n",
            "267:\tlearn: 0.3502285\ttotal: 704ms\tremaining: 1.92s\n",
            "268:\tlearn: 0.3497636\ttotal: 705ms\tremaining: 1.92s\n",
            "269:\tlearn: 0.3493754\ttotal: 706ms\tremaining: 1.91s\n",
            "270:\tlearn: 0.3490792\ttotal: 707ms\tremaining: 1.9s\n",
            "271:\tlearn: 0.3487020\ttotal: 708ms\tremaining: 1.9s\n",
            "272:\tlearn: 0.3483143\ttotal: 709ms\tremaining: 1.89s\n",
            "273:\tlearn: 0.3478934\ttotal: 710ms\tremaining: 1.88s\n",
            "274:\tlearn: 0.3475017\ttotal: 711ms\tremaining: 1.88s\n",
            "275:\tlearn: 0.3471957\ttotal: 713ms\tremaining: 1.87s\n",
            "276:\tlearn: 0.3468656\ttotal: 715ms\tremaining: 1.86s\n",
            "277:\tlearn: 0.3464868\ttotal: 716ms\tremaining: 1.86s\n",
            "278:\tlearn: 0.3462092\ttotal: 717ms\tremaining: 1.85s\n",
            "279:\tlearn: 0.3460606\ttotal: 717ms\tremaining: 1.84s\n",
            "280:\tlearn: 0.3455830\ttotal: 718ms\tremaining: 1.84s\n",
            "281:\tlearn: 0.3453044\ttotal: 727ms\tremaining: 1.85s\n",
            "282:\tlearn: 0.3444292\ttotal: 728ms\tremaining: 1.84s\n",
            "283:\tlearn: 0.3440907\ttotal: 729ms\tremaining: 1.84s\n",
            "284:\tlearn: 0.3435897\ttotal: 730ms\tremaining: 1.83s\n",
            "285:\tlearn: 0.3432924\ttotal: 731ms\tremaining: 1.82s\n",
            "286:\tlearn: 0.3429693\ttotal: 732ms\tremaining: 1.82s\n",
            "287:\tlearn: 0.3423841\ttotal: 734ms\tremaining: 1.81s\n",
            "288:\tlearn: 0.3419082\ttotal: 735ms\tremaining: 1.81s\n",
            "289:\tlearn: 0.3417444\ttotal: 736ms\tremaining: 1.8s\n",
            "290:\tlearn: 0.3413183\ttotal: 737ms\tremaining: 1.8s\n",
            "291:\tlearn: 0.3410967\ttotal: 738ms\tremaining: 1.79s\n",
            "292:\tlearn: 0.3405444\ttotal: 739ms\tremaining: 1.78s\n",
            "293:\tlearn: 0.3400621\ttotal: 740ms\tremaining: 1.78s\n",
            "294:\tlearn: 0.3397168\ttotal: 744ms\tremaining: 1.78s\n",
            "295:\tlearn: 0.3393361\ttotal: 745ms\tremaining: 1.77s\n",
            "296:\tlearn: 0.3390740\ttotal: 747ms\tremaining: 1.77s\n",
            "297:\tlearn: 0.3385868\ttotal: 749ms\tremaining: 1.76s\n",
            "298:\tlearn: 0.3383527\ttotal: 751ms\tremaining: 1.76s\n",
            "299:\tlearn: 0.3381225\ttotal: 752ms\tremaining: 1.75s\n",
            "300:\tlearn: 0.3377180\ttotal: 753ms\tremaining: 1.75s\n",
            "301:\tlearn: 0.3373683\ttotal: 754ms\tremaining: 1.74s\n",
            "302:\tlearn: 0.3369712\ttotal: 755ms\tremaining: 1.74s\n",
            "303:\tlearn: 0.3365943\ttotal: 757ms\tremaining: 1.73s\n",
            "304:\tlearn: 0.3361416\ttotal: 758ms\tremaining: 1.73s\n",
            "305:\tlearn: 0.3357881\ttotal: 759ms\tremaining: 1.72s\n",
            "306:\tlearn: 0.3355420\ttotal: 760ms\tremaining: 1.72s\n",
            "307:\tlearn: 0.3353969\ttotal: 761ms\tremaining: 1.71s\n",
            "308:\tlearn: 0.3350159\ttotal: 762ms\tremaining: 1.7s\n",
            "309:\tlearn: 0.3347592\ttotal: 763ms\tremaining: 1.7s\n",
            "310:\tlearn: 0.3344209\ttotal: 765ms\tremaining: 1.69s\n",
            "311:\tlearn: 0.3340571\ttotal: 766ms\tremaining: 1.69s\n",
            "312:\tlearn: 0.3337410\ttotal: 767ms\tremaining: 1.68s\n",
            "313:\tlearn: 0.3335433\ttotal: 768ms\tremaining: 1.68s\n",
            "314:\tlearn: 0.3331226\ttotal: 769ms\tremaining: 1.67s\n",
            "315:\tlearn: 0.3326529\ttotal: 770ms\tremaining: 1.67s\n",
            "316:\tlearn: 0.3324585\ttotal: 772ms\tremaining: 1.66s\n",
            "317:\tlearn: 0.3319313\ttotal: 773ms\tremaining: 1.66s\n",
            "318:\tlearn: 0.3317666\ttotal: 775ms\tremaining: 1.65s\n",
            "319:\tlearn: 0.3316420\ttotal: 776ms\tremaining: 1.65s\n",
            "320:\tlearn: 0.3313743\ttotal: 777ms\tremaining: 1.64s\n",
            "321:\tlearn: 0.3311034\ttotal: 778ms\tremaining: 1.64s\n",
            "322:\tlearn: 0.3308718\ttotal: 779ms\tremaining: 1.63s\n",
            "323:\tlearn: 0.3305797\ttotal: 780ms\tremaining: 1.63s\n",
            "324:\tlearn: 0.3303344\ttotal: 782ms\tremaining: 1.62s\n",
            "325:\tlearn: 0.3299356\ttotal: 783ms\tremaining: 1.62s\n",
            "326:\tlearn: 0.3297079\ttotal: 784ms\tremaining: 1.61s\n",
            "327:\tlearn: 0.3293339\ttotal: 785ms\tremaining: 1.61s\n",
            "328:\tlearn: 0.3289580\ttotal: 786ms\tremaining: 1.6s\n",
            "329:\tlearn: 0.3285913\ttotal: 787ms\tremaining: 1.6s\n",
            "330:\tlearn: 0.3282758\ttotal: 788ms\tremaining: 1.59s\n",
            "331:\tlearn: 0.3279623\ttotal: 790ms\tremaining: 1.59s\n",
            "332:\tlearn: 0.3274888\ttotal: 791ms\tremaining: 1.58s\n",
            "333:\tlearn: 0.3271103\ttotal: 792ms\tremaining: 1.58s\n",
            "334:\tlearn: 0.3266782\ttotal: 793ms\tremaining: 1.57s\n",
            "335:\tlearn: 0.3263302\ttotal: 794ms\tremaining: 1.57s\n",
            "336:\tlearn: 0.3260965\ttotal: 795ms\tremaining: 1.56s\n",
            "337:\tlearn: 0.3259158\ttotal: 796ms\tremaining: 1.56s\n",
            "338:\tlearn: 0.3258232\ttotal: 797ms\tremaining: 1.55s\n",
            "339:\tlearn: 0.3256590\ttotal: 799ms\tremaining: 1.55s\n",
            "340:\tlearn: 0.3251070\ttotal: 800ms\tremaining: 1.54s\n",
            "341:\tlearn: 0.3248128\ttotal: 801ms\tremaining: 1.54s\n",
            "342:\tlearn: 0.3245641\ttotal: 803ms\tremaining: 1.54s\n",
            "343:\tlearn: 0.3244393\ttotal: 804ms\tremaining: 1.53s\n",
            "344:\tlearn: 0.3239917\ttotal: 809ms\tremaining: 1.53s\n",
            "345:\tlearn: 0.3236587\ttotal: 810ms\tremaining: 1.53s\n",
            "346:\tlearn: 0.3232919\ttotal: 812ms\tremaining: 1.53s\n",
            "347:\tlearn: 0.3229349\ttotal: 813ms\tremaining: 1.52s\n",
            "348:\tlearn: 0.3227158\ttotal: 814ms\tremaining: 1.52s\n",
            "349:\tlearn: 0.3222736\ttotal: 815ms\tremaining: 1.51s\n",
            "350:\tlearn: 0.3219319\ttotal: 816ms\tremaining: 1.51s\n",
            "351:\tlearn: 0.3216924\ttotal: 817ms\tremaining: 1.5s\n",
            "352:\tlearn: 0.3214005\ttotal: 818ms\tremaining: 1.5s\n",
            "353:\tlearn: 0.3212561\ttotal: 820ms\tremaining: 1.5s\n",
            "354:\tlearn: 0.3210802\ttotal: 822ms\tremaining: 1.49s\n",
            "355:\tlearn: 0.3208611\ttotal: 823ms\tremaining: 1.49s\n",
            "356:\tlearn: 0.3207409\ttotal: 824ms\tremaining: 1.48s\n",
            "357:\tlearn: 0.3204410\ttotal: 825ms\tremaining: 1.48s\n",
            "358:\tlearn: 0.3201386\ttotal: 826ms\tremaining: 1.47s\n",
            "359:\tlearn: 0.3199546\ttotal: 827ms\tremaining: 1.47s\n",
            "360:\tlearn: 0.3196740\ttotal: 828ms\tremaining: 1.47s\n",
            "361:\tlearn: 0.3193086\ttotal: 829ms\tremaining: 1.46s\n",
            "362:\tlearn: 0.3190555\ttotal: 830ms\tremaining: 1.46s\n",
            "363:\tlearn: 0.3186316\ttotal: 831ms\tremaining: 1.45s\n",
            "364:\tlearn: 0.3182750\ttotal: 832ms\tremaining: 1.45s\n",
            "365:\tlearn: 0.3179150\ttotal: 834ms\tremaining: 1.44s\n",
            "366:\tlearn: 0.3176213\ttotal: 835ms\tremaining: 1.44s\n",
            "367:\tlearn: 0.3174330\ttotal: 836ms\tremaining: 1.44s\n",
            "368:\tlearn: 0.3170058\ttotal: 837ms\tremaining: 1.43s\n",
            "369:\tlearn: 0.3167177\ttotal: 839ms\tremaining: 1.43s\n",
            "370:\tlearn: 0.3165966\ttotal: 841ms\tremaining: 1.43s\n",
            "371:\tlearn: 0.3163434\ttotal: 842ms\tremaining: 1.42s\n",
            "372:\tlearn: 0.3158102\ttotal: 843ms\tremaining: 1.42s\n",
            "373:\tlearn: 0.3156989\ttotal: 844ms\tremaining: 1.41s\n",
            "374:\tlearn: 0.3153516\ttotal: 846ms\tremaining: 1.41s\n",
            "375:\tlearn: 0.3151365\ttotal: 847ms\tremaining: 1.41s\n",
            "376:\tlearn: 0.3148602\ttotal: 848ms\tremaining: 1.4s\n",
            "377:\tlearn: 0.3146425\ttotal: 853ms\tremaining: 1.4s\n",
            "378:\tlearn: 0.3140533\ttotal: 855ms\tremaining: 1.4s\n",
            "379:\tlearn: 0.3138100\ttotal: 857ms\tremaining: 1.4s\n",
            "380:\tlearn: 0.3134537\ttotal: 861ms\tremaining: 1.4s\n",
            "381:\tlearn: 0.3131326\ttotal: 865ms\tremaining: 1.4s\n",
            "382:\tlearn: 0.3127691\ttotal: 866ms\tremaining: 1.4s\n",
            "383:\tlearn: 0.3123777\ttotal: 870ms\tremaining: 1.4s\n",
            "384:\tlearn: 0.3120189\ttotal: 873ms\tremaining: 1.39s\n",
            "385:\tlearn: 0.3117879\ttotal: 876ms\tremaining: 1.39s\n",
            "386:\tlearn: 0.3117281\ttotal: 878ms\tremaining: 1.39s\n",
            "387:\tlearn: 0.3114269\ttotal: 885ms\tremaining: 1.4s\n",
            "388:\tlearn: 0.3111523\ttotal: 888ms\tremaining: 1.39s\n",
            "389:\tlearn: 0.3107485\ttotal: 891ms\tremaining: 1.39s\n",
            "390:\tlearn: 0.3104823\ttotal: 894ms\tremaining: 1.39s\n",
            "391:\tlearn: 0.3102043\ttotal: 897ms\tremaining: 1.39s\n",
            "392:\tlearn: 0.3100756\ttotal: 900ms\tremaining: 1.39s\n",
            "393:\tlearn: 0.3096455\ttotal: 903ms\tremaining: 1.39s\n",
            "394:\tlearn: 0.3094293\ttotal: 906ms\tremaining: 1.39s\n",
            "395:\tlearn: 0.3091670\ttotal: 909ms\tremaining: 1.39s\n",
            "396:\tlearn: 0.3089720\ttotal: 912ms\tremaining: 1.39s\n",
            "397:\tlearn: 0.3087352\ttotal: 915ms\tremaining: 1.38s\n",
            "398:\tlearn: 0.3083025\ttotal: 918ms\tremaining: 1.38s\n",
            "399:\tlearn: 0.3080730\ttotal: 921ms\tremaining: 1.38s\n",
            "400:\tlearn: 0.3075862\ttotal: 924ms\tremaining: 1.38s\n",
            "401:\tlearn: 0.3072950\ttotal: 927ms\tremaining: 1.38s\n",
            "402:\tlearn: 0.3069260\ttotal: 930ms\tremaining: 1.38s\n",
            "403:\tlearn: 0.3066624\ttotal: 933ms\tremaining: 1.38s\n",
            "404:\tlearn: 0.3064005\ttotal: 936ms\tremaining: 1.37s\n",
            "405:\tlearn: 0.3062175\ttotal: 939ms\tremaining: 1.37s\n",
            "406:\tlearn: 0.3059133\ttotal: 942ms\tremaining: 1.37s\n",
            "407:\tlearn: 0.3056401\ttotal: 945ms\tremaining: 1.37s\n",
            "408:\tlearn: 0.3053706\ttotal: 948ms\tremaining: 1.37s\n",
            "409:\tlearn: 0.3051702\ttotal: 951ms\tremaining: 1.37s\n",
            "410:\tlearn: 0.3047998\ttotal: 953ms\tremaining: 1.37s\n",
            "411:\tlearn: 0.3044851\ttotal: 956ms\tremaining: 1.36s\n",
            "412:\tlearn: 0.3041596\ttotal: 959ms\tremaining: 1.36s\n",
            "413:\tlearn: 0.3039484\ttotal: 962ms\tremaining: 1.36s\n",
            "414:\tlearn: 0.3035868\ttotal: 965ms\tremaining: 1.36s\n",
            "415:\tlearn: 0.3034963\ttotal: 968ms\tremaining: 1.36s\n",
            "416:\tlearn: 0.3032978\ttotal: 971ms\tremaining: 1.36s\n",
            "417:\tlearn: 0.3029297\ttotal: 973ms\tremaining: 1.35s\n",
            "418:\tlearn: 0.3026614\ttotal: 976ms\tremaining: 1.35s\n",
            "419:\tlearn: 0.3025338\ttotal: 979ms\tremaining: 1.35s\n",
            "420:\tlearn: 0.3023329\ttotal: 982ms\tremaining: 1.35s\n",
            "421:\tlearn: 0.3020878\ttotal: 986ms\tremaining: 1.35s\n",
            "422:\tlearn: 0.3018350\ttotal: 987ms\tremaining: 1.35s\n",
            "423:\tlearn: 0.3016547\ttotal: 990ms\tremaining: 1.34s\n",
            "424:\tlearn: 0.3013340\ttotal: 993ms\tremaining: 1.34s\n",
            "425:\tlearn: 0.3012067\ttotal: 996ms\tremaining: 1.34s\n",
            "426:\tlearn: 0.3010644\ttotal: 999ms\tremaining: 1.34s\n",
            "427:\tlearn: 0.3008560\ttotal: 1s\tremaining: 1.34s\n",
            "428:\tlearn: 0.3007435\ttotal: 1s\tremaining: 1.34s\n",
            "429:\tlearn: 0.3005282\ttotal: 1.01s\tremaining: 1.34s\n",
            "430:\tlearn: 0.3002332\ttotal: 1.01s\tremaining: 1.33s\n",
            "431:\tlearn: 0.2999973\ttotal: 1.01s\tremaining: 1.33s\n",
            "432:\tlearn: 0.2998342\ttotal: 1.02s\tremaining: 1.33s\n",
            "433:\tlearn: 0.2995772\ttotal: 1.02s\tremaining: 1.33s\n",
            "434:\tlearn: 0.2994191\ttotal: 1.02s\tremaining: 1.33s\n",
            "435:\tlearn: 0.2992121\ttotal: 1.02s\tremaining: 1.33s\n",
            "436:\tlearn: 0.2990371\ttotal: 1.03s\tremaining: 1.32s\n",
            "437:\tlearn: 0.2988313\ttotal: 1.03s\tremaining: 1.32s\n",
            "438:\tlearn: 0.2986686\ttotal: 1.03s\tremaining: 1.32s\n",
            "439:\tlearn: 0.2985372\ttotal: 1.04s\tremaining: 1.32s\n",
            "440:\tlearn: 0.2982802\ttotal: 1.04s\tremaining: 1.32s\n",
            "441:\tlearn: 0.2978098\ttotal: 1.04s\tremaining: 1.32s\n",
            "442:\tlearn: 0.2975569\ttotal: 1.05s\tremaining: 1.31s\n",
            "443:\tlearn: 0.2974696\ttotal: 1.05s\tremaining: 1.31s\n",
            "444:\tlearn: 0.2971000\ttotal: 1.06s\tremaining: 1.32s\n",
            "445:\tlearn: 0.2968185\ttotal: 1.06s\tremaining: 1.32s\n",
            "446:\tlearn: 0.2965820\ttotal: 1.07s\tremaining: 1.32s\n",
            "447:\tlearn: 0.2963367\ttotal: 1.07s\tremaining: 1.32s\n",
            "448:\tlearn: 0.2962052\ttotal: 1.07s\tremaining: 1.32s\n",
            "449:\tlearn: 0.2958710\ttotal: 1.08s\tremaining: 1.31s\n",
            "450:\tlearn: 0.2957278\ttotal: 1.08s\tremaining: 1.31s\n",
            "451:\tlearn: 0.2954078\ttotal: 1.08s\tremaining: 1.31s\n",
            "452:\tlearn: 0.2950464\ttotal: 1.08s\tremaining: 1.31s\n",
            "453:\tlearn: 0.2943738\ttotal: 1.09s\tremaining: 1.31s\n",
            "454:\tlearn: 0.2940240\ttotal: 1.09s\tremaining: 1.31s\n",
            "455:\tlearn: 0.2937387\ttotal: 1.09s\tremaining: 1.3s\n",
            "456:\tlearn: 0.2932645\ttotal: 1.1s\tremaining: 1.3s\n",
            "457:\tlearn: 0.2930212\ttotal: 1.1s\tremaining: 1.3s\n",
            "458:\tlearn: 0.2927047\ttotal: 1.1s\tremaining: 1.3s\n",
            "459:\tlearn: 0.2925782\ttotal: 1.1s\tremaining: 1.3s\n",
            "460:\tlearn: 0.2923455\ttotal: 1.11s\tremaining: 1.3s\n",
            "461:\tlearn: 0.2921114\ttotal: 1.11s\tremaining: 1.29s\n",
            "462:\tlearn: 0.2918372\ttotal: 1.11s\tremaining: 1.29s\n",
            "463:\tlearn: 0.2916646\ttotal: 1.12s\tremaining: 1.29s\n",
            "464:\tlearn: 0.2914858\ttotal: 1.12s\tremaining: 1.29s\n",
            "465:\tlearn: 0.2913746\ttotal: 1.12s\tremaining: 1.29s\n",
            "466:\tlearn: 0.2911112\ttotal: 1.13s\tremaining: 1.29s\n",
            "467:\tlearn: 0.2909419\ttotal: 1.13s\tremaining: 1.28s\n",
            "468:\tlearn: 0.2907768\ttotal: 1.13s\tremaining: 1.28s\n",
            "469:\tlearn: 0.2905672\ttotal: 1.14s\tremaining: 1.28s\n",
            "470:\tlearn: 0.2902868\ttotal: 1.14s\tremaining: 1.28s\n",
            "471:\tlearn: 0.2901459\ttotal: 1.14s\tremaining: 1.28s\n",
            "472:\tlearn: 0.2895721\ttotal: 1.15s\tremaining: 1.28s\n",
            "473:\tlearn: 0.2893069\ttotal: 1.15s\tremaining: 1.27s\n",
            "474:\tlearn: 0.2892238\ttotal: 1.15s\tremaining: 1.27s\n",
            "475:\tlearn: 0.2890793\ttotal: 1.15s\tremaining: 1.27s\n",
            "476:\tlearn: 0.2888606\ttotal: 1.16s\tremaining: 1.27s\n",
            "477:\tlearn: 0.2885725\ttotal: 1.16s\tremaining: 1.27s\n",
            "478:\tlearn: 0.2884059\ttotal: 1.17s\tremaining: 1.27s\n",
            "479:\tlearn: 0.2881226\ttotal: 1.17s\tremaining: 1.26s\n",
            "480:\tlearn: 0.2878577\ttotal: 1.17s\tremaining: 1.26s\n",
            "481:\tlearn: 0.2876443\ttotal: 1.17s\tremaining: 1.26s\n",
            "482:\tlearn: 0.2872679\ttotal: 1.18s\tremaining: 1.26s\n",
            "483:\tlearn: 0.2869225\ttotal: 1.18s\tremaining: 1.26s\n",
            "484:\tlearn: 0.2867176\ttotal: 1.18s\tremaining: 1.26s\n",
            "485:\tlearn: 0.2863829\ttotal: 1.19s\tremaining: 1.25s\n",
            "486:\tlearn: 0.2862343\ttotal: 1.19s\tremaining: 1.25s\n",
            "487:\tlearn: 0.2860281\ttotal: 1.19s\tremaining: 1.25s\n",
            "488:\tlearn: 0.2858158\ttotal: 1.19s\tremaining: 1.25s\n",
            "489:\tlearn: 0.2857030\ttotal: 1.2s\tremaining: 1.25s\n",
            "490:\tlearn: 0.2853467\ttotal: 1.2s\tremaining: 1.25s\n",
            "491:\tlearn: 0.2852238\ttotal: 1.21s\tremaining: 1.25s\n",
            "492:\tlearn: 0.2848703\ttotal: 1.21s\tremaining: 1.24s\n",
            "493:\tlearn: 0.2847930\ttotal: 1.21s\tremaining: 1.24s\n",
            "494:\tlearn: 0.2844460\ttotal: 1.21s\tremaining: 1.24s\n",
            "495:\tlearn: 0.2842826\ttotal: 1.22s\tremaining: 1.24s\n",
            "496:\tlearn: 0.2840736\ttotal: 1.23s\tremaining: 1.24s\n",
            "497:\tlearn: 0.2838086\ttotal: 1.23s\tremaining: 1.24s\n",
            "498:\tlearn: 0.2836780\ttotal: 1.23s\tremaining: 1.24s\n",
            "499:\tlearn: 0.2835099\ttotal: 1.23s\tremaining: 1.23s\n",
            "500:\tlearn: 0.2833241\ttotal: 1.24s\tremaining: 1.23s\n",
            "501:\tlearn: 0.2831782\ttotal: 1.24s\tremaining: 1.23s\n",
            "502:\tlearn: 0.2829458\ttotal: 1.24s\tremaining: 1.22s\n",
            "503:\tlearn: 0.2824786\ttotal: 1.24s\tremaining: 1.22s\n",
            "504:\tlearn: 0.2823866\ttotal: 1.24s\tremaining: 1.22s\n",
            "505:\tlearn: 0.2821895\ttotal: 1.24s\tremaining: 1.21s\n",
            "506:\tlearn: 0.2817553\ttotal: 1.24s\tremaining: 1.21s\n",
            "507:\tlearn: 0.2815476\ttotal: 1.25s\tremaining: 1.21s\n",
            "508:\tlearn: 0.2813923\ttotal: 1.25s\tremaining: 1.2s\n",
            "509:\tlearn: 0.2812253\ttotal: 1.25s\tremaining: 1.2s\n",
            "510:\tlearn: 0.2811270\ttotal: 1.25s\tremaining: 1.2s\n",
            "511:\tlearn: 0.2809442\ttotal: 1.25s\tremaining: 1.19s\n",
            "512:\tlearn: 0.2806583\ttotal: 1.25s\tremaining: 1.19s\n",
            "513:\tlearn: 0.2804053\ttotal: 1.25s\tremaining: 1.19s\n",
            "514:\tlearn: 0.2802933\ttotal: 1.25s\tremaining: 1.18s\n",
            "515:\tlearn: 0.2802130\ttotal: 1.26s\tremaining: 1.18s\n",
            "516:\tlearn: 0.2800198\ttotal: 1.26s\tremaining: 1.18s\n",
            "517:\tlearn: 0.2797297\ttotal: 1.26s\tremaining: 1.17s\n",
            "518:\tlearn: 0.2792613\ttotal: 1.26s\tremaining: 1.17s\n",
            "519:\tlearn: 0.2791178\ttotal: 1.26s\tremaining: 1.16s\n",
            "520:\tlearn: 0.2787684\ttotal: 1.26s\tremaining: 1.16s\n",
            "521:\tlearn: 0.2785238\ttotal: 1.26s\tremaining: 1.16s\n",
            "522:\tlearn: 0.2784354\ttotal: 1.26s\tremaining: 1.15s\n",
            "523:\tlearn: 0.2782083\ttotal: 1.27s\tremaining: 1.15s\n",
            "524:\tlearn: 0.2779862\ttotal: 1.27s\tremaining: 1.15s\n",
            "525:\tlearn: 0.2778577\ttotal: 1.27s\tremaining: 1.14s\n",
            "526:\tlearn: 0.2776799\ttotal: 1.27s\tremaining: 1.14s\n",
            "527:\tlearn: 0.2774047\ttotal: 1.27s\tremaining: 1.14s\n",
            "528:\tlearn: 0.2770705\ttotal: 1.27s\tremaining: 1.13s\n",
            "529:\tlearn: 0.2767879\ttotal: 1.27s\tremaining: 1.13s\n",
            "530:\tlearn: 0.2765573\ttotal: 1.27s\tremaining: 1.13s\n",
            "531:\tlearn: 0.2762926\ttotal: 1.28s\tremaining: 1.12s\n",
            "532:\tlearn: 0.2760226\ttotal: 1.28s\tremaining: 1.12s\n",
            "533:\tlearn: 0.2759634\ttotal: 1.28s\tremaining: 1.11s\n",
            "534:\tlearn: 0.2755854\ttotal: 1.28s\tremaining: 1.11s\n",
            "535:\tlearn: 0.2753839\ttotal: 1.28s\tremaining: 1.11s\n",
            "536:\tlearn: 0.2748993\ttotal: 1.28s\tremaining: 1.11s\n",
            "537:\tlearn: 0.2747174\ttotal: 1.28s\tremaining: 1.1s\n",
            "538:\tlearn: 0.2745669\ttotal: 1.28s\tremaining: 1.1s\n",
            "539:\tlearn: 0.2742959\ttotal: 1.29s\tremaining: 1.09s\n",
            "540:\tlearn: 0.2740799\ttotal: 1.29s\tremaining: 1.09s\n",
            "541:\tlearn: 0.2739597\ttotal: 1.29s\tremaining: 1.09s\n",
            "542:\tlearn: 0.2737468\ttotal: 1.29s\tremaining: 1.08s\n",
            "543:\tlearn: 0.2736213\ttotal: 1.29s\tremaining: 1.08s\n",
            "544:\tlearn: 0.2734265\ttotal: 1.29s\tremaining: 1.08s\n",
            "545:\tlearn: 0.2731554\ttotal: 1.29s\tremaining: 1.07s\n",
            "546:\tlearn: 0.2730985\ttotal: 1.29s\tremaining: 1.07s\n",
            "547:\tlearn: 0.2727592\ttotal: 1.29s\tremaining: 1.07s\n",
            "548:\tlearn: 0.2725759\ttotal: 1.3s\tremaining: 1.06s\n",
            "549:\tlearn: 0.2723701\ttotal: 1.3s\tremaining: 1.06s\n",
            "550:\tlearn: 0.2720963\ttotal: 1.3s\tremaining: 1.06s\n",
            "551:\tlearn: 0.2717838\ttotal: 1.3s\tremaining: 1.05s\n",
            "552:\tlearn: 0.2716459\ttotal: 1.3s\tremaining: 1.05s\n",
            "553:\tlearn: 0.2714241\ttotal: 1.3s\tremaining: 1.05s\n",
            "554:\tlearn: 0.2710796\ttotal: 1.3s\tremaining: 1.04s\n",
            "555:\tlearn: 0.2708530\ttotal: 1.3s\tremaining: 1.04s\n",
            "556:\tlearn: 0.2707057\ttotal: 1.31s\tremaining: 1.04s\n",
            "557:\tlearn: 0.2702598\ttotal: 1.31s\tremaining: 1.03s\n",
            "558:\tlearn: 0.2701429\ttotal: 1.31s\tremaining: 1.03s\n",
            "559:\tlearn: 0.2699466\ttotal: 1.31s\tremaining: 1.03s\n",
            "560:\tlearn: 0.2697293\ttotal: 1.31s\tremaining: 1.03s\n",
            "561:\tlearn: 0.2694486\ttotal: 1.31s\tremaining: 1.02s\n",
            "562:\tlearn: 0.2690466\ttotal: 1.31s\tremaining: 1.02s\n",
            "563:\tlearn: 0.2689248\ttotal: 1.32s\tremaining: 1.02s\n",
            "564:\tlearn: 0.2686948\ttotal: 1.32s\tremaining: 1.02s\n",
            "565:\tlearn: 0.2685619\ttotal: 1.32s\tremaining: 1.01s\n",
            "566:\tlearn: 0.2683828\ttotal: 1.33s\tremaining: 1.01s\n",
            "567:\tlearn: 0.2679790\ttotal: 1.33s\tremaining: 1.01s\n",
            "568:\tlearn: 0.2678450\ttotal: 1.33s\tremaining: 1.01s\n",
            "569:\tlearn: 0.2676119\ttotal: 1.33s\tremaining: 1.01s\n",
            "570:\tlearn: 0.2673814\ttotal: 1.34s\tremaining: 1s\n",
            "571:\tlearn: 0.2672294\ttotal: 1.34s\tremaining: 1s\n",
            "572:\tlearn: 0.2669753\ttotal: 1.34s\tremaining: 1s\n",
            "573:\tlearn: 0.2668201\ttotal: 1.35s\tremaining: 1s\n",
            "574:\tlearn: 0.2663744\ttotal: 1.35s\tremaining: 999ms\n",
            "575:\tlearn: 0.2663089\ttotal: 1.35s\tremaining: 996ms\n",
            "576:\tlearn: 0.2661984\ttotal: 1.36s\tremaining: 995ms\n",
            "577:\tlearn: 0.2657423\ttotal: 1.36s\tremaining: 992ms\n",
            "578:\tlearn: 0.2655906\ttotal: 1.36s\tremaining: 990ms\n",
            "579:\tlearn: 0.2652973\ttotal: 1.36s\tremaining: 988ms\n",
            "580:\tlearn: 0.2651702\ttotal: 1.37s\tremaining: 986ms\n",
            "581:\tlearn: 0.2649804\ttotal: 1.38s\tremaining: 988ms\n",
            "582:\tlearn: 0.2648733\ttotal: 1.38s\tremaining: 985ms\n",
            "583:\tlearn: 0.2645161\ttotal: 1.38s\tremaining: 982ms\n",
            "584:\tlearn: 0.2643629\ttotal: 1.38s\tremaining: 979ms\n",
            "585:\tlearn: 0.2640424\ttotal: 1.38s\tremaining: 976ms\n",
            "586:\tlearn: 0.2639059\ttotal: 1.38s\tremaining: 973ms\n",
            "587:\tlearn: 0.2635783\ttotal: 1.39s\tremaining: 972ms\n",
            "588:\tlearn: 0.2633252\ttotal: 1.39s\tremaining: 970ms\n",
            "589:\tlearn: 0.2631536\ttotal: 1.39s\tremaining: 967ms\n",
            "590:\tlearn: 0.2629800\ttotal: 1.39s\tremaining: 965ms\n",
            "591:\tlearn: 0.2626833\ttotal: 1.4s\tremaining: 963ms\n",
            "592:\tlearn: 0.2624857\ttotal: 1.4s\tremaining: 961ms\n",
            "593:\tlearn: 0.2622796\ttotal: 1.4s\tremaining: 959ms\n",
            "594:\tlearn: 0.2619838\ttotal: 1.41s\tremaining: 958ms\n",
            "595:\tlearn: 0.2618002\ttotal: 1.41s\tremaining: 955ms\n",
            "596:\tlearn: 0.2615721\ttotal: 1.41s\tremaining: 953ms\n",
            "597:\tlearn: 0.2615152\ttotal: 1.42s\tremaining: 951ms\n",
            "598:\tlearn: 0.2613501\ttotal: 1.42s\tremaining: 949ms\n",
            "599:\tlearn: 0.2611080\ttotal: 1.42s\tremaining: 947ms\n",
            "600:\tlearn: 0.2609645\ttotal: 1.42s\tremaining: 946ms\n",
            "601:\tlearn: 0.2606897\ttotal: 1.43s\tremaining: 944ms\n",
            "602:\tlearn: 0.2602639\ttotal: 1.43s\tremaining: 942ms\n",
            "603:\tlearn: 0.2599329\ttotal: 1.43s\tremaining: 940ms\n",
            "604:\tlearn: 0.2597957\ttotal: 1.44s\tremaining: 938ms\n",
            "605:\tlearn: 0.2595943\ttotal: 1.44s\tremaining: 936ms\n",
            "606:\tlearn: 0.2593111\ttotal: 1.44s\tremaining: 934ms\n",
            "607:\tlearn: 0.2591161\ttotal: 1.45s\tremaining: 932ms\n",
            "608:\tlearn: 0.2588429\ttotal: 1.45s\tremaining: 930ms\n",
            "609:\tlearn: 0.2586168\ttotal: 1.46s\tremaining: 931ms\n",
            "610:\tlearn: 0.2583814\ttotal: 1.46s\tremaining: 929ms\n",
            "611:\tlearn: 0.2582859\ttotal: 1.46s\tremaining: 927ms\n",
            "612:\tlearn: 0.2581228\ttotal: 1.47s\tremaining: 925ms\n",
            "613:\tlearn: 0.2576821\ttotal: 1.47s\tremaining: 924ms\n",
            "614:\tlearn: 0.2573665\ttotal: 1.47s\tremaining: 922ms\n",
            "615:\tlearn: 0.2571712\ttotal: 1.47s\tremaining: 919ms\n",
            "616:\tlearn: 0.2569123\ttotal: 1.48s\tremaining: 917ms\n",
            "617:\tlearn: 0.2567421\ttotal: 1.48s\tremaining: 915ms\n",
            "618:\tlearn: 0.2565468\ttotal: 1.48s\tremaining: 913ms\n",
            "619:\tlearn: 0.2560903\ttotal: 1.49s\tremaining: 911ms\n",
            "620:\tlearn: 0.2558848\ttotal: 1.49s\tremaining: 909ms\n",
            "621:\tlearn: 0.2557082\ttotal: 1.49s\tremaining: 907ms\n",
            "622:\tlearn: 0.2555673\ttotal: 1.49s\tremaining: 905ms\n",
            "623:\tlearn: 0.2553104\ttotal: 1.5s\tremaining: 903ms\n",
            "624:\tlearn: 0.2551517\ttotal: 1.5s\tremaining: 901ms\n",
            "625:\tlearn: 0.2548730\ttotal: 1.5s\tremaining: 899ms\n",
            "626:\tlearn: 0.2547001\ttotal: 1.51s\tremaining: 897ms\n",
            "627:\tlearn: 0.2545593\ttotal: 1.51s\tremaining: 895ms\n",
            "628:\tlearn: 0.2543065\ttotal: 1.51s\tremaining: 893ms\n",
            "629:\tlearn: 0.2541924\ttotal: 1.52s\tremaining: 891ms\n",
            "630:\tlearn: 0.2540412\ttotal: 1.52s\tremaining: 889ms\n",
            "631:\tlearn: 0.2540272\ttotal: 1.52s\tremaining: 886ms\n",
            "632:\tlearn: 0.2538574\ttotal: 1.52s\tremaining: 884ms\n",
            "633:\tlearn: 0.2535445\ttotal: 1.53s\tremaining: 882ms\n",
            "634:\tlearn: 0.2533613\ttotal: 1.53s\tremaining: 879ms\n",
            "635:\tlearn: 0.2532291\ttotal: 1.53s\tremaining: 876ms\n",
            "636:\tlearn: 0.2529860\ttotal: 1.53s\tremaining: 873ms\n",
            "637:\tlearn: 0.2529107\ttotal: 1.53s\tremaining: 870ms\n",
            "638:\tlearn: 0.2528306\ttotal: 1.53s\tremaining: 867ms\n",
            "639:\tlearn: 0.2527318\ttotal: 1.53s\tremaining: 864ms\n",
            "640:\tlearn: 0.2526089\ttotal: 1.54s\tremaining: 861ms\n",
            "641:\tlearn: 0.2523294\ttotal: 1.54s\tremaining: 858ms\n",
            "642:\tlearn: 0.2521745\ttotal: 1.54s\tremaining: 855ms\n",
            "643:\tlearn: 0.2520903\ttotal: 1.54s\tremaining: 851ms\n",
            "644:\tlearn: 0.2518111\ttotal: 1.54s\tremaining: 848ms\n",
            "645:\tlearn: 0.2517013\ttotal: 1.54s\tremaining: 845ms\n",
            "646:\tlearn: 0.2513785\ttotal: 1.54s\tremaining: 842ms\n",
            "647:\tlearn: 0.2510264\ttotal: 1.54s\tremaining: 840ms\n",
            "648:\tlearn: 0.2509075\ttotal: 1.55s\tremaining: 837ms\n",
            "649:\tlearn: 0.2507789\ttotal: 1.55s\tremaining: 833ms\n",
            "650:\tlearn: 0.2505793\ttotal: 1.55s\tremaining: 830ms\n",
            "651:\tlearn: 0.2504598\ttotal: 1.55s\tremaining: 827ms\n",
            "652:\tlearn: 0.2502472\ttotal: 1.55s\tremaining: 824ms\n",
            "653:\tlearn: 0.2501631\ttotal: 1.55s\tremaining: 821ms\n",
            "654:\tlearn: 0.2500554\ttotal: 1.55s\tremaining: 818ms\n",
            "655:\tlearn: 0.2499953\ttotal: 1.55s\tremaining: 815ms\n",
            "656:\tlearn: 0.2497997\ttotal: 1.55s\tremaining: 812ms\n",
            "657:\tlearn: 0.2496228\ttotal: 1.56s\tremaining: 812ms\n",
            "658:\tlearn: 0.2493790\ttotal: 1.56s\tremaining: 810ms\n",
            "659:\tlearn: 0.2490870\ttotal: 1.57s\tremaining: 807ms\n",
            "660:\tlearn: 0.2489131\ttotal: 1.59s\tremaining: 815ms\n",
            "661:\tlearn: 0.2487822\ttotal: 1.6s\tremaining: 815ms\n",
            "662:\tlearn: 0.2486344\ttotal: 1.6s\tremaining: 815ms\n",
            "663:\tlearn: 0.2485112\ttotal: 1.62s\tremaining: 818ms\n",
            "664:\tlearn: 0.2483456\ttotal: 1.62s\tremaining: 817ms\n",
            "665:\tlearn: 0.2478812\ttotal: 1.63s\tremaining: 817ms\n",
            "666:\tlearn: 0.2477720\ttotal: 1.64s\tremaining: 819ms\n",
            "667:\tlearn: 0.2476856\ttotal: 1.65s\tremaining: 819ms\n",
            "668:\tlearn: 0.2473703\ttotal: 1.66s\tremaining: 820ms\n",
            "669:\tlearn: 0.2469242\ttotal: 1.66s\tremaining: 820ms\n",
            "670:\tlearn: 0.2468015\ttotal: 1.67s\tremaining: 820ms\n",
            "671:\tlearn: 0.2464829\ttotal: 1.68s\tremaining: 820ms\n",
            "672:\tlearn: 0.2462695\ttotal: 1.68s\tremaining: 818ms\n",
            "673:\tlearn: 0.2460049\ttotal: 1.69s\tremaining: 818ms\n",
            "674:\tlearn: 0.2459397\ttotal: 1.7s\tremaining: 818ms\n",
            "675:\tlearn: 0.2457831\ttotal: 1.7s\tremaining: 817ms\n",
            "676:\tlearn: 0.2456189\ttotal: 1.71s\tremaining: 817ms\n",
            "677:\tlearn: 0.2453592\ttotal: 1.72s\tremaining: 818ms\n",
            "678:\tlearn: 0.2450781\ttotal: 1.73s\tremaining: 817ms\n",
            "679:\tlearn: 0.2449079\ttotal: 1.74s\tremaining: 819ms\n",
            "680:\tlearn: 0.2447622\ttotal: 1.74s\tremaining: 817ms\n",
            "681:\tlearn: 0.2446009\ttotal: 1.75s\tremaining: 817ms\n",
            "682:\tlearn: 0.2444911\ttotal: 1.76s\tremaining: 817ms\n",
            "683:\tlearn: 0.2442647\ttotal: 1.76s\tremaining: 815ms\n",
            "684:\tlearn: 0.2439881\ttotal: 1.78s\tremaining: 818ms\n",
            "685:\tlearn: 0.2438743\ttotal: 1.78s\tremaining: 817ms\n",
            "686:\tlearn: 0.2436232\ttotal: 1.79s\tremaining: 816ms\n",
            "687:\tlearn: 0.2432542\ttotal: 1.8s\tremaining: 816ms\n",
            "688:\tlearn: 0.2430422\ttotal: 1.8s\tremaining: 813ms\n",
            "689:\tlearn: 0.2427875\ttotal: 1.81s\tremaining: 816ms\n",
            "690:\tlearn: 0.2426080\ttotal: 1.82s\tremaining: 814ms\n",
            "691:\tlearn: 0.2423995\ttotal: 1.82s\tremaining: 813ms\n",
            "692:\tlearn: 0.2422839\ttotal: 1.83s\tremaining: 810ms\n",
            "693:\tlearn: 0.2419745\ttotal: 1.84s\tremaining: 813ms\n",
            "694:\tlearn: 0.2419342\ttotal: 1.85s\tremaining: 810ms\n",
            "695:\tlearn: 0.2417488\ttotal: 1.85s\tremaining: 809ms\n",
            "696:\tlearn: 0.2416767\ttotal: 1.86s\tremaining: 809ms\n",
            "697:\tlearn: 0.2415790\ttotal: 1.86s\tremaining: 807ms\n",
            "698:\tlearn: 0.2412939\ttotal: 1.87s\tremaining: 806ms\n",
            "699:\tlearn: 0.2411213\ttotal: 1.88s\tremaining: 805ms\n",
            "700:\tlearn: 0.2408446\ttotal: 1.88s\tremaining: 803ms\n",
            "701:\tlearn: 0.2405587\ttotal: 1.89s\tremaining: 802ms\n",
            "702:\tlearn: 0.2403313\ttotal: 1.89s\tremaining: 800ms\n",
            "703:\tlearn: 0.2401492\ttotal: 1.9s\tremaining: 798ms\n",
            "704:\tlearn: 0.2398918\ttotal: 1.91s\tremaining: 798ms\n",
            "705:\tlearn: 0.2396047\ttotal: 1.91s\tremaining: 796ms\n",
            "706:\tlearn: 0.2395006\ttotal: 1.92s\tremaining: 795ms\n",
            "707:\tlearn: 0.2394055\ttotal: 1.92s\tremaining: 794ms\n",
            "708:\tlearn: 0.2392352\ttotal: 1.93s\tremaining: 792ms\n",
            "709:\tlearn: 0.2390019\ttotal: 1.94s\tremaining: 791ms\n",
            "710:\tlearn: 0.2388457\ttotal: 1.94s\tremaining: 790ms\n",
            "711:\tlearn: 0.2386594\ttotal: 1.94s\tremaining: 787ms\n",
            "712:\tlearn: 0.2385861\ttotal: 1.95s\tremaining: 785ms\n",
            "713:\tlearn: 0.2383764\ttotal: 1.96s\tremaining: 784ms\n",
            "714:\tlearn: 0.2382499\ttotal: 1.96s\tremaining: 783ms\n",
            "715:\tlearn: 0.2380496\ttotal: 1.97s\tremaining: 782ms\n",
            "716:\tlearn: 0.2377915\ttotal: 1.98s\tremaining: 780ms\n",
            "717:\tlearn: 0.2376989\ttotal: 1.98s\tremaining: 779ms\n",
            "718:\tlearn: 0.2375933\ttotal: 1.99s\tremaining: 777ms\n",
            "719:\tlearn: 0.2374398\ttotal: 1.99s\tremaining: 775ms\n",
            "720:\tlearn: 0.2372318\ttotal: 2s\tremaining: 774ms\n",
            "721:\tlearn: 0.2370847\ttotal: 2s\tremaining: 772ms\n",
            "722:\tlearn: 0.2367496\ttotal: 2.01s\tremaining: 769ms\n",
            "723:\tlearn: 0.2363787\ttotal: 2.01s\tremaining: 768ms\n",
            "724:\tlearn: 0.2362295\ttotal: 2.02s\tremaining: 766ms\n",
            "725:\tlearn: 0.2361886\ttotal: 2.02s\tremaining: 764ms\n",
            "726:\tlearn: 0.2360077\ttotal: 2.03s\tremaining: 763ms\n",
            "727:\tlearn: 0.2358936\ttotal: 2.04s\tremaining: 762ms\n",
            "728:\tlearn: 0.2357625\ttotal: 2.04s\tremaining: 760ms\n",
            "729:\tlearn: 0.2356657\ttotal: 2.05s\tremaining: 759ms\n",
            "730:\tlearn: 0.2355083\ttotal: 2.06s\tremaining: 757ms\n",
            "731:\tlearn: 0.2354345\ttotal: 2.06s\tremaining: 754ms\n",
            "732:\tlearn: 0.2353153\ttotal: 2.07s\tremaining: 753ms\n",
            "733:\tlearn: 0.2352290\ttotal: 2.07s\tremaining: 752ms\n",
            "734:\tlearn: 0.2351001\ttotal: 2.08s\tremaining: 750ms\n",
            "735:\tlearn: 0.2349968\ttotal: 2.08s\tremaining: 748ms\n",
            "736:\tlearn: 0.2349104\ttotal: 2.09s\tremaining: 745ms\n",
            "737:\tlearn: 0.2348057\ttotal: 2.1s\tremaining: 744ms\n",
            "738:\tlearn: 0.2346429\ttotal: 2.1s\tremaining: 743ms\n",
            "739:\tlearn: 0.2344062\ttotal: 2.11s\tremaining: 740ms\n",
            "740:\tlearn: 0.2343251\ttotal: 2.11s\tremaining: 738ms\n",
            "741:\tlearn: 0.2339286\ttotal: 2.12s\tremaining: 736ms\n",
            "742:\tlearn: 0.2337558\ttotal: 2.12s\tremaining: 733ms\n",
            "743:\tlearn: 0.2336824\ttotal: 2.12s\tremaining: 729ms\n",
            "744:\tlearn: 0.2336136\ttotal: 2.12s\tremaining: 726ms\n",
            "745:\tlearn: 0.2334585\ttotal: 2.12s\tremaining: 723ms\n",
            "746:\tlearn: 0.2330439\ttotal: 2.14s\tremaining: 725ms\n",
            "747:\tlearn: 0.2327640\ttotal: 2.14s\tremaining: 721ms\n",
            "748:\tlearn: 0.2325958\ttotal: 2.14s\tremaining: 718ms\n",
            "749:\tlearn: 0.2323885\ttotal: 2.14s\tremaining: 714ms\n",
            "750:\tlearn: 0.2321622\ttotal: 2.14s\tremaining: 711ms\n",
            "751:\tlearn: 0.2320129\ttotal: 2.15s\tremaining: 708ms\n",
            "752:\tlearn: 0.2319447\ttotal: 2.16s\tremaining: 707ms\n",
            "753:\tlearn: 0.2318012\ttotal: 2.16s\tremaining: 704ms\n",
            "754:\tlearn: 0.2316776\ttotal: 2.16s\tremaining: 700ms\n",
            "755:\tlearn: 0.2315503\ttotal: 2.16s\tremaining: 697ms\n",
            "756:\tlearn: 0.2313964\ttotal: 2.16s\tremaining: 693ms\n",
            "757:\tlearn: 0.2313403\ttotal: 2.16s\tremaining: 690ms\n",
            "758:\tlearn: 0.2311582\ttotal: 2.16s\tremaining: 686ms\n",
            "759:\tlearn: 0.2309643\ttotal: 2.16s\tremaining: 683ms\n",
            "760:\tlearn: 0.2308683\ttotal: 2.16s\tremaining: 680ms\n",
            "761:\tlearn: 0.2306519\ttotal: 2.17s\tremaining: 676ms\n",
            "762:\tlearn: 0.2304512\ttotal: 2.17s\tremaining: 673ms\n",
            "763:\tlearn: 0.2303585\ttotal: 2.17s\tremaining: 670ms\n",
            "764:\tlearn: 0.2301186\ttotal: 2.17s\tremaining: 666ms\n",
            "765:\tlearn: 0.2299520\ttotal: 2.17s\tremaining: 663ms\n",
            "766:\tlearn: 0.2298211\ttotal: 2.17s\tremaining: 659ms\n",
            "767:\tlearn: 0.2296461\ttotal: 2.17s\tremaining: 656ms\n",
            "768:\tlearn: 0.2294316\ttotal: 2.17s\tremaining: 653ms\n",
            "769:\tlearn: 0.2292530\ttotal: 2.18s\tremaining: 650ms\n",
            "770:\tlearn: 0.2290728\ttotal: 2.18s\tremaining: 648ms\n",
            "771:\tlearn: 0.2288433\ttotal: 2.18s\tremaining: 645ms\n",
            "772:\tlearn: 0.2287000\ttotal: 2.18s\tremaining: 641ms\n",
            "773:\tlearn: 0.2284832\ttotal: 2.18s\tremaining: 638ms\n",
            "774:\tlearn: 0.2283585\ttotal: 2.19s\tremaining: 634ms\n",
            "775:\tlearn: 0.2282229\ttotal: 2.19s\tremaining: 631ms\n",
            "776:\tlearn: 0.2281303\ttotal: 2.19s\tremaining: 629ms\n",
            "777:\tlearn: 0.2279449\ttotal: 2.19s\tremaining: 626ms\n",
            "778:\tlearn: 0.2277649\ttotal: 2.19s\tremaining: 623ms\n",
            "779:\tlearn: 0.2276696\ttotal: 2.19s\tremaining: 619ms\n",
            "780:\tlearn: 0.2274767\ttotal: 2.2s\tremaining: 616ms\n",
            "781:\tlearn: 0.2272327\ttotal: 2.2s\tremaining: 613ms\n",
            "782:\tlearn: 0.2270917\ttotal: 2.2s\tremaining: 610ms\n",
            "783:\tlearn: 0.2269343\ttotal: 2.2s\tremaining: 606ms\n",
            "784:\tlearn: 0.2266742\ttotal: 2.2s\tremaining: 603ms\n",
            "785:\tlearn: 0.2264986\ttotal: 2.2s\tremaining: 600ms\n",
            "786:\tlearn: 0.2263188\ttotal: 2.2s\tremaining: 597ms\n",
            "787:\tlearn: 0.2261086\ttotal: 2.21s\tremaining: 593ms\n",
            "788:\tlearn: 0.2258824\ttotal: 2.21s\tremaining: 590ms\n",
            "789:\tlearn: 0.2256495\ttotal: 2.21s\tremaining: 587ms\n",
            "790:\tlearn: 0.2253640\ttotal: 2.21s\tremaining: 584ms\n",
            "791:\tlearn: 0.2253015\ttotal: 2.21s\tremaining: 581ms\n",
            "792:\tlearn: 0.2251932\ttotal: 2.21s\tremaining: 577ms\n",
            "793:\tlearn: 0.2250610\ttotal: 2.21s\tremaining: 574ms\n",
            "794:\tlearn: 0.2249378\ttotal: 2.21s\tremaining: 571ms\n",
            "795:\tlearn: 0.2247418\ttotal: 2.21s\tremaining: 568ms\n",
            "796:\tlearn: 0.2243590\ttotal: 2.22s\tremaining: 565ms\n",
            "797:\tlearn: 0.2241881\ttotal: 2.22s\tremaining: 561ms\n",
            "798:\tlearn: 0.2239846\ttotal: 2.22s\tremaining: 558ms\n",
            "799:\tlearn: 0.2238098\ttotal: 2.22s\tremaining: 555ms\n",
            "800:\tlearn: 0.2237013\ttotal: 2.22s\tremaining: 552ms\n",
            "801:\tlearn: 0.2235843\ttotal: 2.22s\tremaining: 549ms\n",
            "802:\tlearn: 0.2234171\ttotal: 2.22s\tremaining: 546ms\n",
            "803:\tlearn: 0.2232202\ttotal: 2.23s\tremaining: 543ms\n",
            "804:\tlearn: 0.2230832\ttotal: 2.23s\tremaining: 540ms\n",
            "805:\tlearn: 0.2229630\ttotal: 2.23s\tremaining: 536ms\n",
            "806:\tlearn: 0.2227556\ttotal: 2.23s\tremaining: 533ms\n",
            "807:\tlearn: 0.2225513\ttotal: 2.23s\tremaining: 530ms\n",
            "808:\tlearn: 0.2224407\ttotal: 2.23s\tremaining: 527ms\n",
            "809:\tlearn: 0.2223815\ttotal: 2.23s\tremaining: 524ms\n",
            "810:\tlearn: 0.2221158\ttotal: 2.23s\tremaining: 521ms\n",
            "811:\tlearn: 0.2218880\ttotal: 2.24s\tremaining: 518ms\n",
            "812:\tlearn: 0.2217191\ttotal: 2.24s\tremaining: 515ms\n",
            "813:\tlearn: 0.2216216\ttotal: 2.24s\tremaining: 512ms\n",
            "814:\tlearn: 0.2214471\ttotal: 2.24s\tremaining: 509ms\n",
            "815:\tlearn: 0.2212460\ttotal: 2.24s\tremaining: 505ms\n",
            "816:\tlearn: 0.2210716\ttotal: 2.24s\tremaining: 502ms\n",
            "817:\tlearn: 0.2207700\ttotal: 2.24s\tremaining: 499ms\n",
            "818:\tlearn: 0.2206518\ttotal: 2.25s\tremaining: 496ms\n",
            "819:\tlearn: 0.2205547\ttotal: 2.25s\tremaining: 493ms\n",
            "820:\tlearn: 0.2202621\ttotal: 2.25s\tremaining: 490ms\n",
            "821:\tlearn: 0.2200709\ttotal: 2.25s\tremaining: 487ms\n",
            "822:\tlearn: 0.2199827\ttotal: 2.25s\tremaining: 484ms\n",
            "823:\tlearn: 0.2198117\ttotal: 2.25s\tremaining: 481ms\n",
            "824:\tlearn: 0.2196338\ttotal: 2.25s\tremaining: 478ms\n",
            "825:\tlearn: 0.2193833\ttotal: 2.25s\tremaining: 475ms\n",
            "826:\tlearn: 0.2191040\ttotal: 2.25s\tremaining: 472ms\n",
            "827:\tlearn: 0.2188188\ttotal: 2.26s\tremaining: 469ms\n",
            "828:\tlearn: 0.2186232\ttotal: 2.26s\tremaining: 466ms\n",
            "829:\tlearn: 0.2184637\ttotal: 2.26s\tremaining: 463ms\n",
            "830:\tlearn: 0.2183447\ttotal: 2.26s\tremaining: 460ms\n",
            "831:\tlearn: 0.2181185\ttotal: 2.26s\tremaining: 457ms\n",
            "832:\tlearn: 0.2179230\ttotal: 2.26s\tremaining: 454ms\n",
            "833:\tlearn: 0.2177289\ttotal: 2.26s\tremaining: 451ms\n",
            "834:\tlearn: 0.2174576\ttotal: 2.26s\tremaining: 448ms\n",
            "835:\tlearn: 0.2173258\ttotal: 2.27s\tremaining: 445ms\n",
            "836:\tlearn: 0.2171739\ttotal: 2.27s\tremaining: 442ms\n",
            "837:\tlearn: 0.2169270\ttotal: 2.27s\tremaining: 439ms\n",
            "838:\tlearn: 0.2166864\ttotal: 2.27s\tremaining: 436ms\n",
            "839:\tlearn: 0.2164157\ttotal: 2.27s\tremaining: 433ms\n",
            "840:\tlearn: 0.2163378\ttotal: 2.27s\tremaining: 430ms\n",
            "841:\tlearn: 0.2162199\ttotal: 2.27s\tremaining: 427ms\n",
            "842:\tlearn: 0.2158899\ttotal: 2.27s\tremaining: 424ms\n",
            "843:\tlearn: 0.2158699\ttotal: 2.28s\tremaining: 421ms\n",
            "844:\tlearn: 0.2157586\ttotal: 2.28s\tremaining: 418ms\n",
            "845:\tlearn: 0.2155410\ttotal: 2.28s\tremaining: 415ms\n",
            "846:\tlearn: 0.2153727\ttotal: 2.28s\tremaining: 412ms\n",
            "847:\tlearn: 0.2151920\ttotal: 2.28s\tremaining: 409ms\n",
            "848:\tlearn: 0.2148853\ttotal: 2.28s\tremaining: 406ms\n",
            "849:\tlearn: 0.2148101\ttotal: 2.28s\tremaining: 403ms\n",
            "850:\tlearn: 0.2146415\ttotal: 2.28s\tremaining: 400ms\n",
            "851:\tlearn: 0.2144046\ttotal: 2.29s\tremaining: 397ms\n",
            "852:\tlearn: 0.2143299\ttotal: 2.29s\tremaining: 394ms\n",
            "853:\tlearn: 0.2141792\ttotal: 2.29s\tremaining: 391ms\n",
            "854:\tlearn: 0.2141206\ttotal: 2.29s\tremaining: 388ms\n",
            "855:\tlearn: 0.2139337\ttotal: 2.29s\tremaining: 385ms\n",
            "856:\tlearn: 0.2136557\ttotal: 2.29s\tremaining: 382ms\n",
            "857:\tlearn: 0.2134691\ttotal: 2.29s\tremaining: 380ms\n",
            "858:\tlearn: 0.2132437\ttotal: 2.29s\tremaining: 377ms\n",
            "859:\tlearn: 0.2130466\ttotal: 2.29s\tremaining: 374ms\n",
            "860:\tlearn: 0.2129277\ttotal: 2.3s\tremaining: 371ms\n",
            "861:\tlearn: 0.2125050\ttotal: 2.3s\tremaining: 368ms\n",
            "862:\tlearn: 0.2122203\ttotal: 2.3s\tremaining: 365ms\n",
            "863:\tlearn: 0.2121312\ttotal: 2.3s\tremaining: 362ms\n",
            "864:\tlearn: 0.2120307\ttotal: 2.3s\tremaining: 359ms\n",
            "865:\tlearn: 0.2118465\ttotal: 2.31s\tremaining: 357ms\n",
            "866:\tlearn: 0.2117302\ttotal: 2.31s\tremaining: 354ms\n",
            "867:\tlearn: 0.2114227\ttotal: 2.31s\tremaining: 351ms\n",
            "868:\tlearn: 0.2113260\ttotal: 2.31s\tremaining: 349ms\n",
            "869:\tlearn: 0.2111942\ttotal: 2.31s\tremaining: 346ms\n",
            "870:\tlearn: 0.2110035\ttotal: 2.31s\tremaining: 343ms\n",
            "871:\tlearn: 0.2107816\ttotal: 2.32s\tremaining: 340ms\n",
            "872:\tlearn: 0.2104724\ttotal: 2.32s\tremaining: 337ms\n",
            "873:\tlearn: 0.2102684\ttotal: 2.32s\tremaining: 334ms\n",
            "874:\tlearn: 0.2101032\ttotal: 2.32s\tremaining: 331ms\n",
            "875:\tlearn: 0.2099989\ttotal: 2.32s\tremaining: 329ms\n",
            "876:\tlearn: 0.2099035\ttotal: 2.32s\tremaining: 326ms\n",
            "877:\tlearn: 0.2097173\ttotal: 2.32s\tremaining: 323ms\n",
            "878:\tlearn: 0.2095486\ttotal: 2.33s\tremaining: 320ms\n",
            "879:\tlearn: 0.2093830\ttotal: 2.33s\tremaining: 317ms\n",
            "880:\tlearn: 0.2092829\ttotal: 2.33s\tremaining: 314ms\n",
            "881:\tlearn: 0.2089713\ttotal: 2.33s\tremaining: 312ms\n",
            "882:\tlearn: 0.2087959\ttotal: 2.33s\tremaining: 309ms\n",
            "883:\tlearn: 0.2087119\ttotal: 2.33s\tremaining: 306ms\n",
            "884:\tlearn: 0.2086137\ttotal: 2.33s\tremaining: 303ms\n",
            "885:\tlearn: 0.2084851\ttotal: 2.33s\tremaining: 300ms\n",
            "886:\tlearn: 0.2082519\ttotal: 2.33s\tremaining: 297ms\n",
            "887:\tlearn: 0.2082281\ttotal: 2.34s\tremaining: 295ms\n",
            "888:\tlearn: 0.2080446\ttotal: 2.34s\tremaining: 292ms\n",
            "889:\tlearn: 0.2079331\ttotal: 2.34s\tremaining: 289ms\n",
            "890:\tlearn: 0.2076840\ttotal: 2.34s\tremaining: 286ms\n",
            "891:\tlearn: 0.2074361\ttotal: 2.34s\tremaining: 283ms\n",
            "892:\tlearn: 0.2072691\ttotal: 2.34s\tremaining: 281ms\n",
            "893:\tlearn: 0.2071863\ttotal: 2.34s\tremaining: 278ms\n",
            "894:\tlearn: 0.2070482\ttotal: 2.34s\tremaining: 275ms\n",
            "895:\tlearn: 0.2068719\ttotal: 2.35s\tremaining: 272ms\n",
            "896:\tlearn: 0.2068010\ttotal: 2.35s\tremaining: 270ms\n",
            "897:\tlearn: 0.2066289\ttotal: 2.35s\tremaining: 267ms\n",
            "898:\tlearn: 0.2065124\ttotal: 2.35s\tremaining: 264ms\n",
            "899:\tlearn: 0.2063746\ttotal: 2.35s\tremaining: 261ms\n",
            "900:\tlearn: 0.2060329\ttotal: 2.35s\tremaining: 258ms\n",
            "901:\tlearn: 0.2059134\ttotal: 2.35s\tremaining: 256ms\n",
            "902:\tlearn: 0.2056670\ttotal: 2.35s\tremaining: 253ms\n",
            "903:\tlearn: 0.2055800\ttotal: 2.35s\tremaining: 250ms\n",
            "904:\tlearn: 0.2054935\ttotal: 2.36s\tremaining: 247ms\n",
            "905:\tlearn: 0.2054216\ttotal: 2.36s\tremaining: 245ms\n",
            "906:\tlearn: 0.2053141\ttotal: 2.36s\tremaining: 242ms\n",
            "907:\tlearn: 0.2051578\ttotal: 2.36s\tremaining: 239ms\n",
            "908:\tlearn: 0.2051277\ttotal: 2.36s\tremaining: 237ms\n",
            "909:\tlearn: 0.2049773\ttotal: 2.36s\tremaining: 234ms\n",
            "910:\tlearn: 0.2049041\ttotal: 2.36s\tremaining: 231ms\n",
            "911:\tlearn: 0.2048033\ttotal: 2.37s\tremaining: 228ms\n",
            "912:\tlearn: 0.2046646\ttotal: 2.37s\tremaining: 226ms\n",
            "913:\tlearn: 0.2045087\ttotal: 2.37s\tremaining: 223ms\n",
            "914:\tlearn: 0.2043556\ttotal: 2.37s\tremaining: 220ms\n",
            "915:\tlearn: 0.2042029\ttotal: 2.37s\tremaining: 217ms\n",
            "916:\tlearn: 0.2041374\ttotal: 2.37s\tremaining: 215ms\n",
            "917:\tlearn: 0.2039668\ttotal: 2.37s\tremaining: 212ms\n",
            "918:\tlearn: 0.2038225\ttotal: 2.37s\tremaining: 209ms\n",
            "919:\tlearn: 0.2037351\ttotal: 2.38s\tremaining: 207ms\n",
            "920:\tlearn: 0.2035562\ttotal: 2.38s\tremaining: 204ms\n",
            "921:\tlearn: 0.2033158\ttotal: 2.38s\tremaining: 201ms\n",
            "922:\tlearn: 0.2031272\ttotal: 2.38s\tremaining: 199ms\n",
            "923:\tlearn: 0.2028653\ttotal: 2.38s\tremaining: 196ms\n",
            "924:\tlearn: 0.2027730\ttotal: 2.38s\tremaining: 193ms\n",
            "925:\tlearn: 0.2025642\ttotal: 2.38s\tremaining: 190ms\n",
            "926:\tlearn: 0.2025182\ttotal: 2.38s\tremaining: 188ms\n",
            "927:\tlearn: 0.2023242\ttotal: 2.38s\tremaining: 185ms\n",
            "928:\tlearn: 0.2021505\ttotal: 2.39s\tremaining: 182ms\n",
            "929:\tlearn: 0.2019405\ttotal: 2.39s\tremaining: 180ms\n",
            "930:\tlearn: 0.2018581\ttotal: 2.39s\tremaining: 177ms\n",
            "931:\tlearn: 0.2015040\ttotal: 2.39s\tremaining: 175ms\n",
            "932:\tlearn: 0.2012963\ttotal: 2.39s\tremaining: 172ms\n",
            "933:\tlearn: 0.2011157\ttotal: 2.39s\tremaining: 169ms\n",
            "934:\tlearn: 0.2010048\ttotal: 2.4s\tremaining: 167ms\n",
            "935:\tlearn: 0.2008797\ttotal: 2.4s\tremaining: 164ms\n",
            "936:\tlearn: 0.2006119\ttotal: 2.4s\tremaining: 161ms\n",
            "937:\tlearn: 0.2003997\ttotal: 2.4s\tremaining: 159ms\n",
            "938:\tlearn: 0.2002994\ttotal: 2.4s\tremaining: 156ms\n",
            "939:\tlearn: 0.2001781\ttotal: 2.4s\tremaining: 153ms\n",
            "940:\tlearn: 0.2001108\ttotal: 2.4s\tremaining: 151ms\n",
            "941:\tlearn: 0.1998029\ttotal: 2.4s\tremaining: 148ms\n",
            "942:\tlearn: 0.1996730\ttotal: 2.4s\tremaining: 145ms\n",
            "943:\tlearn: 0.1996001\ttotal: 2.41s\tremaining: 143ms\n",
            "944:\tlearn: 0.1995043\ttotal: 2.41s\tremaining: 140ms\n",
            "945:\tlearn: 0.1993791\ttotal: 2.41s\tremaining: 138ms\n",
            "946:\tlearn: 0.1993067\ttotal: 2.41s\tremaining: 135ms\n",
            "947:\tlearn: 0.1991825\ttotal: 2.41s\tremaining: 132ms\n",
            "948:\tlearn: 0.1991477\ttotal: 2.41s\tremaining: 130ms\n",
            "949:\tlearn: 0.1989893\ttotal: 2.41s\tremaining: 127ms\n",
            "950:\tlearn: 0.1989476\ttotal: 2.42s\tremaining: 124ms\n",
            "951:\tlearn: 0.1988571\ttotal: 2.42s\tremaining: 122ms\n",
            "952:\tlearn: 0.1987463\ttotal: 2.42s\tremaining: 119ms\n",
            "953:\tlearn: 0.1985914\ttotal: 2.42s\tremaining: 117ms\n",
            "954:\tlearn: 0.1984601\ttotal: 2.42s\tremaining: 114ms\n",
            "955:\tlearn: 0.1983558\ttotal: 2.42s\tremaining: 111ms\n",
            "956:\tlearn: 0.1981887\ttotal: 2.42s\tremaining: 109ms\n",
            "957:\tlearn: 0.1979755\ttotal: 2.42s\tremaining: 106ms\n",
            "958:\tlearn: 0.1978122\ttotal: 2.42s\tremaining: 104ms\n",
            "959:\tlearn: 0.1976791\ttotal: 2.42s\tremaining: 101ms\n",
            "960:\tlearn: 0.1976331\ttotal: 2.43s\tremaining: 98.5ms\n",
            "961:\tlearn: 0.1974878\ttotal: 2.43s\tremaining: 95.9ms\n",
            "962:\tlearn: 0.1973825\ttotal: 2.43s\tremaining: 93.3ms\n",
            "963:\tlearn: 0.1973230\ttotal: 2.43s\tremaining: 90.8ms\n",
            "964:\tlearn: 0.1970565\ttotal: 2.43s\tremaining: 88.2ms\n",
            "965:\tlearn: 0.1969765\ttotal: 2.43s\tremaining: 85.7ms\n",
            "966:\tlearn: 0.1967186\ttotal: 2.44s\tremaining: 83.1ms\n",
            "967:\tlearn: 0.1965649\ttotal: 2.44s\tremaining: 80.5ms\n",
            "968:\tlearn: 0.1964461\ttotal: 2.44s\tremaining: 78ms\n",
            "969:\tlearn: 0.1962676\ttotal: 2.44s\tremaining: 75.4ms\n",
            "970:\tlearn: 0.1961347\ttotal: 2.44s\tremaining: 72.9ms\n",
            "971:\tlearn: 0.1960023\ttotal: 2.44s\tremaining: 70.3ms\n",
            "972:\tlearn: 0.1958286\ttotal: 2.44s\tremaining: 67.8ms\n",
            "973:\tlearn: 0.1956880\ttotal: 2.44s\tremaining: 65.2ms\n",
            "974:\tlearn: 0.1955273\ttotal: 2.44s\tremaining: 62.7ms\n",
            "975:\tlearn: 0.1954718\ttotal: 2.45s\tremaining: 60.2ms\n",
            "976:\tlearn: 0.1954058\ttotal: 2.45s\tremaining: 57.6ms\n",
            "977:\tlearn: 0.1953148\ttotal: 2.45s\tremaining: 55.1ms\n",
            "978:\tlearn: 0.1951338\ttotal: 2.45s\tremaining: 52.6ms\n",
            "979:\tlearn: 0.1950429\ttotal: 2.46s\tremaining: 50.1ms\n",
            "980:\tlearn: 0.1950004\ttotal: 2.46s\tremaining: 47.6ms\n",
            "981:\tlearn: 0.1948226\ttotal: 2.46s\tremaining: 45.1ms\n",
            "982:\tlearn: 0.1946439\ttotal: 2.46s\tremaining: 42.5ms\n",
            "983:\tlearn: 0.1945826\ttotal: 2.46s\tremaining: 40ms\n",
            "984:\tlearn: 0.1944658\ttotal: 2.46s\tremaining: 37.5ms\n",
            "985:\tlearn: 0.1943315\ttotal: 2.46s\tremaining: 35ms\n",
            "986:\tlearn: 0.1941699\ttotal: 2.46s\tremaining: 32.5ms\n",
            "987:\tlearn: 0.1939214\ttotal: 2.46s\tremaining: 29.9ms\n",
            "988:\tlearn: 0.1937600\ttotal: 2.47s\tremaining: 27.4ms\n",
            "989:\tlearn: 0.1936543\ttotal: 2.47s\tremaining: 24.9ms\n",
            "990:\tlearn: 0.1935242\ttotal: 2.47s\tremaining: 22.4ms\n",
            "991:\tlearn: 0.1933722\ttotal: 2.47s\tremaining: 19.9ms\n",
            "992:\tlearn: 0.1932137\ttotal: 2.47s\tremaining: 17.4ms\n",
            "993:\tlearn: 0.1931190\ttotal: 2.47s\tremaining: 14.9ms\n",
            "994:\tlearn: 0.1930025\ttotal: 2.47s\tremaining: 12.4ms\n",
            "995:\tlearn: 0.1929036\ttotal: 2.48s\tremaining: 9.94ms\n",
            "996:\tlearn: 0.1927199\ttotal: 2.48s\tremaining: 7.45ms\n",
            "997:\tlearn: 0.1927060\ttotal: 2.48s\tremaining: 4.96ms\n",
            "998:\tlearn: 0.1926449\ttotal: 2.48s\tremaining: 2.48ms\n",
            "999:\tlearn: 0.1925922\ttotal: 2.48s\tremaining: 0us\n"
          ]
        }
      ]
    },
    {
      "cell_type": "code",
      "source": [
        "y_pred = catb_model.predict(X_test)\n",
        "accuracy_score(y_test,y_pred)"
      ],
      "metadata": {
        "colab": {
          "base_uri": "https://localhost:8080/"
        },
        "id": "0AD_iCcuYnLl",
        "outputId": "1f31da02-3822-4cef-8696-26f4b085844d"
      },
      "execution_count": 136,
      "outputs": [
        {
          "output_type": "execute_result",
          "data": {
            "text/plain": [
              "0.7402597402597403"
            ]
          },
          "metadata": {},
          "execution_count": 136
        }
      ]
    },
    {
      "cell_type": "code",
      "source": [
        "catb = CatBoostClassifier()\n"
      ],
      "metadata": {
        "id": "aRIGlh_VY9nm"
      },
      "execution_count": 137,
      "outputs": []
    },
    {
      "cell_type": "code",
      "source": [
        "catb_params = {\"iterations\":[200,500,100],\n",
        "              \"learning_rate\":[0.01,0.1],\n",
        "              \"depth\":[3,6,8]}"
      ],
      "metadata": {
        "id": "SCNY24OdY-us"
      },
      "execution_count": 138,
      "outputs": []
    },
    {
      "cell_type": "code",
      "source": [
        "catb_cv_model = GridSearchCV(catb,\n",
        "                          catb_params,\n",
        "                          cv=5,\n",
        "                          n_jobs=-1,\n",
        "                          verbose = 2).fit(X_train,y_train)"
      ],
      "metadata": {
        "colab": {
          "base_uri": "https://localhost:8080/"
        },
        "id": "BnAcZUEjZAD8",
        "outputId": "c5d8ac5c-fe16-4611-8d19-d3e7256eb518"
      },
      "execution_count": 139,
      "outputs": [
        {
          "output_type": "stream",
          "name": "stdout",
          "text": [
            "Fitting 5 folds for each of 18 candidates, totalling 90 fits\n",
            "0:\tlearn: 0.6863312\ttotal: 3.04ms\tremaining: 606ms\n",
            "1:\tlearn: 0.6811157\ttotal: 6.16ms\tremaining: 610ms\n",
            "2:\tlearn: 0.6752970\ttotal: 8.43ms\tremaining: 554ms\n",
            "3:\tlearn: 0.6697432\ttotal: 10.7ms\tremaining: 527ms\n",
            "4:\tlearn: 0.6641758\ttotal: 13.2ms\tremaining: 513ms\n",
            "5:\tlearn: 0.6576656\ttotal: 15.3ms\tremaining: 495ms\n",
            "6:\tlearn: 0.6521870\ttotal: 17.8ms\tremaining: 491ms\n",
            "7:\tlearn: 0.6465564\ttotal: 20.2ms\tremaining: 485ms\n",
            "8:\tlearn: 0.6407595\ttotal: 22.7ms\tremaining: 482ms\n",
            "9:\tlearn: 0.6357725\ttotal: 25.1ms\tremaining: 477ms\n",
            "10:\tlearn: 0.6299942\ttotal: 27.5ms\tremaining: 473ms\n",
            "11:\tlearn: 0.6240480\ttotal: 30ms\tremaining: 470ms\n",
            "12:\tlearn: 0.6196095\ttotal: 32.5ms\tremaining: 467ms\n",
            "13:\tlearn: 0.6148715\ttotal: 35ms\tremaining: 465ms\n",
            "14:\tlearn: 0.6092626\ttotal: 37.6ms\tremaining: 463ms\n",
            "15:\tlearn: 0.6046764\ttotal: 40ms\tremaining: 460ms\n",
            "16:\tlearn: 0.6012725\ttotal: 42.4ms\tremaining: 456ms\n",
            "17:\tlearn: 0.5958121\ttotal: 44.9ms\tremaining: 454ms\n",
            "18:\tlearn: 0.5903243\ttotal: 47.2ms\tremaining: 450ms\n",
            "19:\tlearn: 0.5866024\ttotal: 49.7ms\tremaining: 447ms\n",
            "20:\tlearn: 0.5831390\ttotal: 52.2ms\tremaining: 445ms\n",
            "21:\tlearn: 0.5787381\ttotal: 54.7ms\tremaining: 442ms\n",
            "22:\tlearn: 0.5749016\ttotal: 57.1ms\tremaining: 440ms\n",
            "23:\tlearn: 0.5703199\ttotal: 59.8ms\tremaining: 438ms\n",
            "24:\tlearn: 0.5662368\ttotal: 63.3ms\tremaining: 443ms\n",
            "25:\tlearn: 0.5628682\ttotal: 66.1ms\tremaining: 442ms\n",
            "26:\tlearn: 0.5589082\ttotal: 68.9ms\tremaining: 442ms\n",
            "27:\tlearn: 0.5543910\ttotal: 71.5ms\tremaining: 439ms\n",
            "28:\tlearn: 0.5503864\ttotal: 74.3ms\tremaining: 438ms\n",
            "29:\tlearn: 0.5470574\ttotal: 77ms\tremaining: 436ms\n",
            "30:\tlearn: 0.5441267\ttotal: 79.5ms\tremaining: 433ms\n",
            "31:\tlearn: 0.5396280\ttotal: 82ms\tremaining: 430ms\n",
            "32:\tlearn: 0.5356242\ttotal: 84.7ms\tremaining: 429ms\n",
            "33:\tlearn: 0.5315397\ttotal: 87.3ms\tremaining: 426ms\n",
            "34:\tlearn: 0.5279847\ttotal: 90ms\tremaining: 424ms\n",
            "35:\tlearn: 0.5248380\ttotal: 92.5ms\tremaining: 421ms\n",
            "36:\tlearn: 0.5223885\ttotal: 95.2ms\tremaining: 419ms\n",
            "37:\tlearn: 0.5198269\ttotal: 97.7ms\tremaining: 416ms\n",
            "38:\tlearn: 0.5167431\ttotal: 100ms\tremaining: 414ms\n",
            "39:\tlearn: 0.5138833\ttotal: 103ms\tremaining: 412ms\n",
            "40:\tlearn: 0.5101494\ttotal: 106ms\tremaining: 409ms\n",
            "41:\tlearn: 0.5066102\ttotal: 108ms\tremaining: 407ms\n",
            "42:\tlearn: 0.5033714\ttotal: 111ms\tremaining: 404ms\n",
            "43:\tlearn: 0.5005898\ttotal: 113ms\tremaining: 402ms\n",
            "44:\tlearn: 0.4980703\ttotal: 116ms\tremaining: 400ms\n",
            "45:\tlearn: 0.4959251\ttotal: 119ms\tremaining: 397ms\n",
            "46:\tlearn: 0.4933987\ttotal: 121ms\tremaining: 395ms\n",
            "47:\tlearn: 0.4906194\ttotal: 124ms\tremaining: 392ms\n",
            "48:\tlearn: 0.4878359\ttotal: 126ms\tremaining: 389ms\n",
            "49:\tlearn: 0.4850755\ttotal: 129ms\tremaining: 387ms\n",
            "50:\tlearn: 0.4825927\ttotal: 132ms\tremaining: 385ms\n",
            "51:\tlearn: 0.4798298\ttotal: 134ms\tremaining: 382ms\n",
            "52:\tlearn: 0.4776108\ttotal: 137ms\tremaining: 379ms\n",
            "53:\tlearn: 0.4754405\ttotal: 139ms\tremaining: 377ms\n",
            "54:\tlearn: 0.4733501\ttotal: 142ms\tremaining: 374ms\n",
            "55:\tlearn: 0.4706076\ttotal: 144ms\tremaining: 371ms\n",
            "56:\tlearn: 0.4677355\ttotal: 147ms\tremaining: 368ms\n",
            "57:\tlearn: 0.4656740\ttotal: 149ms\tremaining: 366ms\n",
            "58:\tlearn: 0.4637413\ttotal: 152ms\tremaining: 363ms\n",
            "59:\tlearn: 0.4615248\ttotal: 154ms\tremaining: 360ms\n",
            "60:\tlearn: 0.4599759\ttotal: 157ms\tremaining: 357ms\n",
            "61:\tlearn: 0.4583985\ttotal: 158ms\tremaining: 351ms\n",
            "62:\tlearn: 0.4567064\ttotal: 160ms\tremaining: 348ms\n",
            "63:\tlearn: 0.4540942\ttotal: 163ms\tremaining: 346ms\n",
            "64:\tlearn: 0.4529822\ttotal: 163ms\tremaining: 340ms\n",
            "65:\tlearn: 0.4512090\ttotal: 166ms\tremaining: 337ms\n",
            "66:\tlearn: 0.4486739\ttotal: 169ms\tremaining: 335ms\n",
            "67:\tlearn: 0.4467865\ttotal: 171ms\tremaining: 332ms\n",
            "68:\tlearn: 0.4449614\ttotal: 173ms\tremaining: 329ms\n",
            "69:\tlearn: 0.4426120\ttotal: 176ms\tremaining: 327ms\n",
            "70:\tlearn: 0.4401612\ttotal: 179ms\tremaining: 324ms\n",
            "71:\tlearn: 0.4380696\ttotal: 181ms\tremaining: 322ms\n",
            "72:\tlearn: 0.4367153\ttotal: 184ms\tremaining: 320ms\n",
            "73:\tlearn: 0.4353223\ttotal: 187ms\tremaining: 318ms\n",
            "74:\tlearn: 0.4339943\ttotal: 189ms\tremaining: 315ms\n",
            "75:\tlearn: 0.4315641\ttotal: 192ms\tremaining: 313ms\n",
            "76:\tlearn: 0.4298680\ttotal: 194ms\tremaining: 310ms\n",
            "77:\tlearn: 0.4285275\ttotal: 198ms\tremaining: 310ms\n",
            "78:\tlearn: 0.4265791\ttotal: 204ms\tremaining: 312ms\n",
            "79:\tlearn: 0.4244024\ttotal: 206ms\tremaining: 309ms\n",
            "80:\tlearn: 0.4228361\ttotal: 209ms\tremaining: 307ms\n",
            "81:\tlearn: 0.4214212\ttotal: 212ms\tremaining: 304ms\n",
            "82:\tlearn: 0.4200602\ttotal: 214ms\tremaining: 302ms\n",
            "83:\tlearn: 0.4184320\ttotal: 217ms\tremaining: 299ms\n",
            "84:\tlearn: 0.4167986\ttotal: 219ms\tremaining: 297ms\n",
            "85:\tlearn: 0.4156404\ttotal: 222ms\tremaining: 294ms\n",
            "86:\tlearn: 0.4140656\ttotal: 224ms\tremaining: 291ms\n",
            "87:\tlearn: 0.4124223\ttotal: 227ms\tremaining: 289ms\n",
            "88:\tlearn: 0.4107329\ttotal: 230ms\tremaining: 287ms\n",
            "89:\tlearn: 0.4090922\ttotal: 232ms\tremaining: 284ms\n",
            "90:\tlearn: 0.4075416\ttotal: 235ms\tremaining: 282ms\n",
            "91:\tlearn: 0.4062399\ttotal: 238ms\tremaining: 279ms\n",
            "92:\tlearn: 0.4044658\ttotal: 240ms\tremaining: 276ms\n",
            "93:\tlearn: 0.4030179\ttotal: 243ms\tremaining: 274ms\n",
            "94:\tlearn: 0.4012034\ttotal: 245ms\tremaining: 271ms\n",
            "95:\tlearn: 0.3994677\ttotal: 248ms\tremaining: 269ms\n",
            "96:\tlearn: 0.3983236\ttotal: 251ms\tremaining: 266ms\n",
            "97:\tlearn: 0.3969830\ttotal: 253ms\tremaining: 263ms\n",
            "98:\tlearn: 0.3955620\ttotal: 256ms\tremaining: 261ms\n",
            "99:\tlearn: 0.3946122\ttotal: 258ms\tremaining: 258ms\n",
            "100:\tlearn: 0.3932345\ttotal: 261ms\tremaining: 256ms\n",
            "101:\tlearn: 0.3920746\ttotal: 263ms\tremaining: 253ms\n",
            "102:\tlearn: 0.3911707\ttotal: 266ms\tremaining: 250ms\n",
            "103:\tlearn: 0.3895752\ttotal: 268ms\tremaining: 248ms\n",
            "104:\tlearn: 0.3880976\ttotal: 271ms\tremaining: 245ms\n",
            "105:\tlearn: 0.3867508\ttotal: 273ms\tremaining: 242ms\n",
            "106:\tlearn: 0.3855281\ttotal: 276ms\tremaining: 240ms\n",
            "107:\tlearn: 0.3841015\ttotal: 278ms\tremaining: 237ms\n",
            "108:\tlearn: 0.3829276\ttotal: 281ms\tremaining: 234ms\n",
            "109:\tlearn: 0.3818795\ttotal: 283ms\tremaining: 232ms\n",
            "110:\tlearn: 0.3809667\ttotal: 286ms\tremaining: 229ms\n",
            "111:\tlearn: 0.3790017\ttotal: 288ms\tremaining: 226ms\n",
            "112:\tlearn: 0.3774333\ttotal: 291ms\tremaining: 224ms\n",
            "113:\tlearn: 0.3762372\ttotal: 293ms\tremaining: 221ms\n",
            "114:\tlearn: 0.3750418\ttotal: 296ms\tremaining: 219ms\n",
            "115:\tlearn: 0.3735203\ttotal: 298ms\tremaining: 216ms\n",
            "116:\tlearn: 0.3727671\ttotal: 301ms\tremaining: 213ms\n",
            "117:\tlearn: 0.3713847\ttotal: 303ms\tremaining: 211ms\n",
            "118:\tlearn: 0.3705588\ttotal: 306ms\tremaining: 208ms\n",
            "119:\tlearn: 0.3694386\ttotal: 308ms\tremaining: 206ms\n",
            "120:\tlearn: 0.3687438\ttotal: 311ms\tremaining: 203ms\n",
            "121:\tlearn: 0.3679429\ttotal: 313ms\tremaining: 200ms\n",
            "122:\tlearn: 0.3666192\ttotal: 316ms\tremaining: 198ms\n",
            "123:\tlearn: 0.3654787\ttotal: 318ms\tremaining: 195ms\n",
            "124:\tlearn: 0.3643185\ttotal: 321ms\tremaining: 192ms\n",
            "125:\tlearn: 0.3636195\ttotal: 324ms\tremaining: 191ms\n",
            "126:\tlearn: 0.3625184\ttotal: 328ms\tremaining: 189ms\n",
            "127:\tlearn: 0.3609778\ttotal: 331ms\tremaining: 186ms\n",
            "128:\tlearn: 0.3595979\ttotal: 333ms\tremaining: 183ms\n",
            "129:\tlearn: 0.3583702\ttotal: 336ms\tremaining: 181ms\n",
            "130:\tlearn: 0.3569225\ttotal: 338ms\tremaining: 178ms\n",
            "131:\tlearn: 0.3558535\ttotal: 341ms\tremaining: 175ms\n",
            "132:\tlearn: 0.3548312\ttotal: 343ms\tremaining: 173ms\n",
            "133:\tlearn: 0.3533459\ttotal: 346ms\tremaining: 170ms\n",
            "134:\tlearn: 0.3524239\ttotal: 348ms\tremaining: 168ms\n",
            "135:\tlearn: 0.3517958\ttotal: 351ms\tremaining: 165ms\n",
            "136:\tlearn: 0.3504984\ttotal: 353ms\tremaining: 162ms\n",
            "137:\tlearn: 0.3497339\ttotal: 356ms\tremaining: 160ms\n",
            "138:\tlearn: 0.3488643\ttotal: 358ms\tremaining: 157ms\n",
            "139:\tlearn: 0.3482265\ttotal: 361ms\tremaining: 155ms\n",
            "140:\tlearn: 0.3470774\ttotal: 363ms\tremaining: 152ms\n",
            "141:\tlearn: 0.3458237\ttotal: 366ms\tremaining: 149ms\n",
            "142:\tlearn: 0.3445470\ttotal: 368ms\tremaining: 147ms\n",
            "143:\tlearn: 0.3436377\ttotal: 371ms\tremaining: 144ms\n",
            "144:\tlearn: 0.3426585\ttotal: 373ms\tremaining: 141ms\n",
            "145:\tlearn: 0.3417233\ttotal: 375ms\tremaining: 139ms\n",
            "146:\tlearn: 0.3407541\ttotal: 378ms\tremaining: 136ms\n",
            "147:\tlearn: 0.3397798\ttotal: 380ms\tremaining: 134ms\n",
            "148:\tlearn: 0.3390128\ttotal: 383ms\tremaining: 131ms\n",
            "149:\tlearn: 0.3381272\ttotal: 385ms\tremaining: 128ms\n",
            "150:\tlearn: 0.3374740\ttotal: 388ms\tremaining: 126ms\n",
            "151:\tlearn: 0.3365500\ttotal: 390ms\tremaining: 123ms\n",
            "152:\tlearn: 0.3358489\ttotal: 393ms\tremaining: 121ms\n",
            "153:\tlearn: 0.3346096\ttotal: 396ms\tremaining: 118ms\n",
            "154:\tlearn: 0.3335622\ttotal: 402ms\tremaining: 117ms\n",
            "155:\tlearn: 0.3330435\ttotal: 404ms\tremaining: 114ms\n",
            "156:\tlearn: 0.3323843\ttotal: 407ms\tremaining: 111ms\n",
            "157:\tlearn: 0.3312172\ttotal: 409ms\tremaining: 109ms\n",
            "158:\tlearn: 0.3299437\ttotal: 412ms\tremaining: 106ms\n",
            "159:\tlearn: 0.3286515\ttotal: 414ms\tremaining: 103ms\n",
            "160:\tlearn: 0.3275885\ttotal: 416ms\tremaining: 101ms\n",
            "161:\tlearn: 0.3266739\ttotal: 419ms\tremaining: 98.2ms\n",
            "162:\tlearn: 0.3258986\ttotal: 421ms\tremaining: 95.6ms\n",
            "163:\tlearn: 0.3249133\ttotal: 424ms\tremaining: 93ms\n",
            "164:\tlearn: 0.3241480\ttotal: 426ms\tremaining: 90.4ms\n",
            "165:\tlearn: 0.3237404\ttotal: 429ms\tremaining: 87.8ms\n",
            "166:\tlearn: 0.3228217\ttotal: 431ms\tremaining: 85.2ms\n",
            "167:\tlearn: 0.3218088\ttotal: 434ms\tremaining: 82.6ms\n",
            "168:\tlearn: 0.3209179\ttotal: 436ms\tremaining: 80ms\n",
            "169:\tlearn: 0.3200101\ttotal: 439ms\tremaining: 77.4ms\n",
            "170:\tlearn: 0.3188984\ttotal: 442ms\tremaining: 75ms\n",
            "171:\tlearn: 0.3178642\ttotal: 445ms\tremaining: 72.4ms\n",
            "172:\tlearn: 0.3172455\ttotal: 447ms\tremaining: 69.8ms\n",
            "173:\tlearn: 0.3166261\ttotal: 450ms\tremaining: 67.2ms\n",
            "174:\tlearn: 0.3157320\ttotal: 452ms\tremaining: 64.6ms\n",
            "175:\tlearn: 0.3149761\ttotal: 455ms\tremaining: 62ms\n",
            "176:\tlearn: 0.3142430\ttotal: 457ms\tremaining: 59.4ms\n",
            "177:\tlearn: 0.3138263\ttotal: 460ms\tremaining: 56.8ms\n",
            "178:\tlearn: 0.3133229\ttotal: 462ms\tremaining: 54.2ms\n",
            "179:\tlearn: 0.3124656\ttotal: 465ms\tremaining: 51.6ms\n",
            "180:\tlearn: 0.3114844\ttotal: 467ms\tremaining: 49ms\n",
            "181:\tlearn: 0.3109799\ttotal: 470ms\tremaining: 46.4ms\n",
            "182:\tlearn: 0.3105137\ttotal: 474ms\tremaining: 44ms\n",
            "183:\tlearn: 0.3094123\ttotal: 476ms\tremaining: 41.4ms\n",
            "184:\tlearn: 0.3087045\ttotal: 479ms\tremaining: 38.8ms\n",
            "185:\tlearn: 0.3079423\ttotal: 481ms\tremaining: 36.2ms\n",
            "186:\tlearn: 0.3071831\ttotal: 484ms\tremaining: 33.6ms\n",
            "187:\tlearn: 0.3061123\ttotal: 486ms\tremaining: 31ms\n",
            "188:\tlearn: 0.3054302\ttotal: 489ms\tremaining: 28.5ms\n",
            "189:\tlearn: 0.3048047\ttotal: 491ms\tremaining: 25.8ms\n",
            "190:\tlearn: 0.3042241\ttotal: 494ms\tremaining: 23.3ms\n",
            "191:\tlearn: 0.3036602\ttotal: 496ms\tremaining: 20.7ms\n",
            "192:\tlearn: 0.3028507\ttotal: 499ms\tremaining: 18.1ms\n",
            "193:\tlearn: 0.3019733\ttotal: 501ms\tremaining: 15.5ms\n",
            "194:\tlearn: 0.3009586\ttotal: 504ms\tremaining: 12.9ms\n",
            "195:\tlearn: 0.3001835\ttotal: 506ms\tremaining: 10.3ms\n",
            "196:\tlearn: 0.2999266\ttotal: 508ms\tremaining: 7.73ms\n",
            "197:\tlearn: 0.2993811\ttotal: 510ms\tremaining: 5.15ms\n",
            "198:\tlearn: 0.2986293\ttotal: 513ms\tremaining: 2.58ms\n",
            "199:\tlearn: 0.2980044\ttotal: 515ms\tremaining: 0us\n"
          ]
        }
      ]
    },
    {
      "cell_type": "code",
      "source": [
        "catb_cv_model.best_params_\n"
      ],
      "metadata": {
        "colab": {
          "base_uri": "https://localhost:8080/"
        },
        "id": "g3TCcQxWZC0o",
        "outputId": "1cce7ce7-fca0-4812-9f5c-125fa28dae4c"
      },
      "execution_count": 140,
      "outputs": [
        {
          "output_type": "execute_result",
          "data": {
            "text/plain": [
              "{'depth': 8, 'iterations': 200, 'learning_rate': 0.01}"
            ]
          },
          "metadata": {},
          "execution_count": 140
        }
      ]
    },
    {
      "cell_type": "code",
      "source": [
        "catb_tuned = CatBoostClassifier(depth=8,\n",
        "                              iterations=200,\n",
        "                              learning_rate=0.01).fit(X_train,y_train)"
      ],
      "metadata": {
        "colab": {
          "base_uri": "https://localhost:8080/"
        },
        "id": "CgEnT2MWZDoq",
        "outputId": "3d4eccad-64b7-4b2c-9e1c-7a6506f30164"
      },
      "execution_count": 141,
      "outputs": [
        {
          "output_type": "stream",
          "name": "stdout",
          "text": [
            "0:\tlearn: 0.6863312\ttotal: 2.98ms\tremaining: 593ms\n",
            "1:\tlearn: 0.6811157\ttotal: 5.84ms\tremaining: 578ms\n",
            "2:\tlearn: 0.6752970\ttotal: 8.31ms\tremaining: 546ms\n",
            "3:\tlearn: 0.6697432\ttotal: 10.8ms\tremaining: 529ms\n",
            "4:\tlearn: 0.6641758\ttotal: 13.3ms\tremaining: 519ms\n",
            "5:\tlearn: 0.6576656\ttotal: 15.8ms\tremaining: 510ms\n",
            "6:\tlearn: 0.6521870\ttotal: 18.3ms\tremaining: 503ms\n",
            "7:\tlearn: 0.6465564\ttotal: 20.7ms\tremaining: 496ms\n",
            "8:\tlearn: 0.6407595\ttotal: 23.4ms\tremaining: 496ms\n",
            "9:\tlearn: 0.6357725\ttotal: 26.6ms\tremaining: 505ms\n",
            "10:\tlearn: 0.6299942\ttotal: 29ms\tremaining: 499ms\n",
            "11:\tlearn: 0.6240480\ttotal: 31.4ms\tremaining: 493ms\n",
            "12:\tlearn: 0.6196095\ttotal: 33.9ms\tremaining: 488ms\n",
            "13:\tlearn: 0.6148715\ttotal: 36.4ms\tremaining: 484ms\n",
            "14:\tlearn: 0.6092626\ttotal: 38.9ms\tremaining: 480ms\n",
            "15:\tlearn: 0.6046764\ttotal: 41.3ms\tremaining: 475ms\n",
            "16:\tlearn: 0.6012725\ttotal: 43.7ms\tremaining: 471ms\n",
            "17:\tlearn: 0.5958121\ttotal: 46.2ms\tremaining: 468ms\n",
            "18:\tlearn: 0.5903243\ttotal: 48.6ms\tremaining: 463ms\n",
            "19:\tlearn: 0.5866024\ttotal: 51ms\tremaining: 459ms\n",
            "20:\tlearn: 0.5831390\ttotal: 53.6ms\tremaining: 457ms\n",
            "21:\tlearn: 0.5787381\ttotal: 56.1ms\tremaining: 454ms\n",
            "22:\tlearn: 0.5749016\ttotal: 58.5ms\tremaining: 450ms\n",
            "23:\tlearn: 0.5703199\ttotal: 61.1ms\tremaining: 448ms\n",
            "24:\tlearn: 0.5662368\ttotal: 63.5ms\tremaining: 445ms\n",
            "25:\tlearn: 0.5628682\ttotal: 66ms\tremaining: 442ms\n",
            "26:\tlearn: 0.5589082\ttotal: 68.5ms\tremaining: 439ms\n",
            "27:\tlearn: 0.5543910\ttotal: 70.9ms\tremaining: 436ms\n",
            "28:\tlearn: 0.5503864\ttotal: 73.4ms\tremaining: 433ms\n",
            "29:\tlearn: 0.5470574\ttotal: 75.8ms\tremaining: 429ms\n",
            "30:\tlearn: 0.5441267\ttotal: 78.2ms\tremaining: 426ms\n",
            "31:\tlearn: 0.5396280\ttotal: 80.6ms\tremaining: 423ms\n",
            "32:\tlearn: 0.5356242\ttotal: 83.2ms\tremaining: 421ms\n",
            "33:\tlearn: 0.5315397\ttotal: 85.7ms\tremaining: 418ms\n",
            "34:\tlearn: 0.5279847\ttotal: 88.1ms\tremaining: 415ms\n",
            "35:\tlearn: 0.5248380\ttotal: 90.5ms\tremaining: 412ms\n",
            "36:\tlearn: 0.5223885\ttotal: 93.2ms\tremaining: 411ms\n",
            "37:\tlearn: 0.5198269\ttotal: 95.6ms\tremaining: 408ms\n",
            "38:\tlearn: 0.5167431\ttotal: 98ms\tremaining: 405ms\n",
            "39:\tlearn: 0.5138833\ttotal: 100ms\tremaining: 402ms\n",
            "40:\tlearn: 0.5101494\ttotal: 103ms\tremaining: 399ms\n",
            "41:\tlearn: 0.5066102\ttotal: 105ms\tremaining: 397ms\n",
            "42:\tlearn: 0.5033714\ttotal: 108ms\tremaining: 394ms\n",
            "43:\tlearn: 0.5005898\ttotal: 110ms\tremaining: 391ms\n",
            "44:\tlearn: 0.4980703\ttotal: 113ms\tremaining: 389ms\n",
            "45:\tlearn: 0.4959251\ttotal: 115ms\tremaining: 386ms\n",
            "46:\tlearn: 0.4933987\ttotal: 118ms\tremaining: 384ms\n",
            "47:\tlearn: 0.4906194\ttotal: 120ms\tremaining: 381ms\n",
            "48:\tlearn: 0.4878359\ttotal: 123ms\tremaining: 379ms\n",
            "49:\tlearn: 0.4850755\ttotal: 125ms\tremaining: 376ms\n",
            "50:\tlearn: 0.4825927\ttotal: 128ms\tremaining: 373ms\n",
            "51:\tlearn: 0.4798298\ttotal: 130ms\tremaining: 371ms\n",
            "52:\tlearn: 0.4776108\ttotal: 133ms\tremaining: 368ms\n",
            "53:\tlearn: 0.4754405\ttotal: 135ms\tremaining: 366ms\n",
            "54:\tlearn: 0.4733501\ttotal: 138ms\tremaining: 363ms\n",
            "55:\tlearn: 0.4706076\ttotal: 140ms\tremaining: 360ms\n",
            "56:\tlearn: 0.4677355\ttotal: 143ms\tremaining: 358ms\n",
            "57:\tlearn: 0.4656740\ttotal: 145ms\tremaining: 356ms\n",
            "58:\tlearn: 0.4637413\ttotal: 148ms\tremaining: 353ms\n",
            "59:\tlearn: 0.4615248\ttotal: 151ms\tremaining: 353ms\n",
            "60:\tlearn: 0.4599759\ttotal: 154ms\tremaining: 351ms\n",
            "61:\tlearn: 0.4583985\ttotal: 155ms\tremaining: 345ms\n",
            "62:\tlearn: 0.4567064\ttotal: 158ms\tremaining: 343ms\n",
            "63:\tlearn: 0.4540942\ttotal: 160ms\tremaining: 340ms\n",
            "64:\tlearn: 0.4529822\ttotal: 161ms\tremaining: 334ms\n",
            "65:\tlearn: 0.4512090\ttotal: 164ms\tremaining: 332ms\n",
            "66:\tlearn: 0.4486739\ttotal: 166ms\tremaining: 330ms\n",
            "67:\tlearn: 0.4467865\ttotal: 169ms\tremaining: 327ms\n",
            "68:\tlearn: 0.4449614\ttotal: 171ms\tremaining: 325ms\n",
            "69:\tlearn: 0.4426120\ttotal: 174ms\tremaining: 323ms\n",
            "70:\tlearn: 0.4401612\ttotal: 176ms\tremaining: 320ms\n",
            "71:\tlearn: 0.4380696\ttotal: 179ms\tremaining: 318ms\n",
            "72:\tlearn: 0.4367153\ttotal: 182ms\tremaining: 316ms\n",
            "73:\tlearn: 0.4353223\ttotal: 184ms\tremaining: 314ms\n",
            "74:\tlearn: 0.4339943\ttotal: 187ms\tremaining: 311ms\n",
            "75:\tlearn: 0.4315641\ttotal: 189ms\tremaining: 309ms\n",
            "76:\tlearn: 0.4298680\ttotal: 192ms\tremaining: 306ms\n",
            "77:\tlearn: 0.4285275\ttotal: 195ms\tremaining: 305ms\n",
            "78:\tlearn: 0.4265791\ttotal: 199ms\tremaining: 305ms\n",
            "79:\tlearn: 0.4244024\ttotal: 202ms\tremaining: 304ms\n",
            "80:\tlearn: 0.4228361\ttotal: 207ms\tremaining: 304ms\n",
            "81:\tlearn: 0.4214212\ttotal: 209ms\tremaining: 301ms\n",
            "82:\tlearn: 0.4200602\ttotal: 212ms\tremaining: 299ms\n",
            "83:\tlearn: 0.4184320\ttotal: 215ms\tremaining: 297ms\n",
            "84:\tlearn: 0.4167986\ttotal: 218ms\tremaining: 294ms\n",
            "85:\tlearn: 0.4156404\ttotal: 220ms\tremaining: 292ms\n",
            "86:\tlearn: 0.4140656\ttotal: 223ms\tremaining: 289ms\n",
            "87:\tlearn: 0.4124223\ttotal: 225ms\tremaining: 287ms\n",
            "88:\tlearn: 0.4107329\ttotal: 228ms\tremaining: 284ms\n",
            "89:\tlearn: 0.4090922\ttotal: 230ms\tremaining: 282ms\n",
            "90:\tlearn: 0.4075416\ttotal: 233ms\tremaining: 279ms\n",
            "91:\tlearn: 0.4062399\ttotal: 236ms\tremaining: 277ms\n",
            "92:\tlearn: 0.4044658\ttotal: 238ms\tremaining: 274ms\n",
            "93:\tlearn: 0.4030179\ttotal: 241ms\tremaining: 272ms\n",
            "94:\tlearn: 0.4012034\ttotal: 245ms\tremaining: 271ms\n",
            "95:\tlearn: 0.3994677\ttotal: 248ms\tremaining: 269ms\n",
            "96:\tlearn: 0.3983236\ttotal: 251ms\tremaining: 266ms\n",
            "97:\tlearn: 0.3969830\ttotal: 253ms\tremaining: 264ms\n",
            "98:\tlearn: 0.3955620\ttotal: 256ms\tremaining: 261ms\n",
            "99:\tlearn: 0.3946122\ttotal: 258ms\tremaining: 258ms\n",
            "100:\tlearn: 0.3932345\ttotal: 261ms\tremaining: 256ms\n",
            "101:\tlearn: 0.3920746\ttotal: 263ms\tremaining: 253ms\n",
            "102:\tlearn: 0.3911707\ttotal: 266ms\tremaining: 251ms\n",
            "103:\tlearn: 0.3895752\ttotal: 269ms\tremaining: 248ms\n",
            "104:\tlearn: 0.3880976\ttotal: 271ms\tremaining: 245ms\n",
            "105:\tlearn: 0.3867508\ttotal: 274ms\tremaining: 243ms\n",
            "106:\tlearn: 0.3855281\ttotal: 277ms\tremaining: 240ms\n",
            "107:\tlearn: 0.3841015\ttotal: 279ms\tremaining: 238ms\n",
            "108:\tlearn: 0.3829276\ttotal: 282ms\tremaining: 235ms\n",
            "109:\tlearn: 0.3818795\ttotal: 284ms\tremaining: 232ms\n",
            "110:\tlearn: 0.3809667\ttotal: 287ms\tremaining: 230ms\n",
            "111:\tlearn: 0.3790017\ttotal: 289ms\tremaining: 227ms\n",
            "112:\tlearn: 0.3774333\ttotal: 292ms\tremaining: 225ms\n",
            "113:\tlearn: 0.3762372\ttotal: 295ms\tremaining: 222ms\n",
            "114:\tlearn: 0.3750418\ttotal: 298ms\tremaining: 220ms\n",
            "115:\tlearn: 0.3735203\ttotal: 300ms\tremaining: 217ms\n",
            "116:\tlearn: 0.3727671\ttotal: 303ms\tremaining: 215ms\n",
            "117:\tlearn: 0.3713847\ttotal: 305ms\tremaining: 212ms\n",
            "118:\tlearn: 0.3705588\ttotal: 308ms\tremaining: 210ms\n",
            "119:\tlearn: 0.3694386\ttotal: 310ms\tremaining: 207ms\n",
            "120:\tlearn: 0.3687438\ttotal: 313ms\tremaining: 204ms\n",
            "121:\tlearn: 0.3679429\ttotal: 315ms\tremaining: 202ms\n",
            "122:\tlearn: 0.3666192\ttotal: 318ms\tremaining: 199ms\n",
            "123:\tlearn: 0.3654787\ttotal: 320ms\tremaining: 196ms\n",
            "124:\tlearn: 0.3643185\ttotal: 323ms\tremaining: 194ms\n",
            "125:\tlearn: 0.3636195\ttotal: 326ms\tremaining: 191ms\n",
            "126:\tlearn: 0.3625184\ttotal: 328ms\tremaining: 189ms\n",
            "127:\tlearn: 0.3609778\ttotal: 331ms\tremaining: 186ms\n",
            "128:\tlearn: 0.3595979\ttotal: 333ms\tremaining: 184ms\n",
            "129:\tlearn: 0.3583702\ttotal: 336ms\tremaining: 181ms\n",
            "130:\tlearn: 0.3569225\ttotal: 339ms\tremaining: 178ms\n",
            "131:\tlearn: 0.3558535\ttotal: 341ms\tremaining: 176ms\n",
            "132:\tlearn: 0.3548312\ttotal: 343ms\tremaining: 173ms\n",
            "133:\tlearn: 0.3533459\ttotal: 346ms\tremaining: 170ms\n",
            "134:\tlearn: 0.3524239\ttotal: 349ms\tremaining: 168ms\n",
            "135:\tlearn: 0.3517958\ttotal: 351ms\tremaining: 165ms\n",
            "136:\tlearn: 0.3504984\ttotal: 354ms\tremaining: 163ms\n",
            "137:\tlearn: 0.3497339\ttotal: 356ms\tremaining: 160ms\n",
            "138:\tlearn: 0.3488643\ttotal: 359ms\tremaining: 157ms\n",
            "139:\tlearn: 0.3482265\ttotal: 361ms\tremaining: 155ms\n",
            "140:\tlearn: 0.3470774\ttotal: 364ms\tremaining: 152ms\n",
            "141:\tlearn: 0.3458237\ttotal: 366ms\tremaining: 150ms\n",
            "142:\tlearn: 0.3445470\ttotal: 370ms\tremaining: 147ms\n",
            "143:\tlearn: 0.3436377\ttotal: 373ms\tremaining: 145ms\n",
            "144:\tlearn: 0.3426585\ttotal: 377ms\tremaining: 143ms\n",
            "145:\tlearn: 0.3417233\ttotal: 380ms\tremaining: 140ms\n",
            "146:\tlearn: 0.3407541\ttotal: 382ms\tremaining: 138ms\n",
            "147:\tlearn: 0.3397798\ttotal: 385ms\tremaining: 135ms\n",
            "148:\tlearn: 0.3390128\ttotal: 388ms\tremaining: 133ms\n",
            "149:\tlearn: 0.3381272\ttotal: 390ms\tremaining: 130ms\n",
            "150:\tlearn: 0.3374740\ttotal: 397ms\tremaining: 129ms\n",
            "151:\tlearn: 0.3365500\ttotal: 400ms\tremaining: 126ms\n",
            "152:\tlearn: 0.3358489\ttotal: 402ms\tremaining: 124ms\n",
            "153:\tlearn: 0.3346096\ttotal: 405ms\tremaining: 121ms\n",
            "154:\tlearn: 0.3335622\ttotal: 408ms\tremaining: 118ms\n",
            "155:\tlearn: 0.3330435\ttotal: 410ms\tremaining: 116ms\n",
            "156:\tlearn: 0.3323843\ttotal: 413ms\tremaining: 113ms\n",
            "157:\tlearn: 0.3312172\ttotal: 415ms\tremaining: 110ms\n",
            "158:\tlearn: 0.3299437\ttotal: 418ms\tremaining: 108ms\n",
            "159:\tlearn: 0.3286515\ttotal: 421ms\tremaining: 105ms\n",
            "160:\tlearn: 0.3275885\ttotal: 423ms\tremaining: 103ms\n",
            "161:\tlearn: 0.3266739\ttotal: 426ms\tremaining: 99.9ms\n",
            "162:\tlearn: 0.3258986\ttotal: 429ms\tremaining: 97.3ms\n",
            "163:\tlearn: 0.3249133\ttotal: 431ms\tremaining: 94.7ms\n",
            "164:\tlearn: 0.3241480\ttotal: 434ms\tremaining: 92ms\n",
            "165:\tlearn: 0.3237404\ttotal: 437ms\tremaining: 89.4ms\n",
            "166:\tlearn: 0.3228217\ttotal: 439ms\tremaining: 86.8ms\n",
            "167:\tlearn: 0.3218088\ttotal: 442ms\tremaining: 84.1ms\n",
            "168:\tlearn: 0.3209179\ttotal: 444ms\tremaining: 81.5ms\n",
            "169:\tlearn: 0.3200101\ttotal: 447ms\tremaining: 78.9ms\n",
            "170:\tlearn: 0.3188984\ttotal: 450ms\tremaining: 76.2ms\n",
            "171:\tlearn: 0.3178642\ttotal: 453ms\tremaining: 73.7ms\n",
            "172:\tlearn: 0.3172455\ttotal: 456ms\tremaining: 71.1ms\n",
            "173:\tlearn: 0.3166261\ttotal: 458ms\tremaining: 68.5ms\n",
            "174:\tlearn: 0.3157320\ttotal: 461ms\tremaining: 65.8ms\n",
            "175:\tlearn: 0.3149761\ttotal: 463ms\tremaining: 63.2ms\n",
            "176:\tlearn: 0.3142430\ttotal: 466ms\tremaining: 60.5ms\n",
            "177:\tlearn: 0.3138263\ttotal: 469ms\tremaining: 57.9ms\n",
            "178:\tlearn: 0.3133229\ttotal: 471ms\tremaining: 55.3ms\n",
            "179:\tlearn: 0.3124656\ttotal: 474ms\tremaining: 52.7ms\n",
            "180:\tlearn: 0.3114844\ttotal: 477ms\tremaining: 50ms\n",
            "181:\tlearn: 0.3109799\ttotal: 479ms\tremaining: 47.4ms\n",
            "182:\tlearn: 0.3105137\ttotal: 482ms\tremaining: 44.8ms\n",
            "183:\tlearn: 0.3094123\ttotal: 485ms\tremaining: 42.1ms\n",
            "184:\tlearn: 0.3087045\ttotal: 487ms\tremaining: 39.5ms\n",
            "185:\tlearn: 0.3079423\ttotal: 490ms\tremaining: 36.9ms\n",
            "186:\tlearn: 0.3071831\ttotal: 493ms\tremaining: 34.3ms\n",
            "187:\tlearn: 0.3061123\ttotal: 495ms\tremaining: 31.6ms\n",
            "188:\tlearn: 0.3054302\ttotal: 498ms\tremaining: 29ms\n",
            "189:\tlearn: 0.3048047\ttotal: 500ms\tremaining: 26.3ms\n",
            "190:\tlearn: 0.3042241\ttotal: 503ms\tremaining: 23.7ms\n",
            "191:\tlearn: 0.3036602\ttotal: 506ms\tremaining: 21.1ms\n",
            "192:\tlearn: 0.3028507\ttotal: 508ms\tremaining: 18.4ms\n",
            "193:\tlearn: 0.3019733\ttotal: 512ms\tremaining: 15.8ms\n",
            "194:\tlearn: 0.3009586\ttotal: 516ms\tremaining: 13.2ms\n",
            "195:\tlearn: 0.3001835\ttotal: 518ms\tremaining: 10.6ms\n",
            "196:\tlearn: 0.2999266\ttotal: 520ms\tremaining: 7.92ms\n",
            "197:\tlearn: 0.2993811\ttotal: 523ms\tremaining: 5.28ms\n",
            "198:\tlearn: 0.2986293\ttotal: 526ms\tremaining: 2.64ms\n",
            "199:\tlearn: 0.2980044\ttotal: 528ms\tremaining: 0us\n"
          ]
        }
      ]
    },
    {
      "cell_type": "code",
      "source": [
        "y_pred = catb_tuned.predict(X_test)\n",
        "accuracy_score(y_test,y_pred)"
      ],
      "metadata": {
        "colab": {
          "base_uri": "https://localhost:8080/"
        },
        "id": "VCYyJLhvZFcW",
        "outputId": "91965199-c426-4f8e-8f54-f05b52243878"
      },
      "execution_count": 144,
      "outputs": [
        {
          "output_type": "execute_result",
          "data": {
            "text/plain": [
              "0.7532467532467533"
            ]
          },
          "metadata": {},
          "execution_count": 144
        }
      ]
    },
    {
      "cell_type": "code",
      "source": [
        "feature_imp = pd.Series(catb_tuned.feature_importances_,\n",
        "                         index=X_train.columns).sort_values(ascending=False)\n",
        "\n",
        "sns.barplot(x=feature_imp,y=feature_imp.index)\n",
        "plt.xlabel('Variable Importance Score')\n",
        "plt.ylabel('Variables')\n",
        "plt.title(\"Importance\")\n",
        "plt.show()"
      ],
      "metadata": {
        "colab": {
          "base_uri": "https://localhost:8080/",
          "height": 295
        },
        "id": "4hmDQK59ZGry",
        "outputId": "a2e4bd6e-91fa-4219-f5f0-20e2aa64af7f"
      },
      "execution_count": 143,
      "outputs": [
        {
          "output_type": "display_data",
          "data": {
            "text/plain": [
              "<Figure size 432x288 with 1 Axes>"
            ],
            "image/png": "[encoded data removed]"
          },
          "metadata": {
            "needs_background": "light"
          }
        }
      ]
    },
    {
      "cell_type": "code",
      "source": [
        "modeller = [knn_tuned,\n",
        "           loj_model,\n",
        "           svm_tuned,\n",
        "           mlp_tuned,\n",
        "           cart_tuned,\n",
        "           rf_tuned,\n",
        "           gbm_tuned,\n",
        "           catb_tuned,\n",
        "           lgb_tuned,\n",
        "            xgb_tuned]\n",
        "sonuc = []\n",
        "sonuclar = pd.DataFrame(columns = [\"Modeller\",\"Accuracy\"])\n",
        "for model in modeller:\n",
        "    isimler = model.__class__.__name__\n",
        "    y_pred = model.predict(X_test)\n",
        "    dogruluk = accuracy_score(y_test,y_pred)\n",
        "    sonuc = pd.DataFrame([[isimler,dogruluk*100]],columns = [\"Modeller\",\"Accuracy\"])\n",
        "    sonuclar = sonuclar.append(sonuc)"
      ],
      "metadata": {
        "id": "030y6D3FavKf"
      },
      "execution_count": 145,
      "outputs": []
    },
    {
      "cell_type": "code",
      "source": [
        "sonuclar"
      ],
      "metadata": {
        "colab": {
          "base_uri": "https://localhost:8080/",
          "height": 363
        },
        "id": "cjUwUONVaywg",
        "outputId": "ff12aade-6457-4fc3-9259-01543dde124c"
      },
      "execution_count": 148,
      "outputs": [
        {
          "output_type": "execute_result",
          "data": {
            "text/plain": [
              "                     Modeller   Accuracy\n",
              "0        KNeighborsClassifier  73.160173\n",
              "0          LogisticRegression  75.324675\n",
              "0                         SVC  74.458874\n",
              "0               MLPClassifier  74.891775\n",
              "0      DecisionTreeClassifier  75.324675\n",
              "0      RandomForestClassifier  74.458874\n",
              "0  GradientBoostingClassifier  73.160173\n",
              "0          CatBoostClassifier  75.324675\n",
              "0              LGBMClassifier  75.757576\n",
              "0               XGBClassifier  74.891775"
            ],
            "text/html": [
              "\n",
              "  <div id=\"df-d151c68e-48be-47de-ba2e-1afc110899f2\">\n",
              "    <div class=\"colab-df-container\">\n",
              "      <div>\n",
              "<style scoped>\n",
              "    .dataframe tbody tr th:only-of-type {\n",
              "        vertical-align: middle;\n",
              "    }\n",
              "\n",
              "    .dataframe tbody tr th {\n",
              "        vertical-align: top;\n",
              "    }\n",
              "\n",
              "    .dataframe thead th {\n",
              "        text-align: right;\n",
              "    }\n",
              "</style>\n",
              "<table border=\"1\" class=\"dataframe\">\n",
              "  <thead>\n",
              "    <tr style=\"text-align: right;\">\n",
              "      <th></th>\n",
              "      <th>Modeller</th>\n",
              "      <th>Accuracy</th>\n",
              "    </tr>\n",
              "  </thead>\n",
              "  <tbody>\n",
              "    <tr>\n",
              "      <th>0</th>\n",
              "      <td>KNeighborsClassifier</td>\n",
              "      <td>73.160173</td>\n",
              "    </tr>\n",
              "    <tr>\n",
              "      <th>0</th>\n",
              "      <td>LogisticRegression</td>\n",
              "      <td>75.324675</td>\n",
              "    </tr>\n",
              "    <tr>\n",
              "      <th>0</th>\n",
              "      <td>SVC</td>\n",
              "      <td>74.458874</td>\n",
              "    </tr>\n",
              "    <tr>\n",
              "      <th>0</th>\n",
              "      <td>MLPClassifier</td>\n",
              "      <td>74.891775</td>\n",
              "    </tr>\n",
              "    <tr>\n",
              "      <th>0</th>\n",
              "      <td>DecisionTreeClassifier</td>\n",
              "      <td>75.324675</td>\n",
              "    </tr>\n",
              "    <tr>\n",
              "      <th>0</th>\n",
              "      <td>RandomForestClassifier</td>\n",
              "      <td>74.458874</td>\n",
              "    </tr>\n",
              "    <tr>\n",
              "      <th>0</th>\n",
              "      <td>GradientBoostingClassifier</td>\n",
              "      <td>73.160173</td>\n",
              "    </tr>\n",
              "    <tr>\n",
              "      <th>0</th>\n",
              "      <td>CatBoostClassifier</td>\n",
              "      <td>75.324675</td>\n",
              "    </tr>\n",
              "    <tr>\n",
              "      <th>0</th>\n",
              "      <td>LGBMClassifier</td>\n",
              "      <td>75.757576</td>\n",
              "    </tr>\n",
              "    <tr>\n",
              "      <th>0</th>\n",
              "      <td>XGBClassifier</td>\n",
              "      <td>74.891775</td>\n",
              "    </tr>\n",
              "  </tbody>\n",
              "</table>\n",
              "</div>\n",
              "      <button class=\"colab-df-convert\" onclick=\"convertToInteractive('df-d151c68e-48be-47de-ba2e-1afc110899f2')\"\n",
              "              title=\"Convert this dataframe to an interactive table.\"\n",
              "              style=\"display:none;\">\n",
              "        \n",
              "  <svg xmlns=\"http://www.w3.org/2000/svg\" height=\"24px\"viewBox=\"0 0 24 24\"\n",
              "       width=\"24px\">\n",
              "    <path d=\"M0 0h24v24H0V0z\" fill=\"none\"/>\n",
              "    <path d=\"M18.56 5.44l.94 2.06.94-2.06 2.06-.94-2.06-.94-.94-2.06-.94 2.06-2.06.94zm-11 1L8.5 8.5l.94-2.06 2.06-.94-2.06-.94L8.5 2.5l-.94 2.06-2.06.94zm10 10l.94 2.06.94-2.06 2.06-.94-2.06-.94-.94-2.06-.94 2.06-2.06.94z\"/><path d=\"M17.41 7.96l-1.37-1.37c-.4-.4-.92-.59-1.43-.59-.52 0-1.04.2-1.43.59L10.3 9.45l-7.72 7.72c-.78.78-.78 2.05 0 2.83L4 21.41c.39.39.9.59 1.41.59.51 0 1.02-.2 1.41-.59l7.78-7.78 2.81-2.81c.8-.78.8-2.07 0-2.86zM5.41 20L4 18.59l7.72-7.72 1.47 1.35L5.41 20z\"/>\n",
              "  </svg>\n",
              "      </button>\n",
              "      \n",
              "  <style>\n",
              "    .colab-df-container {\n",
              "      display:flex;\n",
              "      flex-wrap:wrap;\n",
              "      gap: 12px;\n",
              "    }\n",
              "\n",
              "    .colab-df-convert {\n",
              "      background-color: #E8F0FE;\n",
              "      border: none;\n",
              "      border-radius: 50%;\n",
              "      cursor: pointer;\n",
              "      display: none;\n",
              "      fill: #1967D2;\n",
              "      height: 32px;\n",
              "      padding: 0 0 0 0;\n",
              "      width: 32px;\n",
              "    }\n",
              "\n",
              "    .colab-df-convert:hover {\n",
              "      background-color: #E2EBFA;\n",
              "      box-shadow: 0px 1px 2px rgba(60, 64, 67, 0.3), 0px 1px 3px 1px rgba(60, 64, 67, 0.15);\n",
              "      fill: #174EA6;\n",
              "    }\n",
              "\n",
              "    [theme=dark] .colab-df-convert {\n",
              "      background-color: #3B4455;\n",
              "      fill: #D2E3FC;\n",
              "    }\n",
              "\n",
              "    [theme=dark] .colab-df-convert:hover {\n",
              "      background-color: #434B5C;\n",
              "      box-shadow: 0px 1px 3px 1px rgba(0, 0, 0, 0.15);\n",
              "      filter: drop-shadow(0px 1px 2px rgba(0, 0, 0, 0.3));\n",
              "      fill: #FFFFFF;\n",
              "    }\n",
              "  </style>\n",
              "\n",
              "      <script>\n",
              "        const buttonEl =\n",
              "          document.querySelector('#df-d151c68e-48be-47de-ba2e-1afc110899f2 button.colab-df-convert');\n",
              "        buttonEl.style.display =\n",
              "          google.colab.kernel.accessAllowed ? 'block' : 'none';\n",
              "\n",
              "        async function convertToInteractive(key) {\n",
              "          const element = document.querySelector('#df-d151c68e-48be-47de-ba2e-1afc110899f2');\n",
              "          const dataTable =\n",
              "            await google.colab.kernel.invokeFunction('convertToInteractive',\n",
              "                                                     [key], {});\n",
              "          if (!dataTable) return;\n",
              "\n",
              "          const docLinkHtml = 'Like what you see? Visit the ' +\n",
              "            '<a target=\"_blank\" href=https://colab.research.google.com/notebooks/data_table.ipynb>data table notebook</a>'\n",
              "            + ' to learn more about interactive tables.';\n",
              "          element.innerHTML = '';\n",
              "          dataTable['output_type'] = 'display_data';\n",
              "          await google.colab.output.renderOutput(dataTable, element);\n",
              "          const docLink = document.createElement('div');\n",
              "          docLink.innerHTML = docLinkHtml;\n",
              "          element.appendChild(docLink);\n",
              "        }\n",
              "      </script>\n",
              "    </div>\n",
              "  </div>\n",
              "  "
            ]
          },
          "metadata": {},
          "execution_count": 148
        }
      ]
    },
    {
      "cell_type": "code",
      "source": [
        "sns.barplot(x=\"Accuracy\",y=\"Modeller\",data=sonuclar,color=\"b\")\n",
        "plt.xlabel(\"Accuracy Yüzde\")\n",
        "plt.title(\"Doğruluk Oranları\");"
      ],
      "metadata": {
        "colab": {
          "base_uri": "https://localhost:8080/",
          "height": 295
        },
        "id": "fEjSqAG2a6rb",
        "outputId": "5b3c6450-1592-4438-e3b4-c84a15382edc"
      },
      "execution_count": 149,
      "outputs": [
        {
          "output_type": "display_data",
          "data": {
            "text/plain": [
              "<Figure size 432x288 with 1 Axes>"
            ],
            "image/png": "[encoded data removed]"
          },
          "metadata": {
            "needs_background": "light"
          }
        }
      ]
    }
  ]
}